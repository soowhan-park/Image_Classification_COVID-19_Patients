{
 "cells": [
  {
   "cell_type": "markdown",
   "metadata": {
    "nbpresent": {
     "id": "1d234e3f-af8b-4757-83f3-241b04b7a511"
    }
   },
   "source": [
    "# Class Challenge: Image Classification of COVID-19 X-rays\n",
    "# Task 2 [Total points: 30]"
   ]
  },
  {
   "cell_type": "markdown",
   "metadata": {
    "nbpresent": {
     "id": "b07b9992-b592-4871-9f9a-3b0ae5fa8b5f"
    }
   },
   "source": [
    "## Setup\n",
    "\n",
    "* This assignment involves the following packages: 'matplotlib', 'numpy', and 'sklearn'. \n",
    "\n",
    "* If you are using conda, use the following commands to install the above packages:<br>\n",
    "```shell\n",
    "conda install matplotlib\n",
    "conda install numpy\n",
    "conda install -c anaconda scikit-learn\n",
    "```\n",
    "\n",
    "* If you are using pip, use use the following commands to install the above packages: <br> \n",
    "```shell\n",
    "pip install matplotlib\n",
    "pip install numpy\n",
    "pip install sklearn\n",
    "```"
   ]
  },
  {
   "cell_type": "markdown",
   "metadata": {
    "nbpresent": {
     "id": "5516f610-f00c-43c3-bf19-4cf7ab9c089f"
    }
   },
   "source": [
    "## Data\n",
    "\n",
    "Please download the data using the following link: [COVID-19](https://drive.google.com/file/d/1Y88tgqpQ1Pjko_7rntcPowOJs_QNOrJ-/view). \n",
    "\n",
    "* After downloading 'Covid_Data_GradientCrescent.zip', unzip the file and you should see the following data structure:\n",
    "\n",
    "\n",
    "|--all<br>\n",
    "|--------train<br>\n",
    "|--------test<br>\n",
    "|--two<br>\n",
    "|--------train<br>\n",
    "|--------test<br>\n",
    "\n",
    "\n",
    "* Put the 'all' folder, the 'two' folder and this python notebook in the **same directory** so that the following code can correctly locate the data.  \n",
    "\n"
   ]
  },
  {
   "cell_type": "markdown",
   "metadata": {
    "nbpresent": {
     "id": "66140980-2aa4-457f-b1df-74c10c234cc2"
    }
   },
   "source": [
    "## [20 points] Multi-class Classification"
   ]
  },
  {
   "cell_type": "code",
   "execution_count": 1,
   "metadata": {
    "nbpresent": {
     "id": "5e05f980-3d14-4367-b3d1-664249145b13"
    },
    "scrolled": true
   },
   "outputs": [
    {
     "data": {
      "text/plain": [
       "'2.3.1'"
      ]
     },
     "execution_count": 1,
     "metadata": {},
     "output_type": "execute_result"
    }
   ],
   "source": [
    "import os\n",
    "\n",
    "import tensorflow as tf\n",
    "import numpy as np\n",
    "import matplotlib.pyplot as plt\n",
    "from tensorflow.keras.preprocessing.image import ImageDataGenerator\n",
    "\n",
    "os.environ['OMP_NUM_THREADS'] = '1'\n",
    "os.environ['CUDA_VISIBLE_DEVICES'] = '-1'\n",
    "tf.__version__"
   ]
  },
  {
   "cell_type": "markdown",
   "metadata": {
    "nbpresent": {
     "id": "66140980-2aa4-457f-b1df-74c10c234cc2"
    }
   },
   "source": [
    "#### Load Image Data"
   ]
  },
  {
   "cell_type": "code",
   "execution_count": 2,
   "metadata": {
    "nbpresent": {
     "id": "58317664-8da3-4283-b3e5-35721687e7ab"
    }
   },
   "outputs": [],
   "source": [
    "DATA_LIST = os.listdir('all/train')\n",
    "DATASET_PATH  = 'all/train'\n",
    "TEST_DIR =  'all/test'\n",
    "IMAGE_SIZE    = (224, 224)\n",
    "NUM_CLASSES   = len(DATA_LIST)\n",
    "BATCH_SIZE    = 10  # try reducing batch size or freeze more layers if your GPU runs out of memory\n",
    "NUM_EPOCHS    = 100\n",
    "LEARNING_RATE = 0.0001 # start off with high rate first 0.001 and experiment with reducing it gradually "
   ]
  },
  {
   "cell_type": "markdown",
   "metadata": {
    "nbpresent": {
     "id": "66140980-2aa4-457f-b1df-74c10c234cc2"
    }
   },
   "source": [
    "#### Generate Training and Validation Batches"
   ]
  },
  {
   "cell_type": "code",
   "execution_count": 31,
   "metadata": {
    "nbpresent": {
     "id": "71760e29-2b08-4259-93f1-ebe68cd74a6d"
    }
   },
   "outputs": [
    {
     "name": "stdout",
     "output_type": "stream",
     "text": [
      "Found 216 images belonging to 4 classes.\n",
      "Found 54 images belonging to 4 classes.\n"
     ]
    }
   ],
   "source": [
    "train_datagen = ImageDataGenerator(rescale=1./255,rotation_range=50,featurewise_center = True,\n",
    "                                   featurewise_std_normalization = True,width_shift_range=0.2,\n",
    "                                   height_shift_range=0.2,shear_range=0.25,zoom_range=0.1,\n",
    "                                   zca_whitening = True,channel_shift_range = 20,\n",
    "                                   horizontal_flip = True,vertical_flip = True,\n",
    "                                   validation_split = 0.2,fill_mode='constant')\n",
    "\n",
    "\n",
    "train_batches = train_datagen.flow_from_directory(DATASET_PATH,target_size=IMAGE_SIZE,\n",
    "                                                  shuffle=True,batch_size=BATCH_SIZE,\n",
    "                                                  subset = \"training\",seed=42,\n",
    "                                                  class_mode=\"categorical\")\n",
    "\n",
    "valid_batches = train_datagen.flow_from_directory(DATASET_PATH,target_size=IMAGE_SIZE,\n",
    "                                                  shuffle=True,batch_size=BATCH_SIZE,\n",
    "                                                  subset = \"validation\",\n",
    "                                                  seed=42,class_mode=\"categorical\")"
   ]
  },
  {
   "cell_type": "markdown",
   "metadata": {
    "nbpresent": {
     "id": "66140980-2aa4-457f-b1df-74c10c234cc2"
    }
   },
   "source": [
    "#### [10 points] Build Model\n",
    "Hint: Starting from a pre-trained model typically helps performance on a new task, e.g. starting with weights obtained by training on ImageNet. "
   ]
  },
  {
   "cell_type": "code",
   "execution_count": 8,
   "metadata": {
    "nbpresent": {
     "id": "5c52eeb2-1092-4d45-9e16-02219c82cb5e"
    }
   },
   "outputs": [
    {
     "name": "stdout",
     "output_type": "stream",
     "text": [
      "Model: \"sequential_2\"\n",
      "_________________________________________________________________\n",
      "Layer (type)                 Output Shape              Param #   \n",
      "=================================================================\n",
      "vgg16 (Functional)           (None, 7, 7, 512)         14714688  \n",
      "_________________________________________________________________\n",
      "flatten_2 (Flatten)          (None, 25088)             0         \n",
      "_________________________________________________________________\n",
      "feature_dense (Dense)        (None, 256)               6422784   \n",
      "_________________________________________________________________\n",
      "dropout_4 (Dropout)          (None, 256)               0         \n",
      "_________________________________________________________________\n",
      "dense_3 (Dense)              (None, 256)               65792     \n",
      "_________________________________________________________________\n",
      "dropout_5 (Dropout)          (None, 256)               0         \n",
      "_________________________________________________________________\n",
      "dense_4 (Dense)              (None, 4)                 1028      \n",
      "=================================================================\n",
      "Total params: 21,204,292\n",
      "Trainable params: 6,489,604\n",
      "Non-trainable params: 14,714,688\n",
      "_________________________________________________________________\n"
     ]
    }
   ],
   "source": [
    "checkpoint_filepath = 'all/'\n",
    "checkpoint = tf.keras.callbacks.ModelCheckpoint(checkpoint_filepath,\n",
    "                            monitor='val_accuracy',\n",
    "                            verbose=1,\n",
    "                            save_best_only=True,\n",
    "                            save_weights_only=True,\n",
    "                            mode='max')\n",
    "    \n",
    "\n",
    "\n",
    "\n",
    "vgg16 = tf.keras.applications.VGG16(weights='imagenet', include_top=False, input_shape = (224,224,3))\n",
    "vgg16.trainable = False\n",
    "model = tf.keras.models.Sequential([\n",
    "    vgg16,\n",
    "    tf.keras.layers.Flatten(),\n",
    "    tf.keras.layers.Dense(256,activation='relu',name='feature_dense'),\n",
    "    tf.keras.layers.Dropout(0.25),\n",
    "    tf.keras.layers.Dense(256,activation='relu'),\n",
    "    tf.keras.layers.Dropout(0.25),\n",
    "    tf.keras.layers.Dense(4,activation='softmax')\n",
    "])\n",
    "model.summary()\n",
    "opt = tf.keras.optimizers.Adam(learning_rate=LEARNING_RATE)\n",
    "model.compile(optimizer=opt,\n",
    "                loss=tf.keras.losses.CategoricalCrossentropy(from_logits=False),\n",
    "                metrics=['accuracy'])"
   ]
  },
  {
   "cell_type": "markdown",
   "metadata": {
    "nbpresent": {
     "id": "66140980-2aa4-457f-b1df-74c10c234cc2"
    }
   },
   "source": [
    "#### [5 points] Train Model"
   ]
  },
  {
   "cell_type": "code",
   "execution_count": 9,
   "metadata": {
    "nbpresent": {
     "id": "cdb90d24-6a23-4969-8138-f37e7050062d"
    }
   },
   "outputs": [
    {
     "name": "stderr",
     "output_type": "stream",
     "text": [
      "C:\\Users\\Soo Whan Park\\Anaconda3\\lib\\site-packages\\keras_preprocessing\\image\\image_data_generator.py:720: UserWarning: This ImageDataGenerator specifies `featurewise_center`, but it hasn't been fit on any training data. Fit it first by calling `.fit(numpy_data)`.\n",
      "  warnings.warn('This ImageDataGenerator specifies '\n",
      "C:\\Users\\Soo Whan Park\\Anaconda3\\lib\\site-packages\\keras_preprocessing\\image\\image_data_generator.py:739: UserWarning: This ImageDataGenerator specifies `zca_whitening`, but it hasn't been fit on any training data. Fit it first by calling `.fit(numpy_data)`.\n",
      "  warnings.warn('This ImageDataGenerator specifies '\n"
     ]
    },
    {
     "name": "stdout",
     "output_type": "stream",
     "text": [
      "Epoch 1/100\n",
      "21/21 [==============================] - ETA: 0s - loss: 2.3386 - accuracy: 0.2233\n",
      "Epoch 00001: val_accuracy improved from -inf to 0.24000, saving model to all\\\n",
      "21/21 [==============================] - 24s 1s/step - loss: 2.3386 - accuracy: 0.2233 - val_loss: 1.4334 - val_accuracy: 0.2400\n",
      "Epoch 2/100\n",
      "21/21 [==============================] - ETA: 0s - loss: 1.6696 - accuracy: 0.1748\n",
      "Epoch 00002: val_accuracy improved from 0.24000 to 0.28000, saving model to all\\\n",
      "21/21 [==============================] - 24s 1s/step - loss: 1.6696 - accuracy: 0.1748 - val_loss: 1.4295 - val_accuracy: 0.2800\n",
      "Epoch 3/100\n",
      "21/21 [==============================] - ETA: 0s - loss: 1.4390 - accuracy: 0.2670\n",
      "Epoch 00003: val_accuracy improved from 0.28000 to 0.32000, saving model to all\\\n",
      "21/21 [==============================] - 26s 1s/step - loss: 1.4390 - accuracy: 0.2670 - val_loss: 1.3384 - val_accuracy: 0.3200\n",
      "Epoch 4/100\n",
      "21/21 [==============================] - ETA: 0s - loss: 1.5222 - accuracy: 0.2087\n",
      "Epoch 00004: val_accuracy did not improve from 0.32000\n",
      "21/21 [==============================] - 28s 1s/step - loss: 1.5222 - accuracy: 0.2087 - val_loss: 1.4195 - val_accuracy: 0.2000\n",
      "Epoch 5/100\n",
      "21/21 [==============================] - ETA: 0s - loss: 1.3983 - accuracy: 0.2961\n",
      "Epoch 00005: val_accuracy improved from 0.32000 to 0.36000, saving model to all\\\n",
      "21/21 [==============================] - 27s 1s/step - loss: 1.3983 - accuracy: 0.2961 - val_loss: 1.2719 - val_accuracy: 0.3600\n",
      "Epoch 6/100\n",
      "21/21 [==============================] - ETA: 0s - loss: 1.3972 - accuracy: 0.3350\n",
      "Epoch 00006: val_accuracy improved from 0.36000 to 0.50000, saving model to all\\\n",
      "21/21 [==============================] - 26s 1s/step - loss: 1.3972 - accuracy: 0.3350 - val_loss: 1.3120 - val_accuracy: 0.5000\n",
      "Epoch 7/100\n",
      "21/21 [==============================] - ETA: 0s - loss: 1.3875 - accuracy: 0.2864\n",
      "Epoch 00007: val_accuracy did not improve from 0.50000\n",
      "21/21 [==============================] - 26s 1s/step - loss: 1.3875 - accuracy: 0.2864 - val_loss: 1.2724 - val_accuracy: 0.4600\n",
      "Epoch 8/100\n",
      "21/21 [==============================] - ETA: 0s - loss: 1.3991 - accuracy: 0.2427\n",
      "Epoch 00008: val_accuracy improved from 0.50000 to 0.56000, saving model to all\\\n",
      "21/21 [==============================] - 27s 1s/step - loss: 1.3991 - accuracy: 0.2427 - val_loss: 1.2641 - val_accuracy: 0.5600\n",
      "Epoch 9/100\n",
      "21/21 [==============================] - ETA: 0s - loss: 1.2930 - accuracy: 0.4078\n",
      "Epoch 00009: val_accuracy did not improve from 0.56000\n",
      "21/21 [==============================] - 29s 1s/step - loss: 1.2930 - accuracy: 0.4078 - val_loss: 1.1943 - val_accuracy: 0.4800\n",
      "Epoch 10/100\n",
      "21/21 [==============================] - ETA: 0s - loss: 1.2927 - accuracy: 0.3883\n",
      "Epoch 00010: val_accuracy did not improve from 0.56000\n",
      "21/21 [==============================] - 28s 1s/step - loss: 1.2927 - accuracy: 0.3883 - val_loss: 1.1837 - val_accuracy: 0.5000\n",
      "Epoch 11/100\n",
      "21/21 [==============================] - ETA: 0s - loss: 1.2880 - accuracy: 0.4029\n",
      "Epoch 00011: val_accuracy did not improve from 0.56000\n",
      "21/21 [==============================] - 28s 1s/step - loss: 1.2880 - accuracy: 0.4029 - val_loss: 1.1386 - val_accuracy: 0.4800\n",
      "Epoch 12/100\n",
      "21/21 [==============================] - ETA: 0s - loss: 1.2908 - accuracy: 0.3107\n",
      "Epoch 00012: val_accuracy did not improve from 0.56000\n",
      "21/21 [==============================] - 29s 1s/step - loss: 1.2908 - accuracy: 0.3107 - val_loss: 1.1361 - val_accuracy: 0.4600\n",
      "Epoch 13/100\n",
      "21/21 [==============================] - ETA: 0s - loss: 1.1756 - accuracy: 0.4417\n",
      "Epoch 00013: val_accuracy did not improve from 0.56000\n",
      "21/21 [==============================] - 32s 2s/step - loss: 1.1756 - accuracy: 0.4417 - val_loss: 1.1594 - val_accuracy: 0.5200\n",
      "Epoch 14/100\n",
      "21/21 [==============================] - ETA: 0s - loss: 1.2124 - accuracy: 0.4806\n",
      "Epoch 00014: val_accuracy did not improve from 0.56000\n",
      "21/21 [==============================] - 30s 1s/step - loss: 1.2124 - accuracy: 0.4806 - val_loss: 1.0917 - val_accuracy: 0.5400\n",
      "Epoch 15/100\n",
      "21/21 [==============================] - ETA: 0s - loss: 1.1365 - accuracy: 0.4806\n",
      "Epoch 00015: val_accuracy did not improve from 0.56000\n",
      "21/21 [==============================] - 26s 1s/step - loss: 1.1365 - accuracy: 0.4806 - val_loss: 1.0398 - val_accuracy: 0.5600\n",
      "Epoch 16/100\n",
      "21/21 [==============================] - ETA: 0s - loss: 1.1815 - accuracy: 0.3981\n",
      "Epoch 00016: val_accuracy did not improve from 0.56000\n",
      "21/21 [==============================] - 26s 1s/step - loss: 1.1815 - accuracy: 0.3981 - val_loss: 1.0460 - val_accuracy: 0.5400\n",
      "Epoch 17/100\n",
      "21/21 [==============================] - ETA: 0s - loss: 1.1585 - accuracy: 0.4515\n",
      "Epoch 00017: val_accuracy did not improve from 0.56000\n",
      "21/21 [==============================] - 27s 1s/step - loss: 1.1585 - accuracy: 0.4515 - val_loss: 1.0350 - val_accuracy: 0.4800\n",
      "Epoch 18/100\n",
      "21/21 [==============================] - ETA: 0s - loss: 1.1748 - accuracy: 0.4563\n",
      "Epoch 00018: val_accuracy did not improve from 0.56000\n",
      "21/21 [==============================] - 27s 1s/step - loss: 1.1748 - accuracy: 0.4563 - val_loss: 1.0427 - val_accuracy: 0.5000\n",
      "Epoch 19/100\n",
      "21/21 [==============================] - ETA: 0s - loss: 1.1208 - accuracy: 0.4903\n",
      "Epoch 00019: val_accuracy improved from 0.56000 to 0.58000, saving model to all\\\n",
      "21/21 [==============================] - 27s 1s/step - loss: 1.1208 - accuracy: 0.4903 - val_loss: 1.0154 - val_accuracy: 0.5800\n",
      "Epoch 20/100\n",
      "21/21 [==============================] - ETA: 0s - loss: 1.1206 - accuracy: 0.4951\n",
      "Epoch 00020: val_accuracy improved from 0.58000 to 0.60000, saving model to all\\\n",
      "21/21 [==============================] - 27s 1s/step - loss: 1.1206 - accuracy: 0.4951 - val_loss: 0.9450 - val_accuracy: 0.6000\n",
      "Epoch 21/100\n",
      "21/21 [==============================] - ETA: 0s - loss: 1.0926 - accuracy: 0.5194\n",
      "Epoch 00021: val_accuracy improved from 0.60000 to 0.62000, saving model to all\\\n",
      "21/21 [==============================] - 27s 1s/step - loss: 1.0926 - accuracy: 0.5194 - val_loss: 0.9506 - val_accuracy: 0.6200\n",
      "Epoch 22/100\n",
      "21/21 [==============================] - ETA: 0s - loss: 1.0958 - accuracy: 0.4903\n",
      "Epoch 00022: val_accuracy did not improve from 0.62000\n",
      "21/21 [==============================] - 27s 1s/step - loss: 1.0958 - accuracy: 0.4903 - val_loss: 1.0363 - val_accuracy: 0.5600\n",
      "Epoch 23/100\n",
      "21/21 [==============================] - ETA: 0s - loss: 1.1169 - accuracy: 0.5146\n",
      "Epoch 00023: val_accuracy did not improve from 0.62000\n",
      "21/21 [==============================] - 27s 1s/step - loss: 1.1169 - accuracy: 0.5146 - val_loss: 0.9716 - val_accuracy: 0.5800\n",
      "Epoch 24/100\n",
      "21/21 [==============================] - ETA: 0s - loss: 1.0666 - accuracy: 0.5291\n",
      "Epoch 00024: val_accuracy did not improve from 0.62000\n",
      "21/21 [==============================] - 27s 1s/step - loss: 1.0666 - accuracy: 0.5291 - val_loss: 0.9569 - val_accuracy: 0.5200\n",
      "Epoch 25/100\n",
      "21/21 [==============================] - ETA: 0s - loss: 1.0513 - accuracy: 0.5728\n",
      "Epoch 00025: val_accuracy did not improve from 0.62000\n",
      "21/21 [==============================] - 27s 1s/step - loss: 1.0513 - accuracy: 0.5728 - val_loss: 0.9730 - val_accuracy: 0.5400\n",
      "Epoch 26/100\n",
      "21/21 [==============================] - ETA: 0s - loss: 1.0798 - accuracy: 0.4854\n",
      "Epoch 00026: val_accuracy improved from 0.62000 to 0.64000, saving model to all\\\n",
      "21/21 [==============================] - 27s 1s/step - loss: 1.0798 - accuracy: 0.4854 - val_loss: 0.8879 - val_accuracy: 0.6400\n",
      "Epoch 27/100\n",
      "21/21 [==============================] - ETA: 0s - loss: 1.0385 - accuracy: 0.5194\n",
      "Epoch 00027: val_accuracy did not improve from 0.64000\n",
      "21/21 [==============================] - 25s 1s/step - loss: 1.0385 - accuracy: 0.5194 - val_loss: 0.9006 - val_accuracy: 0.6000\n",
      "Epoch 28/100\n",
      "21/21 [==============================] - ETA: 0s - loss: 1.0138 - accuracy: 0.5631\n",
      "Epoch 00028: val_accuracy did not improve from 0.64000\n",
      "21/21 [==============================] - 26s 1s/step - loss: 1.0138 - accuracy: 0.5631 - val_loss: 0.8848 - val_accuracy: 0.5800\n",
      "Epoch 29/100\n",
      "21/21 [==============================] - ETA: 0s - loss: 1.0282 - accuracy: 0.5243\n",
      "Epoch 00029: val_accuracy did not improve from 0.64000\n",
      "21/21 [==============================] - 26s 1s/step - loss: 1.0282 - accuracy: 0.5243 - val_loss: 0.8677 - val_accuracy: 0.6400\n"
     ]
    },
    {
     "name": "stdout",
     "output_type": "stream",
     "text": [
      "Epoch 30/100\n",
      "21/21 [==============================] - ETA: 0s - loss: 0.9748 - accuracy: 0.5922\n",
      "Epoch 00030: val_accuracy improved from 0.64000 to 0.68000, saving model to all\\\n",
      "21/21 [==============================] - 26s 1s/step - loss: 0.9748 - accuracy: 0.5922 - val_loss: 0.8821 - val_accuracy: 0.6800\n",
      "Epoch 31/100\n",
      "21/21 [==============================] - ETA: 0s - loss: 1.0010 - accuracy: 0.5437\n",
      "Epoch 00031: val_accuracy did not improve from 0.68000\n",
      "21/21 [==============================] - 27s 1s/step - loss: 1.0010 - accuracy: 0.5437 - val_loss: 0.8406 - val_accuracy: 0.6000\n",
      "Epoch 32/100\n",
      "21/21 [==============================] - ETA: 0s - loss: 1.0474 - accuracy: 0.4854\n",
      "Epoch 00032: val_accuracy did not improve from 0.68000\n",
      "21/21 [==============================] - 26s 1s/step - loss: 1.0474 - accuracy: 0.4854 - val_loss: 0.8950 - val_accuracy: 0.6000\n",
      "Epoch 33/100\n",
      "21/21 [==============================] - ETA: 0s - loss: 0.9262 - accuracy: 0.6019\n",
      "Epoch 00033: val_accuracy did not improve from 0.68000\n",
      "21/21 [==============================] - 26s 1s/step - loss: 0.9262 - accuracy: 0.6019 - val_loss: 0.8413 - val_accuracy: 0.6400\n",
      "Epoch 34/100\n",
      "21/21 [==============================] - ETA: 0s - loss: 0.9661 - accuracy: 0.5874\n",
      "Epoch 00034: val_accuracy did not improve from 0.68000\n",
      "21/21 [==============================] - 27s 1s/step - loss: 0.9661 - accuracy: 0.5874 - val_loss: 0.8237 - val_accuracy: 0.6600\n",
      "Epoch 35/100\n",
      "21/21 [==============================] - ETA: 0s - loss: 0.9836 - accuracy: 0.5922\n",
      "Epoch 00035: val_accuracy did not improve from 0.68000\n",
      "21/21 [==============================] - 26s 1s/step - loss: 0.9836 - accuracy: 0.5922 - val_loss: 0.8259 - val_accuracy: 0.6600\n",
      "Epoch 36/100\n",
      "21/21 [==============================] - ETA: 0s - loss: 0.9751 - accuracy: 0.5728\n",
      "Epoch 00036: val_accuracy did not improve from 0.68000\n",
      "21/21 [==============================] - 30s 1s/step - loss: 0.9751 - accuracy: 0.5728 - val_loss: 0.8290 - val_accuracy: 0.6200\n",
      "Epoch 37/100\n",
      "21/21 [==============================] - ETA: 0s - loss: 0.9312 - accuracy: 0.6165\n",
      "Epoch 00037: val_accuracy did not improve from 0.68000\n",
      "21/21 [==============================] - 27s 1s/step - loss: 0.9312 - accuracy: 0.6165 - val_loss: 0.7949 - val_accuracy: 0.6200\n",
      "Epoch 38/100\n",
      "21/21 [==============================] - ETA: 0s - loss: 0.9435 - accuracy: 0.5728\n",
      "Epoch 00038: val_accuracy did not improve from 0.68000\n",
      "21/21 [==============================] - 27s 1s/step - loss: 0.9435 - accuracy: 0.5728 - val_loss: 0.7768 - val_accuracy: 0.6000\n",
      "Epoch 39/100\n",
      "21/21 [==============================] - ETA: 0s - loss: 1.0196 - accuracy: 0.5583\n",
      "Epoch 00039: val_accuracy did not improve from 0.68000\n",
      "21/21 [==============================] - 28s 1s/step - loss: 1.0196 - accuracy: 0.5583 - val_loss: 0.9256 - val_accuracy: 0.4800\n",
      "Epoch 40/100\n",
      "21/21 [==============================] - ETA: 0s - loss: 0.9915 - accuracy: 0.5049\n",
      "Epoch 00040: val_accuracy did not improve from 0.68000\n",
      "21/21 [==============================] - 27s 1s/step - loss: 0.9915 - accuracy: 0.5049 - val_loss: 0.8338 - val_accuracy: 0.6200\n",
      "Epoch 41/100\n",
      "21/21 [==============================] - ETA: 0s - loss: 0.8859 - accuracy: 0.6408\n",
      "Epoch 00041: val_accuracy did not improve from 0.68000\n",
      "21/21 [==============================] - 27s 1s/step - loss: 0.8859 - accuracy: 0.6408 - val_loss: 0.8276 - val_accuracy: 0.6400\n",
      "Epoch 42/100\n",
      "21/21 [==============================] - ETA: 0s - loss: 0.8990 - accuracy: 0.6262\n",
      "Epoch 00042: val_accuracy did not improve from 0.68000\n",
      "21/21 [==============================] - 27s 1s/step - loss: 0.8990 - accuracy: 0.6262 - val_loss: 0.7472 - val_accuracy: 0.6600\n",
      "Epoch 43/100\n",
      "21/21 [==============================] - ETA: 0s - loss: 0.9218 - accuracy: 0.5971\n",
      "Epoch 00043: val_accuracy did not improve from 0.68000\n",
      "21/21 [==============================] - 27s 1s/step - loss: 0.9218 - accuracy: 0.5971 - val_loss: 0.8746 - val_accuracy: 0.5600\n",
      "Epoch 44/100\n",
      "21/21 [==============================] - ETA: 0s - loss: 0.8378 - accuracy: 0.5922\n",
      "Epoch 00044: val_accuracy improved from 0.68000 to 0.70000, saving model to all\\\n",
      "21/21 [==============================] - 26s 1s/step - loss: 0.8378 - accuracy: 0.5922 - val_loss: 0.7214 - val_accuracy: 0.7000\n",
      "Epoch 45/100\n",
      "21/21 [==============================] - ETA: 0s - loss: 0.8776 - accuracy: 0.5874\n",
      "Epoch 00045: val_accuracy did not improve from 0.70000\n",
      "21/21 [==============================] - 26s 1s/step - loss: 0.8776 - accuracy: 0.5874 - val_loss: 0.8565 - val_accuracy: 0.5800\n",
      "Epoch 46/100\n",
      "21/21 [==============================] - ETA: 0s - loss: 0.8690 - accuracy: 0.6117\n",
      "Epoch 00046: val_accuracy did not improve from 0.70000\n",
      "21/21 [==============================] - 27s 1s/step - loss: 0.8690 - accuracy: 0.6117 - val_loss: 0.8166 - val_accuracy: 0.5600\n",
      "Epoch 47/100\n",
      "21/21 [==============================] - ETA: 0s - loss: 0.9360 - accuracy: 0.5583\n",
      "Epoch 00047: val_accuracy did not improve from 0.70000\n",
      "21/21 [==============================] - 27s 1s/step - loss: 0.9360 - accuracy: 0.5583 - val_loss: 0.8277 - val_accuracy: 0.5600\n",
      "Epoch 48/100\n",
      "21/21 [==============================] - ETA: 0s - loss: 0.9438 - accuracy: 0.5631\n",
      "Epoch 00048: val_accuracy did not improve from 0.70000\n",
      "21/21 [==============================] - 28s 1s/step - loss: 0.9438 - accuracy: 0.5631 - val_loss: 0.7955 - val_accuracy: 0.6600\n",
      "Epoch 49/100\n",
      "21/21 [==============================] - ETA: 0s - loss: 0.9146 - accuracy: 0.5874\n",
      "Epoch 00049: val_accuracy did not improve from 0.70000\n",
      "21/21 [==============================] - 28s 1s/step - loss: 0.9146 - accuracy: 0.5874 - val_loss: 0.7211 - val_accuracy: 0.6800\n",
      "Epoch 50/100\n",
      "21/21 [==============================] - ETA: 0s - loss: 0.8939 - accuracy: 0.6019\n",
      "Epoch 00050: val_accuracy did not improve from 0.70000\n",
      "21/21 [==============================] - 27s 1s/step - loss: 0.8939 - accuracy: 0.6019 - val_loss: 0.6644 - val_accuracy: 0.7000\n",
      "Epoch 51/100\n",
      "21/21 [==============================] - ETA: 0s - loss: 0.8910 - accuracy: 0.5728\n",
      "Epoch 00051: val_accuracy did not improve from 0.70000\n",
      "21/21 [==============================] - 27s 1s/step - loss: 0.8910 - accuracy: 0.5728 - val_loss: 0.7582 - val_accuracy: 0.5800\n",
      "Epoch 52/100\n",
      "21/21 [==============================] - ETA: 0s - loss: 0.9315 - accuracy: 0.5583\n",
      "Epoch 00052: val_accuracy did not improve from 0.70000\n",
      "21/21 [==============================] - 27s 1s/step - loss: 0.9315 - accuracy: 0.5583 - val_loss: 0.6740 - val_accuracy: 0.6600\n",
      "Epoch 53/100\n",
      "21/21 [==============================] - ETA: 0s - loss: 0.8625 - accuracy: 0.6143\n",
      "Epoch 00053: val_accuracy did not improve from 0.70000\n",
      "21/21 [==============================] - 28s 1s/step - loss: 0.8625 - accuracy: 0.6143 - val_loss: 0.7258 - val_accuracy: 0.6600\n",
      "Epoch 54/100\n",
      "21/21 [==============================] - ETA: 0s - loss: 0.7993 - accuracy: 0.6505\n",
      "Epoch 00054: val_accuracy improved from 0.70000 to 0.72000, saving model to all\\\n",
      "21/21 [==============================] - 27s 1s/step - loss: 0.7993 - accuracy: 0.6505 - val_loss: 0.6933 - val_accuracy: 0.7200\n",
      "Epoch 55/100\n",
      "21/21 [==============================] - ETA: 0s - loss: 0.9514 - accuracy: 0.5922\n",
      "Epoch 00055: val_accuracy did not improve from 0.72000\n",
      "21/21 [==============================] - 27s 1s/step - loss: 0.9514 - accuracy: 0.5922 - val_loss: 0.7190 - val_accuracy: 0.7200\n",
      "Epoch 56/100\n",
      "21/21 [==============================] - ETA: 0s - loss: 0.9133 - accuracy: 0.6068\n",
      "Epoch 00056: val_accuracy did not improve from 0.72000\n",
      "21/21 [==============================] - 27s 1s/step - loss: 0.9133 - accuracy: 0.6068 - val_loss: 0.7271 - val_accuracy: 0.6400\n",
      "Epoch 57/100\n",
      "21/21 [==============================] - ETA: 0s - loss: 0.8369 - accuracy: 0.5971\n",
      "Epoch 00057: val_accuracy did not improve from 0.72000\n",
      "21/21 [==============================] - 28s 1s/step - loss: 0.8369 - accuracy: 0.5971 - val_loss: 0.6821 - val_accuracy: 0.6400\n",
      "Epoch 58/100\n",
      "21/21 [==============================] - ETA: 0s - loss: 0.8486 - accuracy: 0.5952\n",
      "Epoch 00058: val_accuracy did not improve from 0.72000\n",
      "21/21 [==============================] - 28s 1s/step - loss: 0.8486 - accuracy: 0.5952 - val_loss: 0.8126 - val_accuracy: 0.5800\n"
     ]
    },
    {
     "name": "stdout",
     "output_type": "stream",
     "text": [
      "Epoch 59/100\n",
      "21/21 [==============================] - ETA: 0s - loss: 0.8243 - accuracy: 0.5874\n",
      "Epoch 00059: val_accuracy did not improve from 0.72000\n",
      "21/21 [==============================] - 27s 1s/step - loss: 0.8243 - accuracy: 0.5874 - val_loss: 0.7294 - val_accuracy: 0.6400\n",
      "Epoch 60/100\n",
      "21/21 [==============================] - ETA: 0s - loss: 0.8393 - accuracy: 0.5922\n",
      "Epoch 00060: val_accuracy did not improve from 0.72000\n",
      "21/21 [==============================] - 27s 1s/step - loss: 0.8393 - accuracy: 0.5922 - val_loss: 0.6873 - val_accuracy: 0.6800\n",
      "Epoch 61/100\n",
      "21/21 [==============================] - ETA: 0s - loss: 0.8910 - accuracy: 0.5777\n",
      "Epoch 00061: val_accuracy did not improve from 0.72000\n",
      "21/21 [==============================] - 27s 1s/step - loss: 0.8910 - accuracy: 0.5777 - val_loss: 0.6655 - val_accuracy: 0.7200\n",
      "Epoch 62/100\n",
      "21/21 [==============================] - ETA: 0s - loss: 0.7639 - accuracy: 0.6699\n",
      "Epoch 00062: val_accuracy did not improve from 0.72000\n",
      "21/21 [==============================] - 28s 1s/step - loss: 0.7639 - accuracy: 0.6699 - val_loss: 0.6862 - val_accuracy: 0.5800\n",
      "Epoch 63/100\n",
      "21/21 [==============================] - ETA: 0s - loss: 0.8416 - accuracy: 0.6359\n",
      "Epoch 00063: val_accuracy did not improve from 0.72000\n",
      "21/21 [==============================] - 27s 1s/step - loss: 0.8416 - accuracy: 0.6359 - val_loss: 0.7034 - val_accuracy: 0.7000\n",
      "Epoch 64/100\n",
      "21/21 [==============================] - ETA: 0s - loss: 0.7580 - accuracy: 0.6699\n",
      "Epoch 00064: val_accuracy did not improve from 0.72000\n",
      "21/21 [==============================] - 27s 1s/step - loss: 0.7580 - accuracy: 0.6699 - val_loss: 0.7071 - val_accuracy: 0.7000\n",
      "Epoch 65/100\n",
      "21/21 [==============================] - ETA: 0s - loss: 0.7414 - accuracy: 0.6699\n",
      "Epoch 00065: val_accuracy did not improve from 0.72000\n",
      "21/21 [==============================] - 27s 1s/step - loss: 0.7414 - accuracy: 0.6699 - val_loss: 0.6752 - val_accuracy: 0.6400\n",
      "Epoch 66/100\n",
      "21/21 [==============================] - ETA: 0s - loss: 0.7958 - accuracy: 0.6359\n",
      "Epoch 00066: val_accuracy did not improve from 0.72000\n",
      "21/21 [==============================] - 26s 1s/step - loss: 0.7958 - accuracy: 0.6359 - val_loss: 0.6426 - val_accuracy: 0.6600\n",
      "Epoch 67/100\n",
      "21/21 [==============================] - ETA: 0s - loss: 0.8149 - accuracy: 0.6262\n",
      "Epoch 00067: val_accuracy did not improve from 0.72000\n",
      "21/21 [==============================] - 27s 1s/step - loss: 0.8149 - accuracy: 0.6262 - val_loss: 0.6498 - val_accuracy: 0.6800\n",
      "Epoch 68/100\n",
      "21/21 [==============================] - ETA: 0s - loss: 0.7391 - accuracy: 0.6602\n",
      "Epoch 00068: val_accuracy did not improve from 0.72000\n",
      "21/21 [==============================] - 27s 1s/step - loss: 0.7391 - accuracy: 0.6602 - val_loss: 0.7008 - val_accuracy: 0.6400\n",
      "Epoch 69/100\n",
      "21/21 [==============================] - ETA: 0s - loss: 0.7439 - accuracy: 0.7087\n",
      "Epoch 00069: val_accuracy did not improve from 0.72000\n",
      "21/21 [==============================] - 27s 1s/step - loss: 0.7439 - accuracy: 0.7087 - val_loss: 0.6210 - val_accuracy: 0.6600\n",
      "Epoch 70/100\n",
      "21/21 [==============================] - ETA: 0s - loss: 0.8585 - accuracy: 0.6650\n",
      "Epoch 00070: val_accuracy improved from 0.72000 to 0.78000, saving model to all\\\n",
      "21/21 [==============================] - 30s 1s/step - loss: 0.8585 - accuracy: 0.6650 - val_loss: 0.6156 - val_accuracy: 0.7800\n",
      "Epoch 71/100\n",
      "21/21 [==============================] - ETA: 0s - loss: 0.7872 - accuracy: 0.6553\n",
      "Epoch 00071: val_accuracy did not improve from 0.78000\n",
      "21/21 [==============================] - 29s 1s/step - loss: 0.7872 - accuracy: 0.6553 - val_loss: 0.6508 - val_accuracy: 0.6800\n",
      "Epoch 72/100\n",
      "21/21 [==============================] - ETA: 0s - loss: 0.7463 - accuracy: 0.6796\n",
      "Epoch 00072: val_accuracy did not improve from 0.78000\n",
      "21/21 [==============================] - 28s 1s/step - loss: 0.7463 - accuracy: 0.6796 - val_loss: 0.6421 - val_accuracy: 0.6200\n",
      "Epoch 73/100\n",
      "21/21 [==============================] - ETA: 0s - loss: 0.7459 - accuracy: 0.6553\n",
      "Epoch 00073: val_accuracy did not improve from 0.78000\n",
      "21/21 [==============================] - 28s 1s/step - loss: 0.7459 - accuracy: 0.6553 - val_loss: 0.7670 - val_accuracy: 0.5400\n",
      "Epoch 74/100\n",
      "21/21 [==============================] - ETA: 0s - loss: 0.8045 - accuracy: 0.6019\n",
      "Epoch 00074: val_accuracy did not improve from 0.78000\n",
      "21/21 [==============================] - 28s 1s/step - loss: 0.8045 - accuracy: 0.6019 - val_loss: 0.6469 - val_accuracy: 0.6600\n",
      "Epoch 75/100\n",
      "21/21 [==============================] - ETA: 0s - loss: 0.8168 - accuracy: 0.6650\n",
      "Epoch 00075: val_accuracy did not improve from 0.78000\n",
      "21/21 [==============================] - 27s 1s/step - loss: 0.8168 - accuracy: 0.6650 - val_loss: 0.7642 - val_accuracy: 0.6600\n",
      "Epoch 76/100\n",
      "21/21 [==============================] - ETA: 0s - loss: 0.8108 - accuracy: 0.6699\n",
      "Epoch 00076: val_accuracy did not improve from 0.78000\n",
      "21/21 [==============================] - 26s 1s/step - loss: 0.8108 - accuracy: 0.6699 - val_loss: 0.6361 - val_accuracy: 0.7000\n",
      "Epoch 77/100\n",
      "21/21 [==============================] - ETA: 0s - loss: 0.7078 - accuracy: 0.6845\n",
      "Epoch 00077: val_accuracy did not improve from 0.78000\n",
      "21/21 [==============================] - 27s 1s/step - loss: 0.7078 - accuracy: 0.6845 - val_loss: 0.6730 - val_accuracy: 0.6600\n",
      "Epoch 78/100\n",
      "21/21 [==============================] - ETA: 0s - loss: 0.7055 - accuracy: 0.6650\n",
      "Epoch 00078: val_accuracy did not improve from 0.78000\n",
      "21/21 [==============================] - 28s 1s/step - loss: 0.7055 - accuracy: 0.6650 - val_loss: 0.6912 - val_accuracy: 0.6800\n",
      "Epoch 79/100\n",
      "21/21 [==============================] - ETA: 0s - loss: 0.7922 - accuracy: 0.5825\n",
      "Epoch 00079: val_accuracy did not improve from 0.78000\n",
      "21/21 [==============================] - 27s 1s/step - loss: 0.7922 - accuracy: 0.5825 - val_loss: 0.6829 - val_accuracy: 0.6400\n",
      "Epoch 80/100\n",
      "21/21 [==============================] - ETA: 0s - loss: 0.7379 - accuracy: 0.6990\n",
      "Epoch 00080: val_accuracy did not improve from 0.78000\n",
      "21/21 [==============================] - 26s 1s/step - loss: 0.7379 - accuracy: 0.6990 - val_loss: 0.6468 - val_accuracy: 0.7000\n",
      "Epoch 81/100\n",
      "21/21 [==============================] - ETA: 0s - loss: 0.7813 - accuracy: 0.6553\n",
      "Epoch 00081: val_accuracy did not improve from 0.78000\n",
      "21/21 [==============================] - 27s 1s/step - loss: 0.7813 - accuracy: 0.6553 - val_loss: 0.7037 - val_accuracy: 0.6800\n",
      "Epoch 82/100\n",
      "21/21 [==============================] - ETA: 0s - loss: 0.7438 - accuracy: 0.6699\n",
      "Epoch 00082: val_accuracy did not improve from 0.78000\n",
      "21/21 [==============================] - 26s 1s/step - loss: 0.7438 - accuracy: 0.6699 - val_loss: 0.6667 - val_accuracy: 0.7000\n",
      "Epoch 83/100\n",
      "21/21 [==============================] - ETA: 0s - loss: 0.7605 - accuracy: 0.6505\n",
      "Epoch 00083: val_accuracy did not improve from 0.78000\n",
      "21/21 [==============================] - 27s 1s/step - loss: 0.7605 - accuracy: 0.6505 - val_loss: 0.6900 - val_accuracy: 0.7000\n",
      "Epoch 84/100\n",
      "21/21 [==============================] - ETA: 0s - loss: 0.8253 - accuracy: 0.6408\n",
      "Epoch 00084: val_accuracy did not improve from 0.78000\n",
      "21/21 [==============================] - 29s 1s/step - loss: 0.8253 - accuracy: 0.6408 - val_loss: 0.6860 - val_accuracy: 0.6000\n",
      "Epoch 85/100\n",
      "21/21 [==============================] - ETA: 0s - loss: 0.7752 - accuracy: 0.6068\n",
      "Epoch 00085: val_accuracy did not improve from 0.78000\n",
      "21/21 [==============================] - 28s 1s/step - loss: 0.7752 - accuracy: 0.6068 - val_loss: 0.6131 - val_accuracy: 0.7600\n",
      "Epoch 86/100\n",
      "21/21 [==============================] - ETA: 0s - loss: 0.7241 - accuracy: 0.6796\n",
      "Epoch 00086: val_accuracy did not improve from 0.78000\n",
      "21/21 [==============================] - 27s 1s/step - loss: 0.7241 - accuracy: 0.6796 - val_loss: 0.6149 - val_accuracy: 0.6400\n",
      "Epoch 87/100\n",
      "21/21 [==============================] - ETA: 0s - loss: 0.8031 - accuracy: 0.6476\n",
      "Epoch 00087: val_accuracy did not improve from 0.78000\n",
      "21/21 [==============================] - 28s 1s/step - loss: 0.8031 - accuracy: 0.6476 - val_loss: 0.6504 - val_accuracy: 0.6600\n",
      "Epoch 88/100\n",
      "21/21 [==============================] - ETA: 0s - loss: 0.6733 - accuracy: 0.7136\n",
      "Epoch 00088: val_accuracy did not improve from 0.78000\n",
      "21/21 [==============================] - 28s 1s/step - loss: 0.6733 - accuracy: 0.7136 - val_loss: 0.5885 - val_accuracy: 0.6800\n",
      "Epoch 89/100\n",
      "21/21 [==============================] - ETA: 0s - loss: 0.7349 - accuracy: 0.6796\n",
      "Epoch 00089: val_accuracy did not improve from 0.78000\n",
      "21/21 [==============================] - 28s 1s/step - loss: 0.7349 - accuracy: 0.6796 - val_loss: 0.6573 - val_accuracy: 0.7200\n",
      "Epoch 90/100\n",
      "21/21 [==============================] - ETA: 0s - loss: 0.6834 - accuracy: 0.7233\n",
      "Epoch 00090: val_accuracy did not improve from 0.78000\n",
      "21/21 [==============================] - 28s 1s/step - loss: 0.6834 - accuracy: 0.7233 - val_loss: 0.6496 - val_accuracy: 0.6400\n",
      "Epoch 91/100\n",
      "21/21 [==============================] - ETA: 0s - loss: 0.7662 - accuracy: 0.6505\n",
      "Epoch 00091: val_accuracy did not improve from 0.78000\n",
      "21/21 [==============================] - 28s 1s/step - loss: 0.7662 - accuracy: 0.6505 - val_loss: 0.5490 - val_accuracy: 0.7600\n",
      "Epoch 92/100\n",
      "21/21 [==============================] - ETA: 0s - loss: 0.7122 - accuracy: 0.6602\n",
      "Epoch 00092: val_accuracy did not improve from 0.78000\n",
      "21/21 [==============================] - 28s 1s/step - loss: 0.7122 - accuracy: 0.6602 - val_loss: 0.7861 - val_accuracy: 0.5800\n",
      "Epoch 93/100\n",
      "21/21 [==============================] - ETA: 0s - loss: 0.7158 - accuracy: 0.7000\n",
      "Epoch 00093: val_accuracy did not improve from 0.78000\n",
      "21/21 [==============================] - 28s 1s/step - loss: 0.7158 - accuracy: 0.7000 - val_loss: 0.6617 - val_accuracy: 0.6800\n",
      "Epoch 94/100\n",
      "21/21 [==============================] - ETA: 0s - loss: 0.7512 - accuracy: 0.6893\n",
      "Epoch 00094: val_accuracy did not improve from 0.78000\n",
      "21/21 [==============================] - 28s 1s/step - loss: 0.7512 - accuracy: 0.6893 - val_loss: 0.6097 - val_accuracy: 0.6800\n",
      "Epoch 95/100\n",
      "21/21 [==============================] - ETA: 0s - loss: 0.8400 - accuracy: 0.6165\n",
      "Epoch 00095: val_accuracy improved from 0.78000 to 0.80000, saving model to all\\\n",
      "21/21 [==============================] - 27s 1s/step - loss: 0.8400 - accuracy: 0.6165 - val_loss: 0.5982 - val_accuracy: 0.8000\n",
      "Epoch 96/100\n",
      "21/21 [==============================] - ETA: 0s - loss: 0.8106 - accuracy: 0.6165\n",
      "Epoch 00096: val_accuracy did not improve from 0.80000\n",
      "21/21 [==============================] - 27s 1s/step - loss: 0.8106 - accuracy: 0.6165 - val_loss: 0.5691 - val_accuracy: 0.7200\n",
      "Epoch 97/100\n",
      "21/21 [==============================] - ETA: 0s - loss: 0.7276 - accuracy: 0.6650\n",
      "Epoch 00097: val_accuracy did not improve from 0.80000\n",
      "21/21 [==============================] - 30s 1s/step - loss: 0.7276 - accuracy: 0.6650 - val_loss: 0.6533 - val_accuracy: 0.6200\n",
      "Epoch 98/100\n",
      "21/21 [==============================] - ETA: 0s - loss: 0.7188 - accuracy: 0.7233\n",
      "Epoch 00098: val_accuracy did not improve from 0.80000\n",
      "21/21 [==============================] - 29s 1s/step - loss: 0.7188 - accuracy: 0.7233 - val_loss: 0.6412 - val_accuracy: 0.7600\n",
      "Epoch 99/100\n",
      "21/21 [==============================] - ETA: 0s - loss: 0.6552 - accuracy: 0.7573\n",
      "Epoch 00099: val_accuracy did not improve from 0.80000\n",
      "21/21 [==============================] - 28s 1s/step - loss: 0.6552 - accuracy: 0.7573 - val_loss: 0.6052 - val_accuracy: 0.6600\n",
      "Epoch 100/100\n",
      "21/21 [==============================] - ETA: 0s - loss: 0.7052 - accuracy: 0.6990\n",
      "Epoch 00100: val_accuracy did not improve from 0.80000\n",
      "21/21 [==============================] - 28s 1s/step - loss: 0.7052 - accuracy: 0.6990 - val_loss: 0.6348 - val_accuracy: 0.6600\n"
     ]
    },
    {
     "data": {
      "text/plain": [
       "<tensorflow.python.training.tracking.util.CheckpointLoadStatus at 0x1c58007fa90>"
      ]
     },
     "execution_count": 9,
     "metadata": {},
     "output_type": "execute_result"
    }
   ],
   "source": [
    "#FIT MODEL\n",
    "STEP_SIZE_TRAIN=train_batches.n//train_batches.batch_size\n",
    "STEP_SIZE_VALID=valid_batches.n//valid_batches.batch_size\n",
    "\n",
    "history = model.fit(train_batches, epochs=100, validation_data=valid_batches,batch_size=5, \n",
    "                    steps_per_epoch=STEP_SIZE_TRAIN, validation_steps = STEP_SIZE_VALID, callbacks=[checkpoint])\n",
    "model.load_weights(checkpoint_filepath)"
   ]
  },
  {
   "cell_type": "markdown",
   "metadata": {
    "nbpresent": {
     "id": "66140980-2aa4-457f-b1df-74c10c234cc2"
    }
   },
   "source": [
    "#### [5 points] Plot Accuracy and Loss During Training\n",
    "### *** There is a typo in the plot title, it should be 100 epochs ***"
   ]
  },
  {
   "cell_type": "code",
   "execution_count": 10,
   "metadata": {
    "nbpresent": {
     "id": "ff342098-784a-4e20-ac34-b74ca8ebe839"
    }
   },
   "outputs": [
    {
     "data": {
      "image/png": "[encoded data removed]",
      "text/plain": [
       "<Figure size 432x288 with 1 Axes>"
      ]
     },
     "metadata": {
      "needs_background": "light"
     },
     "output_type": "display_data"
    },
    {
     "data": {
      "image/png": "[encoded data removed]",
      "text/plain": [
       "<Figure size 432x288 with 1 Axes>"
      ]
     },
     "metadata": {
      "needs_background": "light"
     },
     "output_type": "display_data"
    }
   ],
   "source": [
    "import matplotlib.pyplot as plt\n",
    "\n",
    "\n",
    "plt.title('Accuracy over 80 Epochs')\n",
    "plt.plot(history.history['accuracy'], label='Train_acc')\n",
    "plt.plot(history.history['val_accuracy'], label = 'Test_acc')\n",
    "plt.legend(loc='upper left')\n",
    "plt.grid(True)\n",
    "plt.show()\n",
    "\n",
    "plt.title('Loss over 80 Epochs')\n",
    "plt.plot(history.history['loss'], label='Train_loss')\n",
    "plt.plot(history.history['val_loss'], label = 'Test_loss')\n",
    "plt.legend(loc='upper right')\n",
    "plt.grid(True)\n",
    "plt.show()"
   ]
  },
  {
   "cell_type": "markdown",
   "metadata": {
    "nbpresent": {
     "id": "66140980-2aa4-457f-b1df-74c10c234cc2"
    }
   },
   "source": [
    "#### Testing Model"
   ]
  },
  {
   "cell_type": "code",
   "execution_count": 30,
   "metadata": {},
   "outputs": [
    {
     "name": "stdout",
     "output_type": "stream",
     "text": [
      "Found 36 images belonging to 4 classes.\n",
      "36/36 [==============================] - 4s 107ms/step - loss: 0.7923 - accuracy: 0.6667\n",
      "Test loss: 0.7922794818878174\n",
      "Test accuracy: 0.6666666865348816\n"
     ]
    }
   ],
   "source": [
    "vgg16.trainable = True\n",
    "test_datagen = ImageDataGenerator(rescale=1. / 255)\n",
    "\n",
    "eval_generator = test_datagen.flow_from_directory(TEST_DIR,target_size=IMAGE_SIZE,\n",
    "                                                  batch_size=1,shuffle=True,seed=42,class_mode=\"categorical\")\n",
    "eval_generator.reset()\n",
    "x = model.evaluate_generator(eval_generator,steps = np.ceil(len(eval_generator)),\n",
    "                           use_multiprocessing = False,verbose = 1,workers=1)\n",
    "print('Test loss:' , x[0])\n",
    "print('Test accuracy:',x[1])"
   ]
  },
  {
   "cell_type": "markdown",
   "metadata": {},
   "source": [
    "<!-- ## Task 2: COVID-19 vs Normal vs Tertiary Pneumonia (Bacterial and Viral) -->"
   ]
  },
  {
   "cell_type": "markdown",
   "metadata": {
    "nbpresent": {
     "id": "66140980-2aa4-457f-b1df-74c10c234cc2"
    }
   },
   "source": [
    "<!-- #### Renew Training Batch and Validation Batch -->"
   ]
  },
  {
   "cell_type": "markdown",
   "metadata": {
    "nbpresent": {
     "id": "66140980-2aa4-457f-b1df-74c10c234cc2"
    }
   },
   "source": [
    "<!-- #### Renew Model -->"
   ]
  }
 ],
 "metadata": {
  "kernelspec": {
   "display_name": "Python 3",
   "language": "python",
   "name": "python3"
  },
  "language_info": {
   "codemirror_mode": {
    "name": "ipython",
    "version": 3
   },
   "file_extension": ".py",
   "mimetype": "text/x-python",
   "name": "python",
   "nbconvert_exporter": "python",
   "pygments_lexer": "ipython3",
   "version": "3.7.3"
  },
  "latex_envs": {
   "LaTeX_envs_menu_present": true,
   "autoclose": false,
   "autocomplete": true,
   "bibliofile": "biblio.bib",
   "cite_by": "apalike",
   "current_citInitial": 1,
   "eqLabelWithNumbers": true,
   "eqNumInitial": 1,
   "hotkeys": {
    "equation": "Ctrl-E",
    "itemize": "Ctrl-I"
   },
   "labels_anchors": false,
   "latex_user_defs": false,
   "report_style_numbering": false,
   "user_envs_cfg": false
  },
  "toc": {
   "base_numbering": 1,
   "nav_menu": {},
   "number_sections": true,
   "sideBar": true,
   "skip_h1_title": false,
   "title_cell": "Table of Contents",
   "title_sidebar": "Contents",
   "toc_cell": false,
   "toc_position": {},
   "toc_section_display": true,
   "toc_window_display": false
  },
  "varInspector": {
   "cols": {
    "lenName": 16,
    "lenType": 16,
    "lenVar": 40
   },
   "kernels_config": {
    "python": {
     "delete_cmd_postfix": "",
     "delete_cmd_prefix": "del ",
     "library": "var_list.py",
     "varRefreshCmd": "print(var_dic_list())"
    },
    "r": {
     "delete_cmd_postfix": ") ",
     "delete_cmd_prefix": "rm(",
     "library": "var_list.r",
     "varRefreshCmd": "cat(var_dic_list()) "
    }
   },
   "types_to_exclude": [
    "module",
    "function",
    "builtin_function_or_method",
    "instance",
    "_Feature"
   ],
   "window_display": false
  }
 },
 "nbformat": 4,
 "nbformat_minor": 4
}
