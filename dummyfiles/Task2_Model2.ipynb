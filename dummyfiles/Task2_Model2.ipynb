{
 "cells": [
  {
   "cell_type": "markdown",
   "metadata": {},
   "source": [
    "## Second Model"
   ]
  },
  {
   "cell_type": "code",
   "execution_count": 4,
   "metadata": {
    "id": "NR0AbuhqYtDp"
   },
   "outputs": [],
   "source": [
    "DATA_LIST = os.listdir('/content/drive/MyDrive/all/train')\n",
    "DATASET_PATH  = '/content/drive/MyDrive/all/train'\n",
    "TEST_DIR =  '/content/drive/MyDrive/all/test'\n",
    "IMAGE_SIZE    = (224, 224)\n",
    "NUM_CLASSES   = len(DATA_LIST)\n",
    "BATCH_SIZE    = 10  # try reducing batch size or freeze more layers if your GPU runs out of memory\n",
    "NUM_EPOCHS    = 100\n",
    "LEARNING_RATE = 0.0001 # start off with high rate first 0.001 and experiment with reducing it gradually "
   ]
  },
  {
   "cell_type": "code",
   "execution_count": 5,
   "metadata": {
    "colab": {
     "base_uri": "https://localhost:8080/"
    },
    "id": "8E5E5WomaSsM",
    "outputId": "d6500f42-23d6-434d-b8e6-c0a49ff6671f"
   },
   "outputs": [
    {
     "name": "stdout",
     "output_type": "stream",
     "text": [
      "Found 216 images belonging to 4 classes.\n",
      "Found 54 images belonging to 4 classes.\n"
     ]
    },
    {
     "name": "stderr",
     "output_type": "stream",
     "text": [
      "/usr/local/lib/python3.7/dist-packages/keras_preprocessing/image/image_data_generator.py:342: UserWarning: This ImageDataGenerator specifies `zca_whitening` which overrides setting of`featurewise_std_normalization`.\n",
      "  warnings.warn('This ImageDataGenerator specifies '\n"
     ]
    }
   ],
   "source": [
    "train_datagen = ImageDataGenerator(rescale=1./255,rotation_range=50,featurewise_center = True,\n",
    "                                   featurewise_std_normalization = True,width_shift_range=0.2,\n",
    "                                   height_shift_range=0.2,shear_range=0.25,zoom_range=0.1,\n",
    "                                   zca_whitening = True,channel_shift_range = 20,\n",
    "                                   horizontal_flip = True,vertical_flip = True,\n",
    "                                   validation_split = 0.2,fill_mode='constant')\n",
    "\n",
    "\n",
    "train_batches = train_datagen.flow_from_directory(DATASET_PATH,target_size=IMAGE_SIZE,\n",
    "                                                  shuffle=True,batch_size=BATCH_SIZE,\n",
    "                                                  subset = \"training\",seed=42,\n",
    "                                                  class_mode=\"categorical\")\n",
    "\n",
    "valid_batches = train_datagen.flow_from_directory(DATASET_PATH,target_size=IMAGE_SIZE,\n",
    "                                                  shuffle=True,batch_size=BATCH_SIZE,\n",
    "                                                  subset = \"validation\",\n",
    "                                                  seed=42,class_mode=\"categorical\")"
   ]
  },
  {
   "cell_type": "code",
   "execution_count": 6,
   "metadata": {
    "colab": {
     "base_uri": "https://localhost:8080/"
    },
    "id": "ZXuVSD9daW9I",
    "outputId": "f3c468dd-26b9-48c2-950f-dd437cb74bf4"
   },
   "outputs": [
    {
     "name": "stdout",
     "output_type": "stream",
     "text": [
      "Model: \"sequential\"\n",
      "_________________________________________________________________\n",
      "Layer (type)                 Output Shape              Param #   \n",
      "=================================================================\n",
      "mobilenet_1.00_224 (Function (None, 7, 7, 1024)        3228864   \n",
      "_________________________________________________________________\n",
      "flatten (Flatten)            (None, 50176)             0         \n",
      "_________________________________________________________________\n",
      "feature_dense (Dense)        (None, 256)               12845312  \n",
      "_________________________________________________________________\n",
      "dropout (Dropout)            (None, 256)               0         \n",
      "_________________________________________________________________\n",
      "dense (Dense)                (None, 256)               65792     \n",
      "_________________________________________________________________\n",
      "dropout_1 (Dropout)          (None, 256)               0         \n",
      "_________________________________________________________________\n",
      "dense_1 (Dense)              (None, 4)                 1028      \n",
      "=================================================================\n",
      "Total params: 16,140,996\n",
      "Trainable params: 16,119,108\n",
      "Non-trainable params: 21,888\n",
      "_________________________________________________________________\n"
     ]
    }
   ],
   "source": [
    "#vgg16 = tf.keras.applications.VGG16(weights='imagenet', include_top=False, input_shape = (224,224,3))\n",
    "#vgg19 = tf.keras.applications.VGG19(weights='imagenet', include_top=False, input_shape = (224,224,3))\n",
    "mobile = tf.keras.applications.MobileNet(weights='imagenet', include_top=False, input_shape = (224,224,3))\n",
    "model2 = tf.keras.models.Sequential([\n",
    "    mobile,\n",
    "    tf.keras.layers.Flatten(),\n",
    "    tf.keras.layers.Dense(256,activation='relu',name='feature_dense'),\n",
    "    tf.keras.layers.Dropout(0.5),\n",
    "    tf.keras.layers.Dense(256,activation='relu'),\n",
    "    tf.keras.layers.Dropout(0.25),\n",
    "    tf.keras.layers.Dense(4,activation='softmax')\n",
    "])\n",
    "model2.summary()"
   ]
  },
  {
   "cell_type": "code",
   "execution_count": 7,
   "metadata": {
    "colab": {
     "base_uri": "https://localhost:8080/"
    },
    "id": "skofcQrVaY2v",
    "outputId": "1b0bd3c9-6b4e-4c7c-a8a0-1984a2585612"
   },
   "outputs": [
    {
     "name": "stdout",
     "output_type": "stream",
     "text": [
      "22\n",
      "6\n"
     ]
    },
    {
     "name": "stderr",
     "output_type": "stream",
     "text": [
      "/usr/local/lib/python3.7/dist-packages/keras_preprocessing/image/image_data_generator.py:720: UserWarning: This ImageDataGenerator specifies `featurewise_center`, but it hasn't been fit on any training data. Fit it first by calling `.fit(numpy_data)`.\n",
      "  warnings.warn('This ImageDataGenerator specifies '\n",
      "/usr/local/lib/python3.7/dist-packages/keras_preprocessing/image/image_data_generator.py:739: UserWarning: This ImageDataGenerator specifies `zca_whitening`, but it hasn't been fit on any training data. Fit it first by calling `.fit(numpy_data)`.\n",
      "  warnings.warn('This ImageDataGenerator specifies '\n"
     ]
    },
    {
     "name": "stdout",
     "output_type": "stream",
     "text": [
      "Epoch 1/100\n",
      "21/21 [==============================] - 12s 404ms/step - loss: 3.2244 - accuracy: 0.3205 - val_loss: 2.5598 - val_accuracy: 0.3200\n",
      "Epoch 2/100\n",
      "21/21 [==============================] - 8s 364ms/step - loss: 2.9088 - accuracy: 0.3606 - val_loss: 1.4326 - val_accuracy: 0.4000\n",
      "Epoch 3/100\n",
      "21/21 [==============================] - 8s 371ms/step - loss: 1.7023 - accuracy: 0.4242 - val_loss: 1.4225 - val_accuracy: 0.4000\n",
      "Epoch 4/100\n",
      "21/21 [==============================] - 8s 369ms/step - loss: 1.1997 - accuracy: 0.5547 - val_loss: 1.2527 - val_accuracy: 0.4200\n",
      "Epoch 5/100\n",
      "21/21 [==============================] - 8s 361ms/step - loss: 1.3344 - accuracy: 0.4898 - val_loss: 1.0782 - val_accuracy: 0.5200\n",
      "Epoch 6/100\n",
      "21/21 [==============================] - 8s 365ms/step - loss: 1.1895 - accuracy: 0.5071 - val_loss: 1.2429 - val_accuracy: 0.4200\n",
      "Epoch 7/100\n",
      "21/21 [==============================] - 8s 365ms/step - loss: 0.9994 - accuracy: 0.5529 - val_loss: 1.0805 - val_accuracy: 0.5400\n",
      "Epoch 8/100\n",
      "21/21 [==============================] - 8s 365ms/step - loss: 0.8427 - accuracy: 0.6494 - val_loss: 1.6659 - val_accuracy: 0.3400\n",
      "Epoch 9/100\n",
      "21/21 [==============================] - 8s 364ms/step - loss: 0.9321 - accuracy: 0.6116 - val_loss: 1.3326 - val_accuracy: 0.4000\n",
      "Epoch 10/100\n",
      "21/21 [==============================] - 8s 366ms/step - loss: 0.9085 - accuracy: 0.6522 - val_loss: 1.1486 - val_accuracy: 0.4800\n",
      "Epoch 11/100\n",
      "21/21 [==============================] - 8s 365ms/step - loss: 0.9437 - accuracy: 0.6254 - val_loss: 0.8821 - val_accuracy: 0.5800\n",
      "Epoch 12/100\n",
      "21/21 [==============================] - 8s 370ms/step - loss: 0.8434 - accuracy: 0.6670 - val_loss: 0.8297 - val_accuracy: 0.6600\n",
      "Epoch 13/100\n",
      "21/21 [==============================] - 8s 364ms/step - loss: 0.8021 - accuracy: 0.6658 - val_loss: 0.7789 - val_accuracy: 0.5800\n",
      "Epoch 14/100\n",
      "21/21 [==============================] - 8s 362ms/step - loss: 0.8520 - accuracy: 0.6747 - val_loss: 0.6146 - val_accuracy: 0.7600\n",
      "Epoch 15/100\n",
      "21/21 [==============================] - 8s 362ms/step - loss: 0.9015 - accuracy: 0.6313 - val_loss: 0.8360 - val_accuracy: 0.6000\n",
      "Epoch 16/100\n",
      "21/21 [==============================] - 8s 365ms/step - loss: 0.9276 - accuracy: 0.6149 - val_loss: 0.7827 - val_accuracy: 0.6800\n",
      "Epoch 17/100\n",
      "21/21 [==============================] - 8s 369ms/step - loss: 0.7192 - accuracy: 0.6905 - val_loss: 0.6249 - val_accuracy: 0.7600\n",
      "Epoch 18/100\n",
      "21/21 [==============================] - 8s 365ms/step - loss: 0.7790 - accuracy: 0.6527 - val_loss: 0.7691 - val_accuracy: 0.6200\n",
      "Epoch 19/100\n",
      "21/21 [==============================] - 8s 363ms/step - loss: 0.7325 - accuracy: 0.7097 - val_loss: 0.7682 - val_accuracy: 0.6400\n",
      "Epoch 20/100\n",
      "21/21 [==============================] - 8s 373ms/step - loss: 0.8104 - accuracy: 0.6734 - val_loss: 0.5327 - val_accuracy: 0.8000\n",
      "Epoch 21/100\n",
      "21/21 [==============================] - 8s 363ms/step - loss: 0.6244 - accuracy: 0.7469 - val_loss: 0.7782 - val_accuracy: 0.7000\n",
      "Epoch 22/100\n",
      "21/21 [==============================] - 8s 363ms/step - loss: 0.8258 - accuracy: 0.6479 - val_loss: 0.5247 - val_accuracy: 0.7800\n",
      "Epoch 23/100\n",
      "21/21 [==============================] - 8s 357ms/step - loss: 0.7036 - accuracy: 0.7176 - val_loss: 0.5946 - val_accuracy: 0.7400\n",
      "Epoch 24/100\n",
      "21/21 [==============================] - 8s 362ms/step - loss: 0.6994 - accuracy: 0.7465 - val_loss: 0.6380 - val_accuracy: 0.7400\n",
      "Epoch 25/100\n",
      "21/21 [==============================] - 8s 367ms/step - loss: 0.7183 - accuracy: 0.7287 - val_loss: 0.6008 - val_accuracy: 0.6800\n",
      "Epoch 26/100\n",
      "21/21 [==============================] - 8s 368ms/step - loss: 0.7516 - accuracy: 0.7175 - val_loss: 0.6204 - val_accuracy: 0.7200\n",
      "Epoch 27/100\n",
      "21/21 [==============================] - 8s 378ms/step - loss: 0.6890 - accuracy: 0.7213 - val_loss: 0.4548 - val_accuracy: 0.8400\n",
      "Epoch 28/100\n",
      "21/21 [==============================] - 8s 370ms/step - loss: 0.8652 - accuracy: 0.6215 - val_loss: 0.6988 - val_accuracy: 0.7200\n",
      "Epoch 29/100\n",
      "21/21 [==============================] - 8s 365ms/step - loss: 0.5894 - accuracy: 0.7438 - val_loss: 0.6140 - val_accuracy: 0.7200\n",
      "Epoch 30/100\n",
      "21/21 [==============================] - 8s 368ms/step - loss: 0.6824 - accuracy: 0.6625 - val_loss: 0.5389 - val_accuracy: 0.7400\n",
      "Epoch 31/100\n",
      "21/21 [==============================] - 8s 368ms/step - loss: 0.6994 - accuracy: 0.7413 - val_loss: 0.5905 - val_accuracy: 0.7400\n",
      "Epoch 32/100\n",
      "21/21 [==============================] - 8s 353ms/step - loss: 0.8200 - accuracy: 0.6477 - val_loss: 0.5988 - val_accuracy: 0.6400\n",
      "Epoch 33/100\n",
      "21/21 [==============================] - 8s 377ms/step - loss: 0.6259 - accuracy: 0.7291 - val_loss: 0.7619 - val_accuracy: 0.7000\n",
      "Epoch 34/100\n",
      "21/21 [==============================] - 8s 360ms/step - loss: 0.8644 - accuracy: 0.6569 - val_loss: 0.7008 - val_accuracy: 0.6600\n",
      "Epoch 35/100\n",
      "21/21 [==============================] - 8s 365ms/step - loss: 0.7415 - accuracy: 0.6716 - val_loss: 0.5813 - val_accuracy: 0.7200\n",
      "Epoch 36/100\n",
      "21/21 [==============================] - 8s 364ms/step - loss: 1.1339 - accuracy: 0.6174 - val_loss: 0.5255 - val_accuracy: 0.7400\n",
      "Epoch 37/100\n",
      "21/21 [==============================] - 8s 362ms/step - loss: 0.6167 - accuracy: 0.7333 - val_loss: 0.4947 - val_accuracy: 0.7200\n",
      "Epoch 38/100\n",
      "21/21 [==============================] - 8s 365ms/step - loss: 0.6832 - accuracy: 0.6770 - val_loss: 0.5229 - val_accuracy: 0.6600\n",
      "Epoch 39/100\n",
      "21/21 [==============================] - 8s 369ms/step - loss: 0.6100 - accuracy: 0.7013 - val_loss: 0.5163 - val_accuracy: 0.8000\n",
      "Epoch 40/100\n",
      "21/21 [==============================] - 8s 369ms/step - loss: 0.5358 - accuracy: 0.7760 - val_loss: 0.5050 - val_accuracy: 0.7600\n",
      "Epoch 41/100\n",
      "21/21 [==============================] - 8s 369ms/step - loss: 0.5651 - accuracy: 0.7727 - val_loss: 0.6356 - val_accuracy: 0.7000\n",
      "Epoch 42/100\n",
      "21/21 [==============================] - 8s 366ms/step - loss: 0.6338 - accuracy: 0.7918 - val_loss: 0.4848 - val_accuracy: 0.7400\n",
      "Epoch 43/100\n",
      "21/21 [==============================] - 8s 368ms/step - loss: 0.5551 - accuracy: 0.7471 - val_loss: 0.4330 - val_accuracy: 0.8400\n",
      "Epoch 44/100\n",
      "21/21 [==============================] - 8s 370ms/step - loss: 0.5675 - accuracy: 0.7496 - val_loss: 0.4400 - val_accuracy: 0.8200\n",
      "Epoch 45/100\n",
      "21/21 [==============================] - 8s 377ms/step - loss: 0.4654 - accuracy: 0.7921 - val_loss: 0.4322 - val_accuracy: 0.8000\n",
      "Epoch 46/100\n",
      "21/21 [==============================] - 8s 375ms/step - loss: 0.8685 - accuracy: 0.6608 - val_loss: 0.6167 - val_accuracy: 0.7200\n",
      "Epoch 47/100\n",
      "21/21 [==============================] - 8s 372ms/step - loss: 0.4975 - accuracy: 0.7884 - val_loss: 0.5123 - val_accuracy: 0.7000\n",
      "Epoch 48/100\n",
      "21/21 [==============================] - 8s 372ms/step - loss: 0.6498 - accuracy: 0.7086 - val_loss: 0.5768 - val_accuracy: 0.6600\n",
      "Epoch 49/100\n",
      "21/21 [==============================] - 8s 364ms/step - loss: 0.7019 - accuracy: 0.7424 - val_loss: 0.4271 - val_accuracy: 0.7800\n",
      "Epoch 50/100\n",
      "21/21 [==============================] - 8s 364ms/step - loss: 0.5929 - accuracy: 0.7144 - val_loss: 0.6279 - val_accuracy: 0.7000\n",
      "Epoch 51/100\n",
      "21/21 [==============================] - 8s 367ms/step - loss: 0.6992 - accuracy: 0.7458 - val_loss: 0.6215 - val_accuracy: 0.7000\n",
      "Epoch 52/100\n",
      "21/21 [==============================] - 8s 355ms/step - loss: 0.5107 - accuracy: 0.8249 - val_loss: 0.5284 - val_accuracy: 0.7800\n",
      "Epoch 53/100\n",
      "21/21 [==============================] - 8s 356ms/step - loss: 0.6303 - accuracy: 0.7146 - val_loss: 0.6107 - val_accuracy: 0.7400\n",
      "Epoch 54/100\n",
      "21/21 [==============================] - 8s 370ms/step - loss: 0.6789 - accuracy: 0.7985 - val_loss: 0.5035 - val_accuracy: 0.7600\n",
      "Epoch 55/100\n",
      "21/21 [==============================] - 8s 373ms/step - loss: 0.7141 - accuracy: 0.7071 - val_loss: 0.4851 - val_accuracy: 0.8200\n",
      "Epoch 56/100\n",
      "21/21 [==============================] - 8s 371ms/step - loss: 0.8564 - accuracy: 0.6786 - val_loss: 0.8247 - val_accuracy: 0.6400\n",
      "Epoch 57/100\n",
      "21/21 [==============================] - 8s 371ms/step - loss: 0.5634 - accuracy: 0.7799 - val_loss: 0.5165 - val_accuracy: 0.7400\n",
      "Epoch 58/100\n",
      "21/21 [==============================] - 8s 367ms/step - loss: 0.5802 - accuracy: 0.7048 - val_loss: 0.6019 - val_accuracy: 0.7400\n",
      "Epoch 59/100\n",
      "21/21 [==============================] - 8s 369ms/step - loss: 0.5893 - accuracy: 0.7463 - val_loss: 0.6412 - val_accuracy: 0.7400\n",
      "Epoch 60/100\n",
      "21/21 [==============================] - 8s 366ms/step - loss: 0.5813 - accuracy: 0.7722 - val_loss: 0.6006 - val_accuracy: 0.7200\n",
      "Epoch 61/100\n",
      "21/21 [==============================] - 8s 364ms/step - loss: 0.5003 - accuracy: 0.8267 - val_loss: 0.7409 - val_accuracy: 0.7200\n",
      "Epoch 62/100\n",
      "21/21 [==============================] - 8s 369ms/step - loss: 0.7338 - accuracy: 0.7787 - val_loss: 0.7563 - val_accuracy: 0.7000\n",
      "Epoch 63/100\n",
      "21/21 [==============================] - 8s 372ms/step - loss: 0.4863 - accuracy: 0.8253 - val_loss: 0.5368 - val_accuracy: 0.7200\n",
      "Epoch 64/100\n",
      "21/21 [==============================] - 8s 373ms/step - loss: 0.5864 - accuracy: 0.7425 - val_loss: 0.6300 - val_accuracy: 0.7200\n",
      "Epoch 65/100\n",
      "21/21 [==============================] - 8s 358ms/step - loss: 0.5788 - accuracy: 0.8123 - val_loss: 0.5478 - val_accuracy: 0.8200\n",
      "Epoch 66/100\n",
      "21/21 [==============================] - 8s 358ms/step - loss: 0.5410 - accuracy: 0.7609 - val_loss: 0.4652 - val_accuracy: 0.7800\n",
      "Epoch 67/100\n",
      "21/21 [==============================] - 8s 371ms/step - loss: 0.4872 - accuracy: 0.8097 - val_loss: 0.4963 - val_accuracy: 0.7800\n",
      "Epoch 68/100\n",
      "21/21 [==============================] - 8s 371ms/step - loss: 0.5813 - accuracy: 0.7566 - val_loss: 0.5202 - val_accuracy: 0.7600\n",
      "Epoch 69/100\n",
      "21/21 [==============================] - 8s 367ms/step - loss: 0.6097 - accuracy: 0.7762 - val_loss: 0.5099 - val_accuracy: 0.8400\n",
      "Epoch 70/100\n",
      "21/21 [==============================] - 8s 369ms/step - loss: 0.3779 - accuracy: 0.7986 - val_loss: 0.5539 - val_accuracy: 0.7200\n",
      "Epoch 71/100\n",
      "21/21 [==============================] - 8s 371ms/step - loss: 0.6773 - accuracy: 0.7969 - val_loss: 0.3729 - val_accuracy: 0.8200\n",
      "Epoch 72/100\n",
      "21/21 [==============================] - 8s 375ms/step - loss: 0.6713 - accuracy: 0.7779 - val_loss: 0.4348 - val_accuracy: 0.8200\n",
      "Epoch 73/100\n",
      "21/21 [==============================] - 8s 364ms/step - loss: 0.4980 - accuracy: 0.8106 - val_loss: 0.7603 - val_accuracy: 0.7400\n",
      "Epoch 74/100\n",
      "21/21 [==============================] - 8s 364ms/step - loss: 0.4124 - accuracy: 0.8163 - val_loss: 0.5270 - val_accuracy: 0.7600\n",
      "Epoch 75/100\n",
      "21/21 [==============================] - 8s 366ms/step - loss: 0.5850 - accuracy: 0.8335 - val_loss: 0.5917 - val_accuracy: 0.7200\n",
      "Epoch 76/100\n",
      "21/21 [==============================] - 8s 367ms/step - loss: 0.5532 - accuracy: 0.8075 - val_loss: 0.5501 - val_accuracy: 0.7400\n",
      "Epoch 77/100\n",
      "21/21 [==============================] - 8s 366ms/step - loss: 0.5593 - accuracy: 0.7930 - val_loss: 0.4748 - val_accuracy: 0.8200\n",
      "Epoch 78/100\n",
      "21/21 [==============================] - 8s 368ms/step - loss: 0.4069 - accuracy: 0.8755 - val_loss: 0.7429 - val_accuracy: 0.7400\n",
      "Epoch 79/100\n",
      "21/21 [==============================] - 8s 365ms/step - loss: 0.4330 - accuracy: 0.8630 - val_loss: 0.5791 - val_accuracy: 0.7800\n",
      "Epoch 80/100\n",
      "21/21 [==============================] - 8s 376ms/step - loss: 0.6839 - accuracy: 0.7290 - val_loss: 0.7366 - val_accuracy: 0.6800\n",
      "Epoch 81/100\n",
      "21/21 [==============================] - 8s 364ms/step - loss: 0.5313 - accuracy: 0.8015 - val_loss: 1.1439 - val_accuracy: 0.6400\n",
      "Epoch 82/100\n",
      "21/21 [==============================] - 8s 375ms/step - loss: 0.4493 - accuracy: 0.8320 - val_loss: 0.6495 - val_accuracy: 0.7000\n",
      "Epoch 83/100\n",
      "21/21 [==============================] - 8s 371ms/step - loss: 0.4285 - accuracy: 0.8154 - val_loss: 0.6237 - val_accuracy: 0.7200\n",
      "Epoch 84/100\n",
      "21/21 [==============================] - 8s 371ms/step - loss: 0.5868 - accuracy: 0.7503 - val_loss: 0.5038 - val_accuracy: 0.7600\n",
      "Epoch 85/100\n",
      "21/21 [==============================] - 8s 374ms/step - loss: 0.5533 - accuracy: 0.7789 - val_loss: 0.5311 - val_accuracy: 0.7200\n",
      "Epoch 86/100\n",
      "21/21 [==============================] - 8s 371ms/step - loss: 0.4339 - accuracy: 0.8237 - val_loss: 0.4527 - val_accuracy: 0.8000\n",
      "Epoch 87/100\n",
      "21/21 [==============================] - 8s 371ms/step - loss: 0.5416 - accuracy: 0.8107 - val_loss: 0.4367 - val_accuracy: 0.7600\n",
      "Epoch 88/100\n",
      "21/21 [==============================] - 8s 363ms/step - loss: 0.5318 - accuracy: 0.7922 - val_loss: 0.4995 - val_accuracy: 0.8200\n",
      "Epoch 89/100\n",
      "21/21 [==============================] - 8s 366ms/step - loss: 0.4866 - accuracy: 0.8205 - val_loss: 0.7385 - val_accuracy: 0.7400\n",
      "Epoch 90/100\n",
      "21/21 [==============================] - 8s 372ms/step - loss: 0.5624 - accuracy: 0.7957 - val_loss: 0.4854 - val_accuracy: 0.8000\n",
      "Epoch 91/100\n",
      "21/21 [==============================] - 8s 368ms/step - loss: 0.6044 - accuracy: 0.8027 - val_loss: 0.5773 - val_accuracy: 0.8000\n",
      "Epoch 92/100\n",
      "21/21 [==============================] - 8s 371ms/step - loss: 0.4385 - accuracy: 0.8108 - val_loss: 0.5513 - val_accuracy: 0.7200\n",
      "Epoch 93/100\n",
      "21/21 [==============================] - 8s 374ms/step - loss: 0.5455 - accuracy: 0.7950 - val_loss: 0.7440 - val_accuracy: 0.6400\n",
      "Epoch 94/100\n",
      "21/21 [==============================] - 8s 375ms/step - loss: 0.4805 - accuracy: 0.8232 - val_loss: 0.7548 - val_accuracy: 0.6600\n",
      "Epoch 95/100\n",
      "21/21 [==============================] - 8s 374ms/step - loss: 0.4596 - accuracy: 0.7977 - val_loss: 0.5816 - val_accuracy: 0.7000\n",
      "Epoch 96/100\n",
      "21/21 [==============================] - 8s 374ms/step - loss: 0.3870 - accuracy: 0.8656 - val_loss: 0.4930 - val_accuracy: 0.8200\n",
      "Epoch 97/100\n",
      "21/21 [==============================] - 8s 366ms/step - loss: 0.3790 - accuracy: 0.8556 - val_loss: 0.3500 - val_accuracy: 0.8400\n",
      "Epoch 98/100\n",
      "21/21 [==============================] - 8s 362ms/step - loss: 0.3510 - accuracy: 0.8834 - val_loss: 0.5107 - val_accuracy: 0.7800\n",
      "Epoch 99/100\n",
      "21/21 [==============================] - 8s 372ms/step - loss: 0.5342 - accuracy: 0.8612 - val_loss: 0.6272 - val_accuracy: 0.7800\n",
      "Epoch 100/100\n",
      "21/21 [==============================] - 8s 368ms/step - loss: 0.4112 - accuracy: 0.8412 - val_loss: 0.4696 - val_accuracy: 0.7800\n"
     ]
    }
   ],
   "source": [
    "#FIT MODEL\n",
    "print(len(train_batches))\n",
    "print(len(valid_batches))\n",
    "\n",
    "STEP_SIZE_TRAIN=train_batches.n//train_batches.batch_size\n",
    "STEP_SIZE_VALID=valid_batches.n//valid_batches.batch_size\n",
    "\n",
    "opt = tf.keras.optimizers.Adam(learning_rate=0.0001)\n",
    "model2.compile(optimizer=opt,\n",
    "                loss=tf.keras.losses.CategoricalCrossentropy(from_logits=False),\n",
    "                metrics=['accuracy'])\n",
    "history = model2.fit(train_batches, epochs=100, validation_data=valid_batches,batch_size=BATCH_SIZE, \n",
    "                    steps_per_epoch=STEP_SIZE_TRAIN, validation_steps = STEP_SIZE_VALID)"
   ]
  },
  {
   "cell_type": "code",
   "execution_count": 8,
   "metadata": {
    "colab": {
     "base_uri": "https://localhost:8080/",
     "height": 545
    },
    "id": "wSclPjNadXMB",
    "outputId": "edde8de5-3e62-42df-a23e-6b09000055b1"
   },
   "outputs": [
    {
     "data": {
      "image/png": "[encoded data removed]",
      "text/plain": [
       "<Figure size 432x288 with 1 Axes>"
      ]
     },
     "metadata": {
      "needs_background": "light",
      "tags": []
     },
     "output_type": "display_data"
    },
    {
     "data": {
      "image/png": "[encoded data removed]",
      "text/plain": [
       "<Figure size 432x288 with 1 Axes>"
      ]
     },
     "metadata": {
      "needs_background": "light",
      "tags": []
     },
     "output_type": "display_data"
    }
   ],
   "source": [
    "import matplotlib.pyplot as plt\n",
    "\n",
    "plt.title('Accuracy over 100 Epochs')\n",
    "plt.plot(history.history['accuracy'], label='Train_acc')\n",
    "plt.plot(history.history['val_accuracy'], label = 'Test_acc')\n",
    "plt.legend(loc='upper left')\n",
    "plt.grid(True)\n",
    "plt.show()\n",
    "\n",
    "plt.title('Loss over 100 Epochs')\n",
    "plt.plot(history.history['loss'], label='Train_loss')\n",
    "plt.plot(history.history['val_loss'], label = 'Test_loss')\n",
    "plt.legend(loc='upper right')\n",
    "plt.grid(True)\n",
    "plt.show()"
   ]
  },
  {
   "cell_type": "code",
   "execution_count": 9,
   "metadata": {
    "colab": {
     "base_uri": "https://localhost:8080/"
    },
    "id": "gD3A8qQpdamd",
    "outputId": "1110cacf-886c-4d57-c260-0b1e05beabd3"
   },
   "outputs": [
    {
     "name": "stdout",
     "output_type": "stream",
     "text": [
      "Found 36 images belonging to 4 classes.\n",
      "36\n",
      " 1/36 [..............................] - ETA: 5s - loss: 0.7011 - accuracy: 1.0000"
     ]
    },
    {
     "name": "stderr",
     "output_type": "stream",
     "text": [
      "/usr/local/lib/python3.7/dist-packages/tensorflow/python/keras/engine/training.py:1877: UserWarning: `Model.evaluate_generator` is deprecated and will be removed in a future version. Please use `Model.evaluate`, which supports generators.\n",
      "  warnings.warn('`Model.evaluate_generator` is deprecated and '\n"
     ]
    },
    {
     "name": "stdout",
     "output_type": "stream",
     "text": [
      "36/36 [==============================] - 1s 22ms/step - loss: 0.6889 - accuracy: 0.7500\n",
      "Test loss: 0.6888864636421204\n",
      "Test accuracy: 0.75\n"
     ]
    }
   ],
   "source": [
    "#vgg16.trainable = True\n",
    "test_datagen = ImageDataGenerator(rescale=1. / 255)\n",
    "\n",
    "eval_generator = test_datagen.flow_from_directory(TEST_DIR,target_size=IMAGE_SIZE,\n",
    "                                                  batch_size=1,shuffle=True,seed=42,class_mode=\"categorical\")\n",
    "eval_generator.reset()\n",
    "print(len(eval_generator))\n",
    "x = model2.evaluate_generator(eval_generator,steps = np.ceil(len(eval_generator)),\n",
    "                           use_multiprocessing = False,verbose = 1,workers=1)\n",
    "print('Test loss:' , x[0])\n",
    "print('Test accuracy:',x[1])"
   ]
  },
  {
   "cell_type": "code",
   "execution_count": 13,
   "metadata": {
    "colab": {
     "base_uri": "https://localhost:8080/",
     "height": 282
    },
    "id": "DGKCj8rm_t9P",
    "outputId": "9033ea99-3976-4f48-ab17-092519bf66a4"
   },
   "outputs": [
    {
     "name": "stdout",
     "output_type": "stream",
     "text": [
      "Found 270 images belonging to 4 classes.\n"
     ]
    },
    {
     "data": {
      "image/png": "[encoded data removed]",
      "text/plain": [
       "<Figure size 432x288 with 1 Axes>"
      ]
     },
     "metadata": {
      "needs_background": "light",
      "tags": []
     },
     "output_type": "display_data"
    }
   ],
   "source": [
    "from sklearn.manifold import TSNE\n",
    "\n",
    "intermediate_layer_model = tf.keras.models.Model(inputs=model2.input,\n",
    "                                        outputs=model2.get_layer('feature_dense').output)\n",
    "\n",
    "tsne_eval_generator = test_datagen.flow_from_directory(DATASET_PATH,target_size=IMAGE_SIZE,\n",
    "                                                  batch_size=1,shuffle=True,seed=42,class_mode=\"categorical\")\n",
    "\n",
    "\n",
    "#get labels from data generator\n",
    "labels_array = []\n",
    "num_labels=[]\n",
    "a = tsne_eval_generator.class_indices.keys()\n",
    "for i in range( tsne_eval_generator.__len__() ):\n",
    "    labels_array.extend(tsne_eval_generator.__getitem__( i )[1] )   #obtain the arrays of index to array\n",
    "    for j in range(len(labels_array[i])):       #obtain the index of item that is equal to 1, and append to the list \n",
    "        if labels_array[i][j] == 1.0:\n",
    "            num_labels.append(j)\n",
    "\n",
    "#feature extraction    \n",
    "tsne_eval_generator.reset()\n",
    "features = intermediate_layer_model.predict(tsne_eval_generator)\n",
    "\n",
    "#compress the dimensionality    \n",
    "tsne = TSNE(n_components=2)\n",
    "tsne_result = tsne.fit_transform(features)\n",
    "x=[i[0] for i in tsne_result]\n",
    "y=[i[1] for i in tsne_result]\n",
    "\n",
    "#plotting values\n",
    "zero_x=[]\n",
    "one_x=[]\n",
    "two_x=[]\n",
    "three_x=[]\n",
    "\n",
    "zero_y=[]\n",
    "one_y=[]\n",
    "two_y=[]\n",
    "three_y=[]\n",
    "\n",
    "for i in range(len(labels_array)):\n",
    "    if num_labels[i] == 0:\n",
    "        zero_x.append(x[i])\n",
    "        zero_y.append(y[i])\n",
    "    elif num_labels[i] == 1:\n",
    "        one_x.append(x[i])\n",
    "        one_y.append(y[i])\n",
    "    elif num_labels[i] == 2:\n",
    "        two_x.append(x[i])\n",
    "        two_y.append(y[i])\n",
    "    elif num_labels[i] == 3:\n",
    "        three_x.append(x[i])\n",
    "        three_y.append(y[i])\n",
    "        \n",
    "        \n",
    "#plotting\n",
    "plt.scatter(zero_x,zero_y, label='COVID-19', s=15)\n",
    "plt.scatter(one_x,one_y, label='Normal', s=15)\n",
    "plt.scatter(two_x,two_y, label='Pneumonia_bac', s=15)\n",
    "plt.scatter(three_x,three_y, label='Pneumonia_vir', s=15)\n",
    "plt.legend(loc='lower left')\n",
    "plt.show()"
   ]
  }
 ],
 "metadata": {
  "accelerator": "GPU",
  "colab": {
   "collapsed_sections": [],
   "name": "colab.ipynb",
   "provenance": []
  },
  "kernelspec": {
   "display_name": "Python 3",
   "language": "python",
   "name": "python3"
  },
  "language_info": {
   "codemirror_mode": {
    "name": "ipython",
    "version": 3
   },
   "file_extension": ".py",
   "mimetype": "text/x-python",
   "name": "python",
   "nbconvert_exporter": "python",
   "pygments_lexer": "ipython3",
   "version": "3.7.3"
  }
 },
 "nbformat": 4,
 "nbformat_minor": 1
}
