{
 "cells": [
  {
   "cell_type": "markdown",
   "metadata": {
    "nbpresent": {
     "id": "1d234e3f-af8b-4757-83f3-241b04b7a511"
    }
   },
   "source": [
    "# Class Challenge: Image Classification of COVID-19 X-rays\n",
    "# Task 2 [Total points: 30]"
   ]
  },
  {
   "cell_type": "markdown",
   "metadata": {
    "nbpresent": {
     "id": "b07b9992-b592-4871-9f9a-3b0ae5fa8b5f"
    }
   },
   "source": [
    "## Setup\n",
    "\n",
    "* This assignment involves the following packages: 'matplotlib', 'numpy', and 'sklearn'. \n",
    "\n",
    "* If you are using conda, use the following commands to install the above packages:<br>\n",
    "```shell\n",
    "conda install matplotlib\n",
    "conda install numpy\n",
    "conda install -c anaconda scikit-learn\n",
    "```\n",
    "\n",
    "* If you are using pip, use use the following commands to install the above packages: <br> \n",
    "```shell\n",
    "pip install matplotlib\n",
    "pip install numpy\n",
    "pip install sklearn\n",
    "```"
   ]
  },
  {
   "cell_type": "markdown",
   "metadata": {
    "nbpresent": {
     "id": "5516f610-f00c-43c3-bf19-4cf7ab9c089f"
    }
   },
   "source": [
    "## Data\n",
    "\n",
    "Please download the data using the following link: [COVID-19](https://drive.google.com/file/d/1Y88tgqpQ1Pjko_7rntcPowOJs_QNOrJ-/view). \n",
    "\n",
    "* After downloading 'Covid_Data_GradientCrescent.zip', unzip the file and you should see the following data structure:\n",
    "\n",
    "\n",
    "|--all<br>\n",
    "|--------train<br>\n",
    "|--------test<br>\n",
    "|--two<br>\n",
    "|--------train<br>\n",
    "|--------test<br>\n",
    "\n",
    "\n",
    "* Put the 'all' folder, the 'two' folder and this python notebook in the **same directory** so that the following code can correctly locate the data.  \n",
    "\n"
   ]
  },
  {
   "cell_type": "markdown",
   "metadata": {
    "nbpresent": {
     "id": "66140980-2aa4-457f-b1df-74c10c234cc2"
    }
   },
   "source": [
    "## [20 points] Multi-class Classification"
   ]
  },
  {
   "cell_type": "code",
   "execution_count": 1,
   "metadata": {
    "nbpresent": {
     "id": "5e05f980-3d14-4367-b3d1-664249145b13"
    },
    "scrolled": true
   },
   "outputs": [
    {
     "data": {
      "text/plain": [
       "'2.3.1'"
      ]
     },
     "execution_count": 1,
     "metadata": {},
     "output_type": "execute_result"
    }
   ],
   "source": [
    "import os\n",
    "\n",
    "import tensorflow as tf\n",
    "import numpy as np\n",
    "import matplotlib.pyplot as plt\n",
    "from tensorflow.keras.preprocessing.image import ImageDataGenerator\n",
    "\n",
    "os.environ['OMP_NUM_THREADS'] = '1'\n",
    "os.environ['CUDA_VISIBLE_DEVICES'] = '-1'\n",
    "tf.__version__"
   ]
  },
  {
   "cell_type": "markdown",
   "metadata": {
    "nbpresent": {
     "id": "66140980-2aa4-457f-b1df-74c10c234cc2"
    }
   },
   "source": [
    "#### Load Image Data"
   ]
  },
  {
   "cell_type": "code",
   "execution_count": 2,
   "metadata": {
    "nbpresent": {
     "id": "58317664-8da3-4283-b3e5-35721687e7ab"
    }
   },
   "outputs": [],
   "source": [
    "DATA_LIST = os.listdir('all/train')\n",
    "DATASET_PATH  = 'all/train'\n",
    "TEST_DIR =  'all/test'\n",
    "IMAGE_SIZE    = (224, 224)\n",
    "NUM_CLASSES   = len(DATA_LIST)\n",
    "BATCH_SIZE    = 10  # try reducing batch size or freeze more layers if your GPU runs out of memory\n",
    "NUM_EPOCHS    = 100\n",
    "LEARNING_RATE = 0.0001 # start off with high rate first 0.001 and experiment with reducing it gradually "
   ]
  },
  {
   "cell_type": "markdown",
   "metadata": {
    "nbpresent": {
     "id": "66140980-2aa4-457f-b1df-74c10c234cc2"
    }
   },
   "source": [
    "#### Generate Training and Validation Batches"
   ]
  },
  {
   "cell_type": "code",
   "execution_count": 3,
   "metadata": {
    "nbpresent": {
     "id": "71760e29-2b08-4259-93f1-ebe68cd74a6d"
    }
   },
   "outputs": [
    {
     "name": "stderr",
     "output_type": "stream",
     "text": [
      "C:\\Users\\Soo Whan Park\\Anaconda3\\lib\\site-packages\\keras_preprocessing\\image\\image_data_generator.py:342: UserWarning: This ImageDataGenerator specifies `zca_whitening` which overrides setting of`featurewise_std_normalization`.\n",
      "  warnings.warn('This ImageDataGenerator specifies '\n"
     ]
    },
    {
     "name": "stdout",
     "output_type": "stream",
     "text": [
      "Found 216 images belonging to 4 classes.\n",
      "Found 54 images belonging to 4 classes.\n"
     ]
    }
   ],
   "source": [
    "train_datagen = ImageDataGenerator(rescale=1./255,rotation_range=50,featurewise_center = True,\n",
    "                                   featurewise_std_normalization = True,width_shift_range=0.2,\n",
    "                                   height_shift_range=0.2,shear_range=0.25,zoom_range=0.1,\n",
    "                                   zca_whitening = True,channel_shift_range = 20,\n",
    "                                   horizontal_flip = True,vertical_flip = True,\n",
    "                                   validation_split = 0.2,fill_mode='constant')\n",
    "\n",
    "\n",
    "train_batches = train_datagen.flow_from_directory(DATASET_PATH,target_size=IMAGE_SIZE,\n",
    "                                                  shuffle=True,batch_size=BATCH_SIZE,\n",
    "                                                  subset = \"training\",seed=42,\n",
    "                                                  class_mode=\"categorical\")\n",
    "\n",
    "valid_batches = train_datagen.flow_from_directory(DATASET_PATH,target_size=IMAGE_SIZE,\n",
    "                                                  shuffle=True,batch_size=BATCH_SIZE,\n",
    "                                                  subset = \"validation\",\n",
    "                                                  seed=42,class_mode=\"categorical\")"
   ]
  },
  {
   "cell_type": "markdown",
   "metadata": {
    "nbpresent": {
     "id": "66140980-2aa4-457f-b1df-74c10c234cc2"
    }
   },
   "source": [
    "#### [10 points] Build Model\n",
    "Hint: Starting from a pre-trained model typically helps performance on a new task, e.g. starting with weights obtained by training on ImageNet. "
   ]
  },
  {
   "cell_type": "code",
   "execution_count": 4,
   "metadata": {
    "nbpresent": {
     "id": "5c52eeb2-1092-4d45-9e16-02219c82cb5e"
    }
   },
   "outputs": [
    {
     "name": "stdout",
     "output_type": "stream",
     "text": [
      "Model: \"sequential\"\n",
      "_________________________________________________________________\n",
      "Layer (type)                 Output Shape              Param #   \n",
      "=================================================================\n",
      "vgg16 (Functional)           (None, 7, 7, 512)         14714688  \n",
      "_________________________________________________________________\n",
      "flatten (Flatten)            (None, 25088)             0         \n",
      "_________________________________________________________________\n",
      "feature_dense (Dense)        (None, 256)               6422784   \n",
      "_________________________________________________________________\n",
      "dropout (Dropout)            (None, 256)               0         \n",
      "_________________________________________________________________\n",
      "dense (Dense)                (None, 256)               65792     \n",
      "_________________________________________________________________\n",
      "dropout_1 (Dropout)          (None, 256)               0         \n",
      "_________________________________________________________________\n",
      "dense_1 (Dense)              (None, 4)                 1028      \n",
      "=================================================================\n",
      "Total params: 21,204,292\n",
      "Trainable params: 6,489,604\n",
      "Non-trainable params: 14,714,688\n",
      "_________________________________________________________________\n"
     ]
    }
   ],
   "source": [
    "checkpoint_filepath = 'all/'\n",
    "checkpoint = tf.keras.callbacks.ModelCheckpoint(checkpoint_filepath,\n",
    "                            monitor='val_accuracy',\n",
    "                            verbose=1,\n",
    "                            save_weights_only=True,\n",
    "                            mode='max')\n",
    "    \n",
    "\n",
    "\n",
    "\n",
    "vgg16 = tf.keras.applications.VGG16(weights='imagenet', include_top=False, input_shape = (224,224,3))\n",
    "vgg16.trainable = False\n",
    "model = tf.keras.models.Sequential([\n",
    "    vgg16,\n",
    "    tf.keras.layers.Flatten(),\n",
    "    tf.keras.layers.Dense(256,activation='relu',name='feature_dense'),\n",
    "    tf.keras.layers.Dropout(0.25),\n",
    "    tf.keras.layers.Dense(256,activation='relu'),\n",
    "    tf.keras.layers.Dropout(0.25),\n",
    "    tf.keras.layers.Dense(4,activation='softmax')\n",
    "])\n",
    "model.summary()\n",
    "opt = tf.keras.optimizers.Adam(learning_rate=LEARNING_RATE)\n",
    "model.compile(optimizer=opt,\n",
    "                loss=tf.keras.losses.CategoricalCrossentropy(from_logits=False),\n",
    "                metrics=['accuracy'])"
   ]
  },
  {
   "cell_type": "markdown",
   "metadata": {
    "nbpresent": {
     "id": "66140980-2aa4-457f-b1df-74c10c234cc2"
    }
   },
   "source": [
    "#### [5 points] Train Model"
   ]
  },
  {
   "cell_type": "code",
   "execution_count": 5,
   "metadata": {
    "nbpresent": {
     "id": "cdb90d24-6a23-4969-8138-f37e7050062d"
    }
   },
   "outputs": [
    {
     "name": "stderr",
     "output_type": "stream",
     "text": [
      "C:\\Users\\Soo Whan Park\\Anaconda3\\lib\\site-packages\\keras_preprocessing\\image\\image_data_generator.py:720: UserWarning: This ImageDataGenerator specifies `featurewise_center`, but it hasn't been fit on any training data. Fit it first by calling `.fit(numpy_data)`.\n",
      "  warnings.warn('This ImageDataGenerator specifies '\n",
      "C:\\Users\\Soo Whan Park\\Anaconda3\\lib\\site-packages\\keras_preprocessing\\image\\image_data_generator.py:739: UserWarning: This ImageDataGenerator specifies `zca_whitening`, but it hasn't been fit on any training data. Fit it first by calling `.fit(numpy_data)`.\n",
      "  warnings.warn('This ImageDataGenerator specifies '\n"
     ]
    },
    {
     "name": "stdout",
     "output_type": "stream",
     "text": [
      "Epoch 1/100\n",
      "21/21 [==============================] - ETA: 0s - loss: 1.5838 - accuracy: 0.2282\n",
      "Epoch 00001: saving model to all\\\n",
      "21/21 [==============================] - 25s 1s/step - loss: 1.5838 - accuracy: 0.2282 - val_loss: 1.3033 - val_accuracy: 0.4000\n",
      "Epoch 2/100\n",
      "21/21 [==============================] - ETA: 0s - loss: 1.3655 - accuracy: 0.3857\n",
      "Epoch 00002: saving model to all\\\n",
      "21/21 [==============================] - 24s 1s/step - loss: 1.3655 - accuracy: 0.3857 - val_loss: 1.1922 - val_accuracy: 0.4600\n",
      "Epoch 3/100\n",
      "21/21 [==============================] - ETA: 0s - loss: 1.2802 - accuracy: 0.4223\n",
      "Epoch 00003: saving model to all\\\n",
      "21/21 [==============================] - 26s 1s/step - loss: 1.2802 - accuracy: 0.4223 - val_loss: 1.1265 - val_accuracy: 0.4800\n",
      "Epoch 4/100\n",
      "21/21 [==============================] - ETA: 0s - loss: 1.1461 - accuracy: 0.4806\n",
      "Epoch 00004: saving model to all\\\n",
      "21/21 [==============================] - 25s 1s/step - loss: 1.1461 - accuracy: 0.4806 - val_loss: 1.0936 - val_accuracy: 0.5000\n",
      "Epoch 5/100\n",
      "21/21 [==============================] - ETA: 0s - loss: 1.2053 - accuracy: 0.4320\n",
      "Epoch 00005: saving model to all\\\n",
      "21/21 [==============================] - 26s 1s/step - loss: 1.2053 - accuracy: 0.4320 - val_loss: 1.0330 - val_accuracy: 0.4800\n",
      "Epoch 6/100\n",
      "21/21 [==============================] - ETA: 0s - loss: 1.1456 - accuracy: 0.4619\n",
      "Epoch 00006: saving model to all\\\n",
      "21/21 [==============================] - 27s 1s/step - loss: 1.1456 - accuracy: 0.4619 - val_loss: 0.9888 - val_accuracy: 0.4600\n",
      "Epoch 7/100\n",
      "21/21 [==============================] - ETA: 0s - loss: 1.1449 - accuracy: 0.4660\n",
      "Epoch 00007: saving model to all\\\n",
      "21/21 [==============================] - 27s 1s/step - loss: 1.1449 - accuracy: 0.4660 - val_loss: 0.9920 - val_accuracy: 0.5200\n",
      "Epoch 8/100\n",
      "21/21 [==============================] - ETA: 0s - loss: 1.0532 - accuracy: 0.5631\n",
      "Epoch 00008: saving model to all\\\n",
      "21/21 [==============================] - 28s 1s/step - loss: 1.0532 - accuracy: 0.5631 - val_loss: 0.9844 - val_accuracy: 0.6200\n",
      "Epoch 9/100\n",
      "21/21 [==============================] - ETA: 0s - loss: 1.0692 - accuracy: 0.4806\n",
      "Epoch 00009: saving model to all\\\n",
      "21/21 [==============================] - 28s 1s/step - loss: 1.0692 - accuracy: 0.4806 - val_loss: 0.9322 - val_accuracy: 0.6000\n",
      "Epoch 10/100\n",
      "21/21 [==============================] - ETA: 0s - loss: 1.0241 - accuracy: 0.5388\n",
      "Epoch 00010: saving model to all\\\n",
      "21/21 [==============================] - 30s 1s/step - loss: 1.0241 - accuracy: 0.5388 - val_loss: 0.8539 - val_accuracy: 0.6600\n",
      "Epoch 11/100\n",
      "21/21 [==============================] - ETA: 0s - loss: 1.0383 - accuracy: 0.5762\n",
      "Epoch 00011: saving model to all\\\n",
      "21/21 [==============================] - 28s 1s/step - loss: 1.0383 - accuracy: 0.5762 - val_loss: 0.9129 - val_accuracy: 0.5200\n",
      "Epoch 12/100\n",
      "21/21 [==============================] - ETA: 0s - loss: 0.9928 - accuracy: 0.5243\n",
      "Epoch 00012: saving model to all\\\n",
      "21/21 [==============================] - 30s 1s/step - loss: 0.9928 - accuracy: 0.5243 - val_loss: 0.9630 - val_accuracy: 0.5600\n",
      "Epoch 13/100\n",
      "21/21 [==============================] - ETA: 0s - loss: 0.9286 - accuracy: 0.6019\n",
      "Epoch 00013: saving model to all\\\n",
      "21/21 [==============================] - 30s 1s/step - loss: 0.9286 - accuracy: 0.6019 - val_loss: 0.8162 - val_accuracy: 0.5800\n",
      "Epoch 14/100\n",
      "21/21 [==============================] - ETA: 0s - loss: 0.9362 - accuracy: 0.5388\n",
      "Epoch 00014: saving model to all\\\n",
      "21/21 [==============================] - 29s 1s/step - loss: 0.9362 - accuracy: 0.5388 - val_loss: 0.8075 - val_accuracy: 0.6600\n",
      "Epoch 15/100\n",
      "21/21 [==============================] - ETA: 0s - loss: 0.9125 - accuracy: 0.5825\n",
      "Epoch 00015: saving model to all\\\n",
      "21/21 [==============================] - 29s 1s/step - loss: 0.9125 - accuracy: 0.5825 - val_loss: 0.7724 - val_accuracy: 0.6800\n",
      "Epoch 16/100\n",
      "21/21 [==============================] - ETA: 0s - loss: 0.9260 - accuracy: 0.5728\n",
      "Epoch 00016: saving model to all\\\n",
      "21/21 [==============================] - 28s 1s/step - loss: 0.9260 - accuracy: 0.5728 - val_loss: 0.7750 - val_accuracy: 0.6600\n",
      "Epoch 17/100\n",
      "21/21 [==============================] - ETA: 0s - loss: 0.8911 - accuracy: 0.6429\n",
      "Epoch 00017: saving model to all\\\n",
      "21/21 [==============================] - 28s 1s/step - loss: 0.8911 - accuracy: 0.6429 - val_loss: 0.8149 - val_accuracy: 0.6000\n",
      "Epoch 18/100\n",
      "21/21 [==============================] - ETA: 0s - loss: 0.8915 - accuracy: 0.5857\n",
      "Epoch 00018: saving model to all\\\n",
      "21/21 [==============================] - 28s 1s/step - loss: 0.8915 - accuracy: 0.5857 - val_loss: 0.8089 - val_accuracy: 0.6600\n",
      "Epoch 19/100\n",
      "21/21 [==============================] - ETA: 0s - loss: 0.8287 - accuracy: 0.6359\n",
      "Epoch 00019: saving model to all\\\n",
      "21/21 [==============================] - 28s 1s/step - loss: 0.8287 - accuracy: 0.6359 - val_loss: 0.8138 - val_accuracy: 0.5800\n",
      "Epoch 20/100\n",
      "21/21 [==============================] - ETA: 0s - loss: 0.9043 - accuracy: 0.6117\n",
      "Epoch 00020: saving model to all\\\n",
      "21/21 [==============================] - 28s 1s/step - loss: 0.9043 - accuracy: 0.6117 - val_loss: 0.8358 - val_accuracy: 0.5400\n",
      "Epoch 21/100\n",
      "21/21 [==============================] - ETA: 0s - loss: 0.8761 - accuracy: 0.5874\n",
      "Epoch 00021: saving model to all\\\n",
      "21/21 [==============================] - 27s 1s/step - loss: 0.8761 - accuracy: 0.5874 - val_loss: 0.6482 - val_accuracy: 0.7600\n",
      "Epoch 22/100\n",
      "21/21 [==============================] - ETA: 0s - loss: 0.9120 - accuracy: 0.5971\n",
      "Epoch 00022: saving model to all\\\n",
      "21/21 [==============================] - 27s 1s/step - loss: 0.9120 - accuracy: 0.5971 - val_loss: 0.7711 - val_accuracy: 0.6400\n",
      "Epoch 23/100\n",
      "21/21 [==============================] - ETA: 0s - loss: 0.8858 - accuracy: 0.6359\n",
      "Epoch 00023: saving model to all\\\n",
      "21/21 [==============================] - 26s 1s/step - loss: 0.8858 - accuracy: 0.6359 - val_loss: 0.7075 - val_accuracy: 0.6800\n",
      "Epoch 24/100\n",
      "21/21 [==============================] - ETA: 0s - loss: 0.8510 - accuracy: 0.6117\n",
      "Epoch 00024: saving model to all\\\n",
      "21/21 [==============================] - 28s 1s/step - loss: 0.8510 - accuracy: 0.6117 - val_loss: 0.7472 - val_accuracy: 0.6600\n",
      "Epoch 25/100\n",
      "21/21 [==============================] - ETA: 0s - loss: 0.8488 - accuracy: 0.6214\n",
      "Epoch 00025: saving model to all\\\n",
      "21/21 [==============================] - 30s 1s/step - loss: 0.8488 - accuracy: 0.6214 - val_loss: 0.6443 - val_accuracy: 0.6800\n",
      "Epoch 26/100\n",
      "21/21 [==============================] - ETA: 0s - loss: 0.7702 - accuracy: 0.6456\n",
      "Epoch 00026: saving model to all\\\n",
      "21/21 [==============================] - 30s 1s/step - loss: 0.7702 - accuracy: 0.6456 - val_loss: 0.6684 - val_accuracy: 0.6600\n",
      "Epoch 27/100\n",
      "21/21 [==============================] - ETA: 0s - loss: 0.8112 - accuracy: 0.6650\n",
      "Epoch 00027: saving model to all\\\n",
      "21/21 [==============================] - 34s 2s/step - loss: 0.8112 - accuracy: 0.6650 - val_loss: 0.8308 - val_accuracy: 0.6800\n",
      "Epoch 28/100\n",
      "21/21 [==============================] - ETA: 0s - loss: 0.8351 - accuracy: 0.6456\n",
      "Epoch 00028: saving model to all\\\n",
      "21/21 [==============================] - 33s 2s/step - loss: 0.8351 - accuracy: 0.6456 - val_loss: 0.7415 - val_accuracy: 0.6800\n",
      "Epoch 29/100\n",
      "21/21 [==============================] - ETA: 0s - loss: 0.7833 - accuracy: 0.6359\n",
      "Epoch 00029: saving model to all\\\n",
      "21/21 [==============================] - 30s 1s/step - loss: 0.7833 - accuracy: 0.6359 - val_loss: 0.6809 - val_accuracy: 0.7000\n",
      "Epoch 30/100\n",
      "21/21 [==============================] - ETA: 0s - loss: 0.7740 - accuracy: 0.6845\n",
      "Epoch 00030: saving model to all\\\n",
      "21/21 [==============================] - 30s 1s/step - loss: 0.7740 - accuracy: 0.6845 - val_loss: 0.6949 - val_accuracy: 0.6600\n",
      "Epoch 31/100\n",
      "21/21 [==============================] - ETA: 0s - loss: 0.7631 - accuracy: 0.6650\n",
      "Epoch 00031: saving model to all\\\n",
      "21/21 [==============================] - 31s 1s/step - loss: 0.7631 - accuracy: 0.6650 - val_loss: 0.8311 - val_accuracy: 0.6200\n",
      "Epoch 32/100\n",
      "21/21 [==============================] - ETA: 0s - loss: 0.7369 - accuracy: 0.6553\n",
      "Epoch 00032: saving model to all\\\n",
      "21/21 [==============================] - 29s 1s/step - loss: 0.7369 - accuracy: 0.6553 - val_loss: 0.6439 - val_accuracy: 0.6800\n"
     ]
    },
    {
     "name": "stdout",
     "output_type": "stream",
     "text": [
      "Epoch 33/100\n",
      "21/21 [==============================] - ETA: 0s - loss: 0.6901 - accuracy: 0.6990\n",
      "Epoch 00033: saving model to all\\\n",
      "21/21 [==============================] - 29s 1s/step - loss: 0.6901 - accuracy: 0.6990 - val_loss: 0.5954 - val_accuracy: 0.7200\n",
      "Epoch 34/100\n",
      "21/21 [==============================] - ETA: 0s - loss: 0.7809 - accuracy: 0.6456\n",
      "Epoch 00034: saving model to all\\\n",
      "21/21 [==============================] - 29s 1s/step - loss: 0.7809 - accuracy: 0.6456 - val_loss: 0.7287 - val_accuracy: 0.7000\n",
      "Epoch 35/100\n",
      "21/21 [==============================] - ETA: 0s - loss: 0.7262 - accuracy: 0.6796\n",
      "Epoch 00035: saving model to all\\\n",
      "21/21 [==============================] - 29s 1s/step - loss: 0.7262 - accuracy: 0.6796 - val_loss: 0.6912 - val_accuracy: 0.6600\n",
      "Epoch 36/100\n",
      "21/21 [==============================] - ETA: 0s - loss: 0.7948 - accuracy: 0.6553\n",
      "Epoch 00036: saving model to all\\\n",
      "21/21 [==============================] - 28s 1s/step - loss: 0.7948 - accuracy: 0.6553 - val_loss: 0.6684 - val_accuracy: 0.5800\n",
      "Epoch 37/100\n",
      "21/21 [==============================] - ETA: 0s - loss: 0.7366 - accuracy: 0.6553\n",
      "Epoch 00037: saving model to all\\\n",
      "21/21 [==============================] - 28s 1s/step - loss: 0.7366 - accuracy: 0.6553 - val_loss: 0.7502 - val_accuracy: 0.7200\n",
      "Epoch 38/100\n",
      "21/21 [==============================] - ETA: 0s - loss: 0.7092 - accuracy: 0.6699\n",
      "Epoch 00038: saving model to all\\\n",
      "21/21 [==============================] - 28s 1s/step - loss: 0.7092 - accuracy: 0.6699 - val_loss: 0.7909 - val_accuracy: 0.5800\n",
      "Epoch 39/100\n",
      "21/21 [==============================] - ETA: 0s - loss: 0.7221 - accuracy: 0.6893\n",
      "Epoch 00039: saving model to all\\\n",
      "21/21 [==============================] - 28s 1s/step - loss: 0.7221 - accuracy: 0.6893 - val_loss: 0.7139 - val_accuracy: 0.5800\n",
      "Epoch 40/100\n",
      "21/21 [==============================] - ETA: 0s - loss: 0.8032 - accuracy: 0.6456\n",
      "Epoch 00040: saving model to all\\\n",
      "21/21 [==============================] - 29s 1s/step - loss: 0.8032 - accuracy: 0.6456 - val_loss: 0.6909 - val_accuracy: 0.7800\n",
      "Epoch 41/100\n",
      "21/21 [==============================] - ETA: 0s - loss: 0.7852 - accuracy: 0.6553\n",
      "Epoch 00041: saving model to all\\\n",
      "21/21 [==============================] - 28s 1s/step - loss: 0.7852 - accuracy: 0.6553 - val_loss: 0.8317 - val_accuracy: 0.5800\n",
      "Epoch 42/100\n",
      "21/21 [==============================] - ETA: 0s - loss: 0.7506 - accuracy: 0.6650\n",
      "Epoch 00042: saving model to all\\\n",
      "21/21 [==============================] - 25s 1s/step - loss: 0.7506 - accuracy: 0.6650 - val_loss: 0.8600 - val_accuracy: 0.6200\n",
      "Epoch 43/100\n",
      "21/21 [==============================] - ETA: 0s - loss: 0.7065 - accuracy: 0.7087\n",
      "Epoch 00043: saving model to all\\\n",
      "21/21 [==============================] - 27s 1s/step - loss: 0.7065 - accuracy: 0.7087 - val_loss: 0.6687 - val_accuracy: 0.7000\n",
      "Epoch 44/100\n",
      "21/21 [==============================] - ETA: 0s - loss: 0.6996 - accuracy: 0.7039\n",
      "Epoch 00044: saving model to all\\\n",
      "21/21 [==============================] - 28s 1s/step - loss: 0.6996 - accuracy: 0.7039 - val_loss: 0.6372 - val_accuracy: 0.7400\n",
      "Epoch 45/100\n",
      "21/21 [==============================] - ETA: 0s - loss: 0.6751 - accuracy: 0.6990\n",
      "Epoch 00045: saving model to all\\\n",
      "21/21 [==============================] - 28s 1s/step - loss: 0.6751 - accuracy: 0.6990 - val_loss: 0.5951 - val_accuracy: 0.6400\n",
      "Epoch 46/100\n",
      "21/21 [==============================] - ETA: 0s - loss: 0.7133 - accuracy: 0.6650\n",
      "Epoch 00046: saving model to all\\\n",
      "21/21 [==============================] - 31s 1s/step - loss: 0.7133 - accuracy: 0.6650 - val_loss: 0.6616 - val_accuracy: 0.6400\n",
      "Epoch 47/100\n",
      "21/21 [==============================] - ETA: 0s - loss: 0.6327 - accuracy: 0.7379\n",
      "Epoch 00047: saving model to all\\\n",
      "21/21 [==============================] - 28s 1s/step - loss: 0.6327 - accuracy: 0.7379 - val_loss: 0.6273 - val_accuracy: 0.6600\n",
      "Epoch 48/100\n",
      "21/21 [==============================] - ETA: 0s - loss: 0.6640 - accuracy: 0.7379\n",
      "Epoch 00048: saving model to all\\\n",
      "21/21 [==============================] - 29s 1s/step - loss: 0.6640 - accuracy: 0.7379 - val_loss: 0.7218 - val_accuracy: 0.6400\n",
      "Epoch 49/100\n",
      "21/21 [==============================] - ETA: 0s - loss: 0.6947 - accuracy: 0.6714\n",
      "Epoch 00049: saving model to all\\\n",
      "21/21 [==============================] - 28s 1s/step - loss: 0.6947 - accuracy: 0.6714 - val_loss: 0.7243 - val_accuracy: 0.5600\n",
      "Epoch 50/100\n",
      "21/21 [==============================] - ETA: 0s - loss: 0.7383 - accuracy: 0.6893\n",
      "Epoch 00050: saving model to all\\\n",
      "21/21 [==============================] - 28s 1s/step - loss: 0.7383 - accuracy: 0.6893 - val_loss: 0.6150 - val_accuracy: 0.6800\n",
      "Epoch 51/100\n",
      "21/21 [==============================] - ETA: 0s - loss: 0.7373 - accuracy: 0.6990\n",
      "Epoch 00051: saving model to all\\\n",
      "21/21 [==============================] - 28s 1s/step - loss: 0.7373 - accuracy: 0.6990 - val_loss: 0.6529 - val_accuracy: 0.6600\n",
      "Epoch 52/100\n",
      "21/21 [==============================] - ETA: 0s - loss: 0.6867 - accuracy: 0.6893\n",
      "Epoch 00052: saving model to all\\\n",
      "21/21 [==============================] - 28s 1s/step - loss: 0.6867 - accuracy: 0.6893 - val_loss: 0.6839 - val_accuracy: 0.6800\n",
      "Epoch 53/100\n",
      "21/21 [==============================] - ETA: 0s - loss: 0.6498 - accuracy: 0.7136\n",
      "Epoch 00053: saving model to all\\\n",
      "21/21 [==============================] - 27s 1s/step - loss: 0.6498 - accuracy: 0.7136 - val_loss: 0.6029 - val_accuracy: 0.6800\n",
      "Epoch 54/100\n",
      "21/21 [==============================] - ETA: 0s - loss: 0.6290 - accuracy: 0.7184\n",
      "Epoch 00054: saving model to all\\\n",
      "21/21 [==============================] - 27s 1s/step - loss: 0.6290 - accuracy: 0.7184 - val_loss: 0.5809 - val_accuracy: 0.7000\n",
      "Epoch 55/100\n",
      "21/21 [==============================] - ETA: 0s - loss: 0.7096 - accuracy: 0.6602\n",
      "Epoch 00055: saving model to all\\\n",
      "21/21 [==============================] - 29s 1s/step - loss: 0.7096 - accuracy: 0.6602 - val_loss: 0.6291 - val_accuracy: 0.7000\n",
      "Epoch 56/100\n",
      "21/21 [==============================] - ETA: 0s - loss: 0.6766 - accuracy: 0.6990\n",
      "Epoch 00056: saving model to all\\\n",
      "21/21 [==============================] - 29s 1s/step - loss: 0.6766 - accuracy: 0.6990 - val_loss: 0.5621 - val_accuracy: 0.6600\n",
      "Epoch 57/100\n",
      "21/21 [==============================] - ETA: 0s - loss: 0.7042 - accuracy: 0.6893\n",
      "Epoch 00057: saving model to all\\\n",
      "21/21 [==============================] - 29s 1s/step - loss: 0.7042 - accuracy: 0.6893 - val_loss: 0.6559 - val_accuracy: 0.6800\n",
      "Epoch 58/100\n",
      "21/21 [==============================] - ETA: 0s - loss: 0.6278 - accuracy: 0.7379\n",
      "Epoch 00058: saving model to all\\\n",
      "21/21 [==============================] - 27s 1s/step - loss: 0.6278 - accuracy: 0.7379 - val_loss: 0.8135 - val_accuracy: 0.6400\n",
      "Epoch 59/100\n",
      "21/21 [==============================] - ETA: 0s - loss: 0.6307 - accuracy: 0.7379\n",
      "Epoch 00059: saving model to all\\\n",
      "21/21 [==============================] - 27s 1s/step - loss: 0.6307 - accuracy: 0.7379 - val_loss: 0.6912 - val_accuracy: 0.6800\n",
      "Epoch 60/100\n",
      "21/21 [==============================] - ETA: 0s - loss: 0.6509 - accuracy: 0.7427\n",
      "Epoch 00060: saving model to all\\\n",
      "21/21 [==============================] - 28s 1s/step - loss: 0.6509 - accuracy: 0.7427 - val_loss: 0.5843 - val_accuracy: 0.7600\n",
      "Epoch 61/100\n",
      "21/21 [==============================] - ETA: 0s - loss: 0.6971 - accuracy: 0.7087\n",
      "Epoch 00061: saving model to all\\\n",
      "21/21 [==============================] - 30s 1s/step - loss: 0.6971 - accuracy: 0.7087 - val_loss: 0.6146 - val_accuracy: 0.6800\n",
      "Epoch 62/100\n",
      "21/21 [==============================] - ETA: 0s - loss: 0.6158 - accuracy: 0.7233\n",
      "Epoch 00062: saving model to all\\\n",
      "21/21 [==============================] - 30s 1s/step - loss: 0.6158 - accuracy: 0.7233 - val_loss: 0.6480 - val_accuracy: 0.7000\n",
      "Epoch 63/100\n",
      "21/21 [==============================] - ETA: 0s - loss: 0.7123 - accuracy: 0.6602\n",
      "Epoch 00063: saving model to all\\\n",
      "21/21 [==============================] - 29s 1s/step - loss: 0.7123 - accuracy: 0.6602 - val_loss: 0.6659 - val_accuracy: 0.6400\n",
      "Epoch 64/100\n",
      "21/21 [==============================] - ETA: 0s - loss: 0.6488 - accuracy: 0.7330\n",
      "Epoch 00064: saving model to all\\\n",
      "21/21 [==============================] - 29s 1s/step - loss: 0.6488 - accuracy: 0.7330 - val_loss: 0.5231 - val_accuracy: 0.7400\n"
     ]
    },
    {
     "name": "stdout",
     "output_type": "stream",
     "text": [
      "Epoch 65/100\n",
      "21/21 [==============================] - ETA: 0s - loss: 0.6956 - accuracy: 0.6845\n",
      "Epoch 00065: saving model to all\\\n",
      "21/21 [==============================] - 29s 1s/step - loss: 0.6956 - accuracy: 0.6845 - val_loss: 0.6044 - val_accuracy: 0.7200\n",
      "Epoch 66/100\n",
      "21/21 [==============================] - ETA: 0s - loss: 0.6298 - accuracy: 0.7427\n",
      "Epoch 00066: saving model to all\\\n",
      "21/21 [==============================] - 28s 1s/step - loss: 0.6298 - accuracy: 0.7427 - val_loss: 0.7433 - val_accuracy: 0.6400\n",
      "Epoch 67/100\n",
      "21/21 [==============================] - ETA: 0s - loss: 0.5968 - accuracy: 0.7476\n",
      "Epoch 00067: saving model to all\\\n",
      "21/21 [==============================] - 29s 1s/step - loss: 0.5968 - accuracy: 0.7476 - val_loss: 0.5490 - val_accuracy: 0.7200\n",
      "Epoch 68/100\n",
      "21/21 [==============================] - ETA: 0s - loss: 0.6387 - accuracy: 0.7427\n",
      "Epoch 00068: saving model to all\\\n",
      "21/21 [==============================] - 30s 1s/step - loss: 0.6387 - accuracy: 0.7427 - val_loss: 0.5948 - val_accuracy: 0.7000\n",
      "Epoch 69/100\n",
      "21/21 [==============================] - ETA: 0s - loss: 0.6445 - accuracy: 0.7184\n",
      "Epoch 00069: saving model to all\\\n",
      "21/21 [==============================] - 28s 1s/step - loss: 0.6445 - accuracy: 0.7184 - val_loss: 0.6579 - val_accuracy: 0.6400\n",
      "Epoch 70/100\n",
      "21/21 [==============================] - ETA: 0s - loss: 0.6539 - accuracy: 0.7184\n",
      "Epoch 00070: saving model to all\\\n",
      "21/21 [==============================] - 28s 1s/step - loss: 0.6539 - accuracy: 0.7184 - val_loss: 0.5536 - val_accuracy: 0.6800\n",
      "Epoch 71/100\n",
      "21/21 [==============================] - ETA: 0s - loss: 0.6259 - accuracy: 0.7573\n",
      "Epoch 00071: saving model to all\\\n",
      "21/21 [==============================] - 28s 1s/step - loss: 0.6259 - accuracy: 0.7573 - val_loss: 0.6523 - val_accuracy: 0.6800\n",
      "Epoch 72/100\n",
      "21/21 [==============================] - ETA: 0s - loss: 0.5874 - accuracy: 0.7524\n",
      "Epoch 00072: saving model to all\\\n",
      "21/21 [==============================] - 31s 1s/step - loss: 0.5874 - accuracy: 0.7524 - val_loss: 0.6164 - val_accuracy: 0.6400\n",
      "Epoch 73/100\n",
      "21/21 [==============================] - ETA: 0s - loss: 0.6481 - accuracy: 0.7136\n",
      "Epoch 00073: saving model to all\\\n",
      "21/21 [==============================] - 29s 1s/step - loss: 0.6481 - accuracy: 0.7136 - val_loss: 0.5078 - val_accuracy: 0.7800\n",
      "Epoch 74/100\n",
      "21/21 [==============================] - ETA: 0s - loss: 0.6365 - accuracy: 0.7136\n",
      "Epoch 00074: saving model to all\\\n",
      "21/21 [==============================] - 29s 1s/step - loss: 0.6365 - accuracy: 0.7136 - val_loss: 0.6366 - val_accuracy: 0.6200\n",
      "Epoch 75/100\n",
      "21/21 [==============================] - ETA: 0s - loss: 0.6151 - accuracy: 0.7039\n",
      "Epoch 00075: saving model to all\\\n",
      "21/21 [==============================] - 29s 1s/step - loss: 0.6151 - accuracy: 0.7039 - val_loss: 0.6875 - val_accuracy: 0.7000\n",
      "Epoch 76/100\n",
      "21/21 [==============================] - ETA: 0s - loss: 0.6473 - accuracy: 0.7330\n",
      "Epoch 00076: saving model to all\\\n",
      "21/21 [==============================] - 31s 1s/step - loss: 0.6473 - accuracy: 0.7330 - val_loss: 0.6027 - val_accuracy: 0.6600\n",
      "Epoch 77/100\n",
      "21/21 [==============================] - ETA: 0s - loss: 0.6200 - accuracy: 0.7379\n",
      "Epoch 00077: saving model to all\\\n",
      "21/21 [==============================] - 30s 1s/step - loss: 0.6200 - accuracy: 0.7379 - val_loss: 0.6040 - val_accuracy: 0.6400\n",
      "Epoch 78/100\n",
      "21/21 [==============================] - ETA: 0s - loss: 0.5999 - accuracy: 0.7621\n",
      "Epoch 00078: saving model to all\\\n",
      "21/21 [==============================] - 27s 1s/step - loss: 0.5999 - accuracy: 0.7621 - val_loss: 0.6944 - val_accuracy: 0.6600\n",
      "Epoch 79/100\n",
      "21/21 [==============================] - ETA: 0s - loss: 0.7132 - accuracy: 0.6796\n",
      "Epoch 00079: saving model to all\\\n",
      "21/21 [==============================] - 28s 1s/step - loss: 0.7132 - accuracy: 0.6796 - val_loss: 0.7125 - val_accuracy: 0.6600\n",
      "Epoch 80/100\n",
      "21/21 [==============================] - ETA: 0s - loss: 0.6360 - accuracy: 0.7330\n",
      "Epoch 00080: saving model to all\\\n",
      "21/21 [==============================] - 30s 1s/step - loss: 0.6360 - accuracy: 0.7330 - val_loss: 0.5802 - val_accuracy: 0.7400\n",
      "Epoch 81/100\n",
      "21/21 [==============================] - ETA: 0s - loss: 0.6294 - accuracy: 0.6893\n",
      "Epoch 00081: saving model to all\\\n",
      "21/21 [==============================] - 31s 1s/step - loss: 0.6294 - accuracy: 0.6893 - val_loss: 0.6924 - val_accuracy: 0.6000\n",
      "Epoch 82/100\n",
      "21/21 [==============================] - ETA: 0s - loss: 0.6664 - accuracy: 0.7039\n",
      "Epoch 00082: saving model to all\\\n",
      "21/21 [==============================] - 27s 1s/step - loss: 0.6664 - accuracy: 0.7039 - val_loss: 0.7521 - val_accuracy: 0.6400\n",
      "Epoch 83/100\n",
      "21/21 [==============================] - ETA: 0s - loss: 0.6340 - accuracy: 0.7621\n",
      "Epoch 00083: saving model to all\\\n",
      "21/21 [==============================] - 28s 1s/step - loss: 0.6340 - accuracy: 0.7621 - val_loss: 0.5269 - val_accuracy: 0.7400\n",
      "Epoch 84/100\n",
      "21/21 [==============================] - ETA: 0s - loss: 0.5832 - accuracy: 0.7816\n",
      "Epoch 00084: saving model to all\\\n",
      "21/21 [==============================] - 31s 1s/step - loss: 0.5832 - accuracy: 0.7816 - val_loss: 0.7031 - val_accuracy: 0.6600\n",
      "Epoch 85/100\n",
      "21/21 [==============================] - ETA: 0s - loss: 0.6278 - accuracy: 0.7184\n",
      "Epoch 00085: saving model to all\\\n",
      "21/21 [==============================] - 31s 1s/step - loss: 0.6278 - accuracy: 0.7184 - val_loss: 0.5940 - val_accuracy: 0.7000\n",
      "Epoch 86/100\n",
      "21/21 [==============================] - ETA: 0s - loss: 0.6210 - accuracy: 0.7039\n",
      "Epoch 00086: saving model to all\\\n",
      "21/21 [==============================] - 28s 1s/step - loss: 0.6210 - accuracy: 0.7039 - val_loss: 0.6100 - val_accuracy: 0.6600\n",
      "Epoch 87/100\n",
      "21/21 [==============================] - ETA: 0s - loss: 0.6124 - accuracy: 0.7427\n",
      "Epoch 00087: saving model to all\\\n",
      "21/21 [==============================] - 29s 1s/step - loss: 0.6124 - accuracy: 0.7427 - val_loss: 0.5667 - val_accuracy: 0.7000\n",
      "Epoch 88/100\n",
      "21/21 [==============================] - ETA: 0s - loss: 0.5499 - accuracy: 0.7476\n",
      "Epoch 00088: saving model to all\\\n",
      "21/21 [==============================] - 28s 1s/step - loss: 0.5499 - accuracy: 0.7476 - val_loss: 0.6006 - val_accuracy: 0.7000\n",
      "Epoch 89/100\n",
      "21/21 [==============================] - ETA: 0s - loss: 0.6376 - accuracy: 0.7039\n",
      "Epoch 00089: saving model to all\\\n",
      "21/21 [==============================] - 28s 1s/step - loss: 0.6376 - accuracy: 0.7039 - val_loss: 0.7910 - val_accuracy: 0.6800\n",
      "Epoch 90/100\n",
      "21/21 [==============================] - ETA: 0s - loss: 0.5721 - accuracy: 0.7864\n",
      "Epoch 00090: saving model to all\\\n",
      "21/21 [==============================] - 28s 1s/step - loss: 0.5721 - accuracy: 0.7864 - val_loss: 0.5918 - val_accuracy: 0.7200\n",
      "Epoch 91/100\n",
      "21/21 [==============================] - ETA: 0s - loss: 0.6279 - accuracy: 0.7233\n",
      "Epoch 00091: saving model to all\\\n",
      "21/21 [==============================] - 28s 1s/step - loss: 0.6279 - accuracy: 0.7233 - val_loss: 0.7006 - val_accuracy: 0.7000\n",
      "Epoch 92/100\n",
      "21/21 [==============================] - ETA: 0s - loss: 0.5446 - accuracy: 0.7670\n",
      "Epoch 00092: saving model to all\\\n",
      "21/21 [==============================] - 28s 1s/step - loss: 0.5446 - accuracy: 0.7670 - val_loss: 0.6294 - val_accuracy: 0.7000\n",
      "Epoch 93/100\n",
      "21/21 [==============================] - ETA: 0s - loss: 0.6094 - accuracy: 0.7427\n",
      "Epoch 00093: saving model to all\\\n",
      "21/21 [==============================] - 28s 1s/step - loss: 0.6094 - accuracy: 0.7427 - val_loss: 0.5762 - val_accuracy: 0.7400\n",
      "Epoch 94/100\n",
      "21/21 [==============================] - ETA: 0s - loss: 0.5738 - accuracy: 0.7621\n",
      "Epoch 00094: saving model to all\\\n",
      "21/21 [==============================] - 27s 1s/step - loss: 0.5738 - accuracy: 0.7621 - val_loss: 0.6812 - val_accuracy: 0.6600\n",
      "Epoch 95/100\n",
      "21/21 [==============================] - ETA: 0s - loss: 0.6047 - accuracy: 0.7427\n",
      "Epoch 00095: saving model to all\\\n",
      "21/21 [==============================] - 29s 1s/step - loss: 0.6047 - accuracy: 0.7427 - val_loss: 0.6478 - val_accuracy: 0.6600\n",
      "Epoch 96/100\n",
      "21/21 [==============================] - ETA: 0s - loss: 0.6575 - accuracy: 0.6845\n",
      "Epoch 00096: saving model to all\\\n",
      "21/21 [==============================] - 29s 1s/step - loss: 0.6575 - accuracy: 0.6845 - val_loss: 0.5715 - val_accuracy: 0.7000\n"
     ]
    },
    {
     "name": "stdout",
     "output_type": "stream",
     "text": [
      "Epoch 97/100\n",
      "21/21 [==============================] - ETA: 0s - loss: 0.6431 - accuracy: 0.6942\n",
      "Epoch 00097: saving model to all\\\n",
      "21/21 [==============================] - 28s 1s/step - loss: 0.6431 - accuracy: 0.6942 - val_loss: 0.5347 - val_accuracy: 0.7000\n",
      "Epoch 98/100\n",
      "21/21 [==============================] - ETA: 0s - loss: 0.5064 - accuracy: 0.7816\n",
      "Epoch 00098: saving model to all\\\n",
      "21/21 [==============================] - 28s 1s/step - loss: 0.5064 - accuracy: 0.7816 - val_loss: 0.6715 - val_accuracy: 0.6400\n",
      "Epoch 99/100\n",
      "21/21 [==============================] - ETA: 0s - loss: 0.5544 - accuracy: 0.7573\n",
      "Epoch 00099: saving model to all\\\n",
      "21/21 [==============================] - 28s 1s/step - loss: 0.5544 - accuracy: 0.7573 - val_loss: 0.6175 - val_accuracy: 0.6800\n",
      "Epoch 100/100\n",
      "21/21 [==============================] - ETA: 0s - loss: 0.5535 - accuracy: 0.7767\n",
      "Epoch 00100: saving model to all\\\n",
      "21/21 [==============================] - 28s 1s/step - loss: 0.5535 - accuracy: 0.7767 - val_loss: 0.5120 - val_accuracy: 0.7800\n"
     ]
    },
    {
     "data": {
      "text/plain": [
       "<tensorflow.python.training.tracking.util.CheckpointLoadStatus at 0x1d5763e0198>"
      ]
     },
     "execution_count": 5,
     "metadata": {},
     "output_type": "execute_result"
    }
   ],
   "source": [
    "#FIT MODEL\n",
    "STEP_SIZE_TRAIN=train_batches.n//train_batches.batch_size\n",
    "STEP_SIZE_VALID=valid_batches.n//valid_batches.batch_size\n",
    "\n",
    "history = model.fit(train_batches, epochs=100, validation_data=valid_batches,batch_size=5, \n",
    "                    steps_per_epoch=STEP_SIZE_TRAIN, validation_steps = STEP_SIZE_VALID, callbacks=[checkpoint])\n",
    "model.load_weights(checkpoint_filepath)"
   ]
  },
  {
   "cell_type": "markdown",
   "metadata": {
    "nbpresent": {
     "id": "66140980-2aa4-457f-b1df-74c10c234cc2"
    }
   },
   "source": [
    "#### [5 points] Plot Accuracy and Loss During Training"
   ]
  },
  {
   "cell_type": "code",
   "execution_count": 6,
   "metadata": {
    "nbpresent": {
     "id": "ff342098-784a-4e20-ac34-b74ca8ebe839"
    }
   },
   "outputs": [
    {
     "data": {
      "image/png": "[encoded data removed]",
      "text/plain": [
       "<Figure size 432x288 with 1 Axes>"
      ]
     },
     "metadata": {
      "needs_background": "light"
     },
     "output_type": "display_data"
    },
    {
     "data": {
      "image/png": "[encoded data removed]",
      "text/plain": [
       "<Figure size 432x288 with 1 Axes>"
      ]
     },
     "metadata": {
      "needs_background": "light"
     },
     "output_type": "display_data"
    }
   ],
   "source": [
    "import matplotlib.pyplot as plt\n",
    "\n",
    "plt.title('Accuracy over 80 Epochs')\n",
    "plt.plot(history.history['accuracy'], label='Train_acc')\n",
    "plt.plot(history.history['val_accuracy'], label = 'Test_acc')\n",
    "plt.legend(loc='upper left')\n",
    "plt.grid(True)\n",
    "plt.show()\n",
    "\n",
    "plt.title('Loss over 80 Epochs')\n",
    "plt.plot(history.history['loss'], label='Train_loss')\n",
    "plt.plot(history.history['val_loss'], label = 'Test_loss')\n",
    "plt.legend(loc='upper right')\n",
    "plt.grid(True)\n",
    "plt.show()"
   ]
  },
  {
   "cell_type": "markdown",
   "metadata": {
    "nbpresent": {
     "id": "66140980-2aa4-457f-b1df-74c10c234cc2"
    }
   },
   "source": [
    "#### Testing Model"
   ]
  },
  {
   "cell_type": "code",
   "execution_count": 7,
   "metadata": {},
   "outputs": [
    {
     "name": "stdout",
     "output_type": "stream",
     "text": [
      "Found 36 images belonging to 4 classes.\n",
      "WARNING:tensorflow:From <ipython-input-7-8c991f53e20a>:8: Model.evaluate_generator (from tensorflow.python.keras.engine.training) is deprecated and will be removed in a future version.\n",
      "Instructions for updating:\n",
      "Please use Model.evaluate, which supports generators.\n",
      "36/36 [==============================] - 4s 117ms/step - loss: 0.7585 - accuracy: 0.6111\n",
      "Test loss: 0.758461058139801\n",
      "Test accuracy: 0.6111111044883728\n"
     ]
    }
   ],
   "source": [
    "vgg16.trainable = True\n",
    "test_datagen = ImageDataGenerator(rescale=1. / 255)\n",
    "\n",
    "eval_generator = test_datagen.flow_from_directory(TEST_DIR,target_size=IMAGE_SIZE,\n",
    "                                                  batch_size=1,shuffle=True,seed=42,class_mode=\"categorical\")\n",
    "eval_generator.reset()\n",
    "x = model.evaluate_generator(eval_generator,steps = np.ceil(len(eval_generator)),\n",
    "                           use_multiprocessing = False,verbose = 1,workers=1)\n",
    "print('Test loss:' , x[0])\n",
    "print('Test accuracy:',x[1])"
   ]
  },
  {
   "cell_type": "code",
   "execution_count": 44,
   "metadata": {},
   "outputs": [
    {
     "name": "stdout",
     "output_type": "stream",
     "text": [
      "Found 270 images belonging to 4 classes.\n"
     ]
    },
    {
     "data": {
      "image/png": "[encoded data removed]",
      "text/plain": [
       "<Figure size 432x288 with 1 Axes>"
      ]
     },
     "metadata": {
      "needs_background": "light"
     },
     "output_type": "display_data"
    }
   ],
   "source": [
    "from sklearn.manifold import TSNE\n",
    "\n",
    "intermediate_layer_model = tf.keras.models.Model(inputs=model.input,\n",
    "                                        outputs=model.get_layer('feature_dense').output)\n",
    "\n",
    "tsne_eval_generator = test_datagen.flow_from_directory(DATASET_PATH,target_size=IMAGE_SIZE,\n",
    "                                                  batch_size=1,shuffle=False,seed=42,class_mode=\"categorical\")\n",
    "\n",
    "\n",
    "#get labels from data generator\n",
    "labels_array = []\n",
    "num_labels=[]\n",
    "a = tsne_eval_generator.class_indices.keys()\n",
    "for i in range( tsne_eval_generator.__len__() ):\n",
    "    labels_array.extend(tsne_eval_generator.__getitem__( i )[1] )   #obtain the arrays of index to array\n",
    "    for j in range(len(labels_array[i])):       #obtain the index of item that is equal to 1, and append to the list \n",
    "        if labels_array[i][j] == 1.0:\n",
    "            num_labels.append(j)\n",
    "\n",
    "#feature extraction    \n",
    "tsne_eval_generator.reset()\n",
    "features = intermediate_layer_model.predict(tsne_eval_generator)\n",
    "\n",
    "#compress the dimensionality    \n",
    "tsne = TSNE(n_components=2)\n",
    "tsne_result = tsne.fit_transform(features)\n",
    "x=[i[0] for i in tsne_result]\n",
    "y=[i[1] for i in tsne_result]\n",
    "\n",
    "#plotting values\n",
    "zero_x=[]\n",
    "one_x=[]\n",
    "two_x=[]\n",
    "three_x=[]\n",
    "\n",
    "zero_y=[]\n",
    "one_y=[]\n",
    "two_y=[]\n",
    "three_y=[]\n",
    "\n",
    "for i in range(len(labels_array)):\n",
    "    if num_labels[i] == 0:\n",
    "        zero_x.append(x[i])\n",
    "        zero_y.append(y[i])\n",
    "    elif num_labels[i] == 1:\n",
    "        one_x.append(x[i])\n",
    "        one_y.append(y[i])\n",
    "    elif num_labels[i] == 2:\n",
    "        two_x.append(x[i])\n",
    "        two_y.append(y[i])\n",
    "    elif num_labels[i] == 3:\n",
    "        three_x.append(x[i])\n",
    "        three_y.append(y[i])\n",
    "        \n",
    "        \n",
    "#plotting\n",
    "plt.scatter(zero_x,zero_y, label='COVID-19', s=15)\n",
    "plt.scatter(one_x,one_y, label='Normal', s=15)\n",
    "plt.scatter(two_x,two_y, label='Pneumonia_bac', s=15)\n",
    "plt.scatter(three_x,three_y, label='Pneumonia_vir', s=15)\n",
    "plt.legend(loc='upper right')\n",
    "plt.show()"
   ]
  },
  {
   "cell_type": "markdown",
   "metadata": {},
   "source": [
    "## Model 2 "
   ]
  },
  {
   "cell_type": "code",
   "execution_count": 39,
   "metadata": {},
   "outputs": [
    {
     "name": "stdout",
     "output_type": "stream",
     "text": [
      "Model: \"sequential_11\"\n",
      "_________________________________________________________________\n",
      "Layer (type)                 Output Shape              Param #   \n",
      "=================================================================\n",
      "mobilenet_1.00_224 (Function (None, 7, 7, 1024)        3228864   \n",
      "_________________________________________________________________\n",
      "flatten_11 (Flatten)         (None, 50176)             0         \n",
      "_________________________________________________________________\n",
      "feature_dense (Dense)        (None, 256)               12845312  \n",
      "_________________________________________________________________\n",
      "dropout_9 (Dropout)          (None, 256)               0         \n",
      "_________________________________________________________________\n",
      "dense_14 (Dense)             (None, 4)                 1028      \n",
      "=================================================================\n",
      "Total params: 16,075,204\n",
      "Trainable params: 16,053,316\n",
      "Non-trainable params: 21,888\n",
      "_________________________________________________________________\n"
     ]
    }
   ],
   "source": [
    "#checkpoint_filepath3 = 'all/'\n",
    "#checkpoint3 = tf.keras.callbacks.ModelCheckpoint(checkpoint_filepath2,\n",
    "#                            monitor='val_accuracy',\n",
    "#                            verbose=1,\n",
    "#                            save_best_only=True,\n",
    "#                            save_weights_only=True,\n",
    "#                            mode='max')\n",
    "    \n",
    "\n",
    "mobile = tf.keras.applications.MobileNet(weights='imagenet', include_top=False, input_shape = (224,224,3))\n",
    "mobile_model3 = tf.keras.models.Sequential([\n",
    "    mobile,\n",
    "    tf.keras.layers.Flatten(),\n",
    "    tf.keras.layers.Dense(256,activation='relu',name='feature_dense'),\n",
    "    tf.keras.layers.Dropout(0.5),\n",
    "    tf.keras.layers.Dense(4,activation='softmax')\n",
    "])\n",
    "mobile_model3.summary()\n",
    "opt = tf.keras.optimizers.Adam(learning_rate=0.0001)\n",
    "mobile_model3.compile(optimizer=opt,\n",
    "                loss=tf.keras.losses.CategoricalCrossentropy(from_logits=False),\n",
    "                metrics=['accuracy'])"
   ]
  },
  {
   "cell_type": "code",
   "execution_count": 40,
   "metadata": {},
   "outputs": [
    {
     "name": "stdout",
     "output_type": "stream",
     "text": [
      "Epoch 1/100\n",
      "21/21 [==============================] - 29s 1s/step - loss: 3.5027 - accuracy: 0.3495 - val_loss: 2.7347 - val_accuracy: 0.3600\n",
      "Epoch 2/100\n",
      "21/21 [==============================] - 28s 1s/step - loss: 2.2274 - accuracy: 0.4806 - val_loss: 3.4575 - val_accuracy: 0.2600\n",
      "Epoch 3/100\n",
      "21/21 [==============================] - 28s 1s/step - loss: 1.3797 - accuracy: 0.5922 - val_loss: 2.8978 - val_accuracy: 0.3200\n",
      "Epoch 4/100\n",
      "21/21 [==============================] - 29s 1s/step - loss: 1.2921 - accuracy: 0.6019 - val_loss: 1.4403 - val_accuracy: 0.5200\n",
      "Epoch 5/100\n",
      "21/21 [==============================] - 28s 1s/step - loss: 0.9724 - accuracy: 0.6262 - val_loss: 1.2639 - val_accuracy: 0.4200\n",
      "Epoch 6/100\n",
      "21/21 [==============================] - 28s 1s/step - loss: 0.7415 - accuracy: 0.6845 - val_loss: 2.1276 - val_accuracy: 0.3600\n",
      "Epoch 7/100\n",
      "21/21 [==============================] - 28s 1s/step - loss: 0.7294 - accuracy: 0.6796 - val_loss: 1.7721 - val_accuracy: 0.3600\n",
      "Epoch 8/100\n",
      "21/21 [==============================] - 28s 1s/step - loss: 0.8557 - accuracy: 0.6214 - val_loss: 1.1706 - val_accuracy: 0.5400\n",
      "Epoch 9/100\n",
      "21/21 [==============================] - 28s 1s/step - loss: 0.5750 - accuracy: 0.7670 - val_loss: 1.0979 - val_accuracy: 0.5400\n",
      "Epoch 10/100\n",
      "21/21 [==============================] - 28s 1s/step - loss: 0.6671 - accuracy: 0.6845 - val_loss: 1.3128 - val_accuracy: 0.4800\n",
      "Epoch 11/100\n",
      "21/21 [==============================] - 28s 1s/step - loss: 0.8358 - accuracy: 0.6796 - val_loss: 1.1378 - val_accuracy: 0.5600\n",
      "Epoch 12/100\n",
      "21/21 [==============================] - 29s 1s/step - loss: 0.6128 - accuracy: 0.7184 - val_loss: 1.0614 - val_accuracy: 0.6000\n",
      "Epoch 13/100\n",
      "21/21 [==============================] - 28s 1s/step - loss: 0.6243 - accuracy: 0.7767 - val_loss: 0.9480 - val_accuracy: 0.6200\n",
      "Epoch 14/100\n",
      "21/21 [==============================] - 28s 1s/step - loss: 0.6706 - accuracy: 0.6893 - val_loss: 0.8258 - val_accuracy: 0.6600\n",
      "Epoch 15/100\n",
      "21/21 [==============================] - 28s 1s/step - loss: 0.6256 - accuracy: 0.7136 - val_loss: 1.0388 - val_accuracy: 0.6000\n",
      "Epoch 16/100\n",
      "21/21 [==============================] - 28s 1s/step - loss: 0.6617 - accuracy: 0.7282 - val_loss: 1.1539 - val_accuracy: 0.5400\n",
      "Epoch 17/100\n",
      "21/21 [==============================] - 28s 1s/step - loss: 0.5565 - accuracy: 0.7864 - val_loss: 0.8925 - val_accuracy: 0.5200\n",
      "Epoch 18/100\n",
      "21/21 [==============================] - 28s 1s/step - loss: 0.6911 - accuracy: 0.7039 - val_loss: 0.8083 - val_accuracy: 0.6600\n",
      "Epoch 19/100\n",
      "21/21 [==============================] - 28s 1s/step - loss: 0.5859 - accuracy: 0.7184 - val_loss: 0.6412 - val_accuracy: 0.7800\n",
      "Epoch 20/100\n",
      "21/21 [==============================] - 28s 1s/step - loss: 0.5779 - accuracy: 0.7524 - val_loss: 0.7280 - val_accuracy: 0.6400\n",
      "Epoch 21/100\n",
      "21/21 [==============================] - 28s 1s/step - loss: 0.5390 - accuracy: 0.7476 - val_loss: 0.7856 - val_accuracy: 0.6600\n",
      "Epoch 22/100\n",
      "21/21 [==============================] - 28s 1s/step - loss: 0.6680 - accuracy: 0.7330 - val_loss: 0.6101 - val_accuracy: 0.6800\n",
      "Epoch 23/100\n",
      "21/21 [==============================] - 28s 1s/step - loss: 0.5766 - accuracy: 0.7524 - val_loss: 0.7164 - val_accuracy: 0.6400\n",
      "Epoch 24/100\n",
      "21/21 [==============================] - 30s 1s/step - loss: 0.4512 - accuracy: 0.7913 - val_loss: 0.6031 - val_accuracy: 0.7400\n",
      "Epoch 25/100\n",
      "21/21 [==============================] - 29s 1s/step - loss: 0.4858 - accuracy: 0.7718 - val_loss: 0.6651 - val_accuracy: 0.6600\n",
      "Epoch 26/100\n",
      "21/21 [==============================] - 28s 1s/step - loss: 0.6210 - accuracy: 0.7571 - val_loss: 0.5306 - val_accuracy: 0.7000\n",
      "Epoch 27/100\n",
      "21/21 [==============================] - 28s 1s/step - loss: 0.4510 - accuracy: 0.8204 - val_loss: 0.6004 - val_accuracy: 0.7400\n",
      "Epoch 28/100\n",
      "21/21 [==============================] - 29s 1s/step - loss: 0.5493 - accuracy: 0.7330 - val_loss: 0.5127 - val_accuracy: 0.7400\n",
      "Epoch 29/100\n",
      "21/21 [==============================] - 29s 1s/step - loss: 0.4106 - accuracy: 0.8398 - val_loss: 0.4958 - val_accuracy: 0.6800\n",
      "Epoch 30/100\n",
      "21/21 [==============================] - 28s 1s/step - loss: 0.4622 - accuracy: 0.7718 - val_loss: 0.4988 - val_accuracy: 0.7600\n",
      "Epoch 31/100\n",
      "21/21 [==============================] - 31s 1s/step - loss: 0.5246 - accuracy: 0.7767 - val_loss: 0.6918 - val_accuracy: 0.6200\n",
      "Epoch 32/100\n",
      "21/21 [==============================] - 29s 1s/step - loss: 0.4460 - accuracy: 0.7718 - val_loss: 0.5044 - val_accuracy: 0.7600\n",
      "Epoch 33/100\n",
      "21/21 [==============================] - 30s 1s/step - loss: 0.4250 - accuracy: 0.8155 - val_loss: 0.6997 - val_accuracy: 0.7000\n",
      "Epoch 34/100\n",
      "21/21 [==============================] - 30s 1s/step - loss: 0.4699 - accuracy: 0.7718 - val_loss: 0.6181 - val_accuracy: 0.7200\n",
      "Epoch 35/100\n",
      "21/21 [==============================] - 28s 1s/step - loss: 0.5288 - accuracy: 0.7913 - val_loss: 0.5822 - val_accuracy: 0.7000\n",
      "Epoch 36/100\n",
      "21/21 [==============================] - 29s 1s/step - loss: 0.4521 - accuracy: 0.8058 - val_loss: 0.4948 - val_accuracy: 0.7600\n",
      "Epoch 37/100\n",
      "21/21 [==============================] - 28s 1s/step - loss: 0.5671 - accuracy: 0.7864 - val_loss: 0.4221 - val_accuracy: 0.8200\n",
      "Epoch 38/100\n",
      "21/21 [==============================] - 28s 1s/step - loss: 0.4287 - accuracy: 0.8107 - val_loss: 0.4123 - val_accuracy: 0.8000\n",
      "Epoch 39/100\n",
      "21/21 [==============================] - 28s 1s/step - loss: 0.3715 - accuracy: 0.8350 - val_loss: 0.4158 - val_accuracy: 0.8400\n",
      "Epoch 40/100\n",
      "21/21 [==============================] - 28s 1s/step - loss: 0.4577 - accuracy: 0.8447 - val_loss: 0.5190 - val_accuracy: 0.7800\n",
      "Epoch 41/100\n",
      "21/21 [==============================] - 29s 1s/step - loss: 0.4973 - accuracy: 0.7864 - val_loss: 0.5872 - val_accuracy: 0.7800\n",
      "Epoch 42/100\n",
      "21/21 [==============================] - 28s 1s/step - loss: 0.4641 - accuracy: 0.8107 - val_loss: 0.5152 - val_accuracy: 0.7000\n",
      "Epoch 43/100\n",
      "21/21 [==============================] - 28s 1s/step - loss: 0.5436 - accuracy: 0.7961 - val_loss: 0.5704 - val_accuracy: 0.7600\n",
      "Epoch 44/100\n",
      "21/21 [==============================] - 29s 1s/step - loss: 0.6032 - accuracy: 0.7718 - val_loss: 0.4749 - val_accuracy: 0.7400\n",
      "Epoch 45/100\n",
      "21/21 [==============================] - 28s 1s/step - loss: 0.3457 - accuracy: 0.8495 - val_loss: 0.7104 - val_accuracy: 0.7400\n",
      "Epoch 46/100\n",
      "21/21 [==============================] - 28s 1s/step - loss: 0.5253 - accuracy: 0.8204 - val_loss: 0.5790 - val_accuracy: 0.7600\n",
      "Epoch 47/100\n",
      "21/21 [==============================] - 28s 1s/step - loss: 0.4342 - accuracy: 0.8252 - val_loss: 0.5382 - val_accuracy: 0.7400\n",
      "Epoch 48/100\n",
      "21/21 [==============================] - 28s 1s/step - loss: 0.3369 - accuracy: 0.8495 - val_loss: 0.3315 - val_accuracy: 0.7800\n",
      "Epoch 49/100\n",
      "21/21 [==============================] - 28s 1s/step - loss: 0.4071 - accuracy: 0.8301 - val_loss: 0.3608 - val_accuracy: 0.8600\n",
      "Epoch 50/100\n",
      "21/21 [==============================] - 28s 1s/step - loss: 0.4547 - accuracy: 0.8107 - val_loss: 0.3491 - val_accuracy: 0.9000\n",
      "Epoch 51/100\n",
      "21/21 [==============================] - 29s 1s/step - loss: 0.4866 - accuracy: 0.8010 - val_loss: 0.3809 - val_accuracy: 0.8400\n",
      "Epoch 52/100\n",
      "21/21 [==============================] - 28s 1s/step - loss: 0.4209 - accuracy: 0.7816 - val_loss: 0.6062 - val_accuracy: 0.7800\n",
      "Epoch 53/100\n",
      "21/21 [==============================] - 28s 1s/step - loss: 0.5285 - accuracy: 0.8095 - val_loss: 0.3478 - val_accuracy: 0.8600\n",
      "Epoch 54/100\n",
      "21/21 [==============================] - 28s 1s/step - loss: 0.4023 - accuracy: 0.8301 - val_loss: 0.4062 - val_accuracy: 0.8000\n",
      "Epoch 55/100\n",
      "21/21 [==============================] - 28s 1s/step - loss: 0.4335 - accuracy: 0.8058 - val_loss: 0.3674 - val_accuracy: 0.8000\n",
      "Epoch 56/100\n",
      "21/21 [==============================] - 28s 1s/step - loss: 0.4113 - accuracy: 0.8058 - val_loss: 0.4474 - val_accuracy: 0.7400\n",
      "Epoch 57/100\n",
      "21/21 [==============================] - 28s 1s/step - loss: 0.3781 - accuracy: 0.8544 - val_loss: 0.4248 - val_accuracy: 0.7600\n",
      "Epoch 58/100\n",
      "21/21 [==============================] - 29s 1s/step - loss: 0.3884 - accuracy: 0.8641 - val_loss: 0.6168 - val_accuracy: 0.7200\n"
     ]
    },
    {
     "name": "stdout",
     "output_type": "stream",
     "text": [
      "Epoch 59/100\n",
      "21/21 [==============================] - 28s 1s/step - loss: 0.3122 - accuracy: 0.8398 - val_loss: 0.4289 - val_accuracy: 0.8400\n",
      "Epoch 60/100\n",
      "21/21 [==============================] - 28s 1s/step - loss: 0.4149 - accuracy: 0.8204 - val_loss: 0.3172 - val_accuracy: 0.8600\n",
      "Epoch 61/100\n",
      "21/21 [==============================] - 28s 1s/step - loss: 0.3987 - accuracy: 0.8301 - val_loss: 0.3908 - val_accuracy: 0.7600\n",
      "Epoch 62/100\n",
      "21/21 [==============================] - 28s 1s/step - loss: 0.3733 - accuracy: 0.8204 - val_loss: 0.3698 - val_accuracy: 0.8400\n",
      "Epoch 63/100\n",
      "21/21 [==============================] - 28s 1s/step - loss: 0.4872 - accuracy: 0.7961 - val_loss: 0.3237 - val_accuracy: 0.7600\n",
      "Epoch 64/100\n",
      "21/21 [==============================] - 28s 1s/step - loss: 0.4062 - accuracy: 0.8786 - val_loss: 0.4876 - val_accuracy: 0.7400\n",
      "Epoch 65/100\n",
      "21/21 [==============================] - 28s 1s/step - loss: 0.4341 - accuracy: 0.8204 - val_loss: 0.4551 - val_accuracy: 0.8000\n",
      "Epoch 66/100\n",
      "21/21 [==============================] - 28s 1s/step - loss: 0.3853 - accuracy: 0.8252 - val_loss: 0.5690 - val_accuracy: 0.7800\n",
      "Epoch 67/100\n",
      "21/21 [==============================] - 28s 1s/step - loss: 0.3429 - accuracy: 0.8495 - val_loss: 0.5196 - val_accuracy: 0.7800\n",
      "Epoch 68/100\n",
      "21/21 [==============================] - 28s 1s/step - loss: 0.4455 - accuracy: 0.8010 - val_loss: 0.4109 - val_accuracy: 0.7200\n",
      "Epoch 69/100\n",
      "21/21 [==============================] - 28s 1s/step - loss: 0.3007 - accuracy: 0.8495 - val_loss: 0.5473 - val_accuracy: 0.7600\n",
      "Epoch 70/100\n",
      "21/21 [==============================] - 28s 1s/step - loss: 0.3157 - accuracy: 0.8447 - val_loss: 0.5800 - val_accuracy: 0.7800\n",
      "Epoch 71/100\n",
      "21/21 [==============================] - 28s 1s/step - loss: 0.2894 - accuracy: 0.8689 - val_loss: 0.4477 - val_accuracy: 0.7800\n",
      "Epoch 72/100\n",
      "21/21 [==============================] - 28s 1s/step - loss: 0.3384 - accuracy: 0.8592 - val_loss: 0.5780 - val_accuracy: 0.7600\n",
      "Epoch 73/100\n",
      "21/21 [==============================] - 28s 1s/step - loss: 0.2964 - accuracy: 0.8786 - val_loss: 0.6500 - val_accuracy: 0.7000\n",
      "Epoch 74/100\n",
      "21/21 [==============================] - 28s 1s/step - loss: 0.4447 - accuracy: 0.8204 - val_loss: 0.7236 - val_accuracy: 0.6600\n",
      "Epoch 75/100\n",
      "21/21 [==============================] - 28s 1s/step - loss: 0.4559 - accuracy: 0.8107 - val_loss: 0.8574 - val_accuracy: 0.6800\n",
      "Epoch 76/100\n",
      "21/21 [==============================] - 28s 1s/step - loss: 0.3578 - accuracy: 0.8689 - val_loss: 0.9317 - val_accuracy: 0.7200\n",
      "Epoch 77/100\n",
      "21/21 [==============================] - 29s 1s/step - loss: 0.3563 - accuracy: 0.8495 - val_loss: 0.6022 - val_accuracy: 0.7200\n",
      "Epoch 78/100\n",
      "21/21 [==============================] - 28s 1s/step - loss: 0.2975 - accuracy: 0.8689 - val_loss: 0.6304 - val_accuracy: 0.7400\n",
      "Epoch 79/100\n",
      "21/21 [==============================] - 28s 1s/step - loss: 0.2963 - accuracy: 0.8786 - val_loss: 0.6847 - val_accuracy: 0.6800\n",
      "Epoch 80/100\n",
      "21/21 [==============================] - 28s 1s/step - loss: 0.3891 - accuracy: 0.8495 - val_loss: 0.4229 - val_accuracy: 0.8400\n",
      "Epoch 81/100\n",
      "21/21 [==============================] - 28s 1s/step - loss: 0.3489 - accuracy: 0.8738 - val_loss: 0.4971 - val_accuracy: 0.7200\n",
      "Epoch 82/100\n",
      "21/21 [==============================] - 28s 1s/step - loss: 0.3174 - accuracy: 0.8641 - val_loss: 0.4170 - val_accuracy: 0.7600\n",
      "Epoch 83/100\n",
      "21/21 [==============================] - 28s 1s/step - loss: 0.4369 - accuracy: 0.8689 - val_loss: 0.5841 - val_accuracy: 0.7400\n",
      "Epoch 84/100\n",
      "21/21 [==============================] - 28s 1s/step - loss: 0.3358 - accuracy: 0.8592 - val_loss: 0.6673 - val_accuracy: 0.6800\n",
      "Epoch 85/100\n",
      "21/21 [==============================] - 28s 1s/step - loss: 0.3235 - accuracy: 0.8738 - val_loss: 0.8805 - val_accuracy: 0.6800\n",
      "Epoch 86/100\n",
      "21/21 [==============================] - 28s 1s/step - loss: 0.3738 - accuracy: 0.8883 - val_loss: 0.4979 - val_accuracy: 0.7800\n",
      "Epoch 87/100\n",
      "21/21 [==============================] - 28s 1s/step - loss: 0.3105 - accuracy: 0.8495 - val_loss: 0.5524 - val_accuracy: 0.7400\n",
      "Epoch 88/100\n",
      "21/21 [==============================] - 28s 1s/step - loss: 0.2543 - accuracy: 0.8883 - val_loss: 0.4440 - val_accuracy: 0.7600\n",
      "Epoch 89/100\n",
      "21/21 [==============================] - 28s 1s/step - loss: 0.3262 - accuracy: 0.8786 - val_loss: 0.4961 - val_accuracy: 0.7800\n",
      "Epoch 90/100\n",
      "21/21 [==============================] - 28s 1s/step - loss: 0.2418 - accuracy: 0.9029 - val_loss: 0.3986 - val_accuracy: 0.8200\n",
      "Epoch 91/100\n",
      "21/21 [==============================] - 28s 1s/step - loss: 0.3858 - accuracy: 0.8544 - val_loss: 0.4778 - val_accuracy: 0.8200\n",
      "Epoch 92/100\n",
      "21/21 [==============================] - 28s 1s/step - loss: 0.2435 - accuracy: 0.9029 - val_loss: 0.4307 - val_accuracy: 0.8400\n",
      "Epoch 93/100\n",
      "21/21 [==============================] - 28s 1s/step - loss: 0.3196 - accuracy: 0.8641 - val_loss: 0.6259 - val_accuracy: 0.7600\n",
      "Epoch 94/100\n",
      "21/21 [==============================] - 28s 1s/step - loss: 0.2595 - accuracy: 0.9078 - val_loss: 0.5268 - val_accuracy: 0.7800\n",
      "Epoch 95/100\n",
      "21/21 [==============================] - 28s 1s/step - loss: 0.2563 - accuracy: 0.8883 - val_loss: 0.4145 - val_accuracy: 0.8600\n",
      "Epoch 96/100\n",
      "21/21 [==============================] - 28s 1s/step - loss: 0.3340 - accuracy: 0.8835 - val_loss: 0.4871 - val_accuracy: 0.8000\n",
      "Epoch 97/100\n",
      "21/21 [==============================] - 28s 1s/step - loss: 0.2987 - accuracy: 0.9175 - val_loss: 0.7645 - val_accuracy: 0.6800\n",
      "Epoch 98/100\n",
      "21/21 [==============================] - 29s 1s/step - loss: 0.2409 - accuracy: 0.8835 - val_loss: 0.8493 - val_accuracy: 0.7200\n",
      "Epoch 99/100\n",
      "21/21 [==============================] - 28s 1s/step - loss: 0.2687 - accuracy: 0.9029 - val_loss: 0.7261 - val_accuracy: 0.7400\n",
      "Epoch 100/100\n",
      "21/21 [==============================] - 28s 1s/step - loss: 0.3083 - accuracy: 0.8689 - val_loss: 0.6419 - val_accuracy: 0.7400\n"
     ]
    }
   ],
   "source": [
    "history = mobile_model3.fit(train_batches, epochs=100, validation_data=valid_batches, batch_size=BATCH_SIZE, \n",
    "                    steps_per_epoch=STEP_SIZE_TRAIN, validation_steps = STEP_SIZE_VALID)#, callbacks=[checkpoint3])\n",
    "#mobile_model3.load_weights(checkpoint_filepath3)"
   ]
  },
  {
   "cell_type": "code",
   "execution_count": 41,
   "metadata": {},
   "outputs": [
    {
     "data": {
      "image/png": "[encoded data removed]",
      "text/plain": [
       "<Figure size 432x288 with 1 Axes>"
      ]
     },
     "metadata": {
      "needs_background": "light"
     },
     "output_type": "display_data"
    },
    {
     "data": {
      "image/png": "[encoded data removed]",
      "text/plain": [
       "<Figure size 432x288 with 1 Axes>"
      ]
     },
     "metadata": {
      "needs_background": "light"
     },
     "output_type": "display_data"
    }
   ],
   "source": [
    "plt.title('Accuracy over 100 Epochs')\n",
    "plt.plot(history.history['accuracy'], label='Train_acc')\n",
    "plt.plot(history.history['val_accuracy'], label = 'Test_acc')\n",
    "plt.legend(loc='upper left')\n",
    "plt.grid(True)\n",
    "plt.show()\n",
    "\n",
    "plt.title('Loss over 100 Epochs')\n",
    "plt.plot(history.history['loss'], label='Train_loss')\n",
    "plt.plot(history.history['val_loss'], label = 'Test_loss')\n",
    "plt.legend(loc='upper right')\n",
    "plt.grid(True)\n",
    "plt.show()"
   ]
  },
  {
   "cell_type": "code",
   "execution_count": 42,
   "metadata": {},
   "outputs": [
    {
     "name": "stdout",
     "output_type": "stream",
     "text": [
      "Found 36 images belonging to 4 classes.\n",
      "36/36 [==============================] - 1s 40ms/step - loss: 1.6443 - accuracy: 0.6667\n",
      "Test loss: 1.6442677974700928\n",
      "Test accuracy: 0.6666666865348816\n"
     ]
    }
   ],
   "source": [
    "#vgg16.trainable = True\n",
    "test_datagen = ImageDataGenerator(rescale=1. / 255)\n",
    "\n",
    "eval_generator = test_datagen.flow_from_directory(TEST_DIR,target_size=IMAGE_SIZE,\n",
    "                                                  batch_size=1,shuffle=True,seed=42,class_mode=\"categorical\")\n",
    "eval_generator.reset()\n",
    "x = mobile_model3.evaluate_generator(eval_generator,steps = np.ceil(len(eval_generator)),\n",
    "                           use_multiprocessing = False,verbose = 1,workers=1)\n",
    "print('Test loss:' , x[0])\n",
    "print('Test accuracy:',x[1])"
   ]
  },
  {
   "cell_type": "markdown",
   "metadata": {
    "nbpresent": {
     "id": "66140980-2aa4-457f-b1df-74c10c234cc2"
    }
   },
   "source": [
    "## [10 points] TSNE Plot\n",
    "t-Distributed Stochastic Neighbor Embedding (t-SNE) is a widely used technique for dimensionality reduction that is particularly well suited for the visualization of high-dimensional datasets. After training is complete, extract features from a specific deep layer of your choice, use t-SNE to reduce the dimensionality of your extracted features to 2 dimensions and plot the resulting 2D features."
   ]
  },
  {
   "cell_type": "code",
   "execution_count": 15,
   "metadata": {},
   "outputs": [
    {
     "name": "stdout",
     "output_type": "stream",
     "text": [
      "Found 270 images belonging to 4 classes.\n",
      "{'covid': 0, 'normal': 1, 'pneumonia_bac': 2, 'pneumonia_vir': 3}\n",
      "Extracting features for 270 images.\n",
      "270/270 [==============================] - 71s 265ms/step\n",
      "Training TSNE model.\n"
     ]
    },
    {
     "data": {
      "image/png": "[encoded data removed]",
      "text/plain": [
       "<Figure size 432x288 with 1 Axes>"
      ]
     },
     "metadata": {
      "needs_background": "light"
     },
     "output_type": "display_data"
    }
   ],
   "source": [
    "from sklearn.manifold import TSNE\n",
    "\n",
    "intermediate_layer_model = models.Model(inputs=model.input,\n",
    "                                        outputs=model.get_layer('feature_dense').output)\n",
    "\n",
    "tsne_eval_generator = test_datagen.flow_from_directory(DATASET_PATH,target_size=IMAGE_SIZE,\n",
    "                                                  batch_size=1,shuffle=False,seed=42,class_mode=\"categorical\")\n",
    "\n",
    "\n",
    "#get labels from data generator\n",
    "labels_array = []\n",
    "num_labels=[]\n",
    "a = tsne_eval_generator.class_indices.keys()\n",
    "for i in range( tsne_eval_generator.__len__() ):\n",
    "    labels_array.extend(tsne_eval_generator.__getitem__( i )[1] )   #obtain the arrays of index to array\n",
    "    for j in range(len(labels_array[i])):       #obtain the index of item that is equal to 1, and append to the list \n",
    "        if labels_array[i][j] == 1.0:\n",
    "            num_labels.append(j)\n",
    "\n",
    "#feature extraction    \n",
    "tsne_eval_generator.reset()\n",
    "features = intermediate_layer_model.predict(tsne_eval_generator)\n",
    "\n",
    "#compress the dimensionality    \n",
    "tsne = TSNE(n_components=2)\n",
    "tsne_result = tsne.fit_transform(features)\n",
    "x=[i[0] for i in tsne_result]\n",
    "y=[i[1] for i in tsne_result]\n",
    "\n",
    "#plotting values\n",
    "zero_x=[]\n",
    "one_x=[]\n",
    "two_x=[]\n",
    "three_x=[]\n",
    "\n",
    "zero_y=[]\n",
    "one_y=[]\n",
    "two_y=[]\n",
    "three_y=[]\n",
    "\n",
    "for i in range(len(labels_array)):\n",
    "    if num_labels[i] == 0:\n",
    "        zero_x.append(x[i])\n",
    "        zero_y.append(y[i])\n",
    "    elif num_labels[i] == 1:\n",
    "        one_x.append(x[i])\n",
    "        one_y.append(y[i])\n",
    "    elif num_labels[i] == 2:\n",
    "        two_x.append(x[i])\n",
    "        two_y.append(y[i])\n",
    "    elif num_labels[i] == 3:\n",
    "        three_x.append(x[i])\n",
    "        three_y.append(y[i])\n",
    "        \n",
    "        \n",
    "#plotting\n",
    "plt.scatter(zero_x,zero_y, label='COVID-19', s=15)\n",
    "plt.scatter(one_x,one_y, label='Normal', s=15)\n",
    "plt.scatter(two_x,two_y, label='Pneumonia_bac', s=15)\n",
    "plt.scatter(three_x,three_y, label='Pneumonia_vir', s=15)\n",
    "plt.legend(loc='upper right')\n",
    "plt.show()"
   ]
  },
  {
   "cell_type": "markdown",
   "metadata": {},
   "source": [
    "<!-- ## Task 2: COVID-19 vs Normal vs Tertiary Pneumonia (Bacterial and Viral) -->"
   ]
  },
  {
   "cell_type": "markdown",
   "metadata": {
    "nbpresent": {
     "id": "66140980-2aa4-457f-b1df-74c10c234cc2"
    }
   },
   "source": [
    "<!-- #### Renew Training Batch and Validation Batch -->"
   ]
  },
  {
   "cell_type": "markdown",
   "metadata": {
    "nbpresent": {
     "id": "66140980-2aa4-457f-b1df-74c10c234cc2"
    }
   },
   "source": [
    "<!-- #### Renew Model -->"
   ]
  }
 ],
 "metadata": {
  "kernelspec": {
   "display_name": "Python 3",
   "language": "python",
   "name": "python3"
  },
  "language_info": {
   "codemirror_mode": {
    "name": "ipython",
    "version": 3
   },
   "file_extension": ".py",
   "mimetype": "text/x-python",
   "name": "python",
   "nbconvert_exporter": "python",
   "pygments_lexer": "ipython3",
   "version": "3.7.3"
  },
  "latex_envs": {
   "LaTeX_envs_menu_present": true,
   "autoclose": false,
   "autocomplete": true,
   "bibliofile": "biblio.bib",
   "cite_by": "apalike",
   "current_citInitial": 1,
   "eqLabelWithNumbers": true,
   "eqNumInitial": 1,
   "hotkeys": {
    "equation": "Ctrl-E",
    "itemize": "Ctrl-I"
   },
   "labels_anchors": false,
   "latex_user_defs": false,
   "report_style_numbering": false,
   "user_envs_cfg": false
  },
  "toc": {
   "base_numbering": 1,
   "nav_menu": {},
   "number_sections": true,
   "sideBar": true,
   "skip_h1_title": false,
   "title_cell": "Table of Contents",
   "title_sidebar": "Contents",
   "toc_cell": false,
   "toc_position": {},
   "toc_section_display": true,
   "toc_window_display": false
  },
  "varInspector": {
   "cols": {
    "lenName": 16,
    "lenType": 16,
    "lenVar": 40
   },
   "kernels_config": {
    "python": {
     "delete_cmd_postfix": "",
     "delete_cmd_prefix": "del ",
     "library": "var_list.py",
     "varRefreshCmd": "print(var_dic_list())"
    },
    "r": {
     "delete_cmd_postfix": ") ",
     "delete_cmd_prefix": "rm(",
     "library": "var_list.r",
     "varRefreshCmd": "cat(var_dic_list()) "
    }
   },
   "types_to_exclude": [
    "module",
    "function",
    "builtin_function_or_method",
    "instance",
    "_Feature"
   ],
   "window_display": false
  }
 },
 "nbformat": 4,
 "nbformat_minor": 4
}
