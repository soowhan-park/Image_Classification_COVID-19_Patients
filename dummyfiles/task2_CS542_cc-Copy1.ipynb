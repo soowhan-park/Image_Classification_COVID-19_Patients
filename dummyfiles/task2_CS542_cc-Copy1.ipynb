{
 "cells": [
  {
   "cell_type": "markdown",
   "metadata": {
    "nbpresent": {
     "id": "1d234e3f-af8b-4757-83f3-241b04b7a511"
    }
   },
   "source": [
    "# Class Challenge: Image Classification of COVID-19 X-rays\n",
    "# Task 2 [Total points: 30]"
   ]
  },
  {
   "cell_type": "markdown",
   "metadata": {
    "nbpresent": {
     "id": "b07b9992-b592-4871-9f9a-3b0ae5fa8b5f"
    }
   },
   "source": [
    "## Setup\n",
    "\n",
    "* This assignment involves the following packages: 'matplotlib', 'numpy', and 'sklearn'. \n",
    "\n",
    "* If you are using conda, use the following commands to install the above packages:<br>\n",
    "```shell\n",
    "conda install matplotlib\n",
    "conda install numpy\n",
    "conda install -c anaconda scikit-learn\n",
    "```\n",
    "\n",
    "* If you are using pip, use use the following commands to install the above packages: <br> \n",
    "```shell\n",
    "pip install matplotlib\n",
    "pip install numpy\n",
    "pip install sklearn\n",
    "```"
   ]
  },
  {
   "cell_type": "markdown",
   "metadata": {
    "nbpresent": {
     "id": "5516f610-f00c-43c3-bf19-4cf7ab9c089f"
    }
   },
   "source": [
    "## Data\n",
    "\n",
    "Please download the data using the following link: [COVID-19](https://drive.google.com/file/d/1Y88tgqpQ1Pjko_7rntcPowOJs_QNOrJ-/view). \n",
    "\n",
    "* After downloading 'Covid_Data_GradientCrescent.zip', unzip the file and you should see the following data structure:\n",
    "\n",
    "\n",
    "|--all<br>\n",
    "|--------train<br>\n",
    "|--------test<br>\n",
    "|--two<br>\n",
    "|--------train<br>\n",
    "|--------test<br>\n",
    "\n",
    "\n",
    "* Put the 'all' folder, the 'two' folder and this python notebook in the **same directory** so that the following code can correctly locate the data.  \n",
    "\n"
   ]
  },
  {
   "cell_type": "markdown",
   "metadata": {
    "nbpresent": {
     "id": "66140980-2aa4-457f-b1df-74c10c234cc2"
    }
   },
   "source": [
    "## [20 points] Multi-class Classification"
   ]
  },
  {
   "cell_type": "code",
   "execution_count": 1,
   "metadata": {
    "nbpresent": {
     "id": "5e05f980-3d14-4367-b3d1-664249145b13"
    },
    "scrolled": true
   },
   "outputs": [
    {
     "data": {
      "text/plain": [
       "'2.3.1'"
      ]
     },
     "execution_count": 1,
     "metadata": {},
     "output_type": "execute_result"
    }
   ],
   "source": [
    "import os\n",
    "\n",
    "import tensorflow as tf\n",
    "import numpy as np\n",
    "import matplotlib.pyplot as plt\n",
    "from tensorflow.keras.preprocessing.image import ImageDataGenerator\n",
    "\n",
    "os.environ['OMP_NUM_THREADS'] = '1'\n",
    "os.environ['CUDA_VISIBLE_DEVICES'] = '-1'\n",
    "tf.__version__"
   ]
  },
  {
   "cell_type": "markdown",
   "metadata": {
    "nbpresent": {
     "id": "66140980-2aa4-457f-b1df-74c10c234cc2"
    }
   },
   "source": [
    "#### Load Image Data"
   ]
  },
  {
   "cell_type": "code",
   "execution_count": 2,
   "metadata": {
    "nbpresent": {
     "id": "58317664-8da3-4283-b3e5-35721687e7ab"
    }
   },
   "outputs": [],
   "source": [
    "DATA_LIST = os.listdir('all/train')\n",
    "DATASET_PATH  = 'all/train'\n",
    "TEST_DIR =  'all/test'\n",
    "IMAGE_SIZE    = (224, 224)\n",
    "NUM_CLASSES   = len(DATA_LIST)\n",
    "BATCH_SIZE    = 10  # try reducing batch size or freeze more layers if your GPU runs out of memory\n",
    "NUM_EPOCHS    = 100\n",
    "LEARNING_RATE = 0.0001 # start off with high rate first 0.001 and experiment with reducing it gradually "
   ]
  },
  {
   "cell_type": "markdown",
   "metadata": {
    "nbpresent": {
     "id": "66140980-2aa4-457f-b1df-74c10c234cc2"
    }
   },
   "source": [
    "#### Generate Training and Validation Batches"
   ]
  },
  {
   "cell_type": "code",
   "execution_count": 3,
   "metadata": {
    "nbpresent": {
     "id": "71760e29-2b08-4259-93f1-ebe68cd74a6d"
    }
   },
   "outputs": [
    {
     "name": "stderr",
     "output_type": "stream",
     "text": [
      "C:\\Users\\Soo Whan Park\\Anaconda3\\lib\\site-packages\\keras_preprocessing\\image\\image_data_generator.py:342: UserWarning: This ImageDataGenerator specifies `zca_whitening` which overrides setting of`featurewise_std_normalization`.\n",
      "  warnings.warn('This ImageDataGenerator specifies '\n"
     ]
    },
    {
     "name": "stdout",
     "output_type": "stream",
     "text": [
      "Found 216 images belonging to 4 classes.\n",
      "Found 54 images belonging to 4 classes.\n"
     ]
    }
   ],
   "source": [
    "train_datagen = ImageDataGenerator(rescale=1./255,rotation_range=50,featurewise_center = True,\n",
    "                                   featurewise_std_normalization = True,width_shift_range=0.2,\n",
    "                                   height_shift_range=0.2,shear_range=0.25,zoom_range=0.1,\n",
    "                                   zca_whitening = True,channel_shift_range = 20,\n",
    "                                   horizontal_flip = True,vertical_flip = True,\n",
    "                                   validation_split = 0.2,fill_mode='constant')\n",
    "\n",
    "\n",
    "train_batches = train_datagen.flow_from_directory(DATASET_PATH,target_size=IMAGE_SIZE,\n",
    "                                                  shuffle=True,batch_size=BATCH_SIZE,\n",
    "                                                  subset = \"training\",seed=42,\n",
    "                                                  class_mode=\"categorical\")\n",
    "\n",
    "valid_batches = train_datagen.flow_from_directory(DATASET_PATH,target_size=IMAGE_SIZE,\n",
    "                                                  shuffle=True,batch_size=BATCH_SIZE,\n",
    "                                                  subset = \"validation\",\n",
    "                                                  seed=42,class_mode=\"categorical\")"
   ]
  },
  {
   "cell_type": "markdown",
   "metadata": {
    "nbpresent": {
     "id": "66140980-2aa4-457f-b1df-74c10c234cc2"
    }
   },
   "source": [
    "#### [10 points] Build Model\n",
    "Hint: Starting from a pre-trained model typically helps performance on a new task, e.g. starting with weights obtained by training on ImageNet. "
   ]
  },
  {
   "cell_type": "code",
   "execution_count": 4,
   "metadata": {
    "nbpresent": {
     "id": "5c52eeb2-1092-4d45-9e16-02219c82cb5e"
    }
   },
   "outputs": [
    {
     "name": "stdout",
     "output_type": "stream",
     "text": [
      "Model: \"sequential\"\n",
      "_________________________________________________________________\n",
      "Layer (type)                 Output Shape              Param #   \n",
      "=================================================================\n",
      "vgg16 (Functional)           (None, 7, 7, 512)         14714688  \n",
      "_________________________________________________________________\n",
      "flatten (Flatten)            (None, 25088)             0         \n",
      "_________________________________________________________________\n",
      "feature_dense (Dense)        (None, 256)               6422784   \n",
      "_________________________________________________________________\n",
      "dropout (Dropout)            (None, 256)               0         \n",
      "_________________________________________________________________\n",
      "dense (Dense)                (None, 256)               65792     \n",
      "_________________________________________________________________\n",
      "dropout_1 (Dropout)          (None, 256)               0         \n",
      "_________________________________________________________________\n",
      "dense_1 (Dense)              (None, 4)                 1028      \n",
      "=================================================================\n",
      "Total params: 21,204,292\n",
      "Trainable params: 6,489,604\n",
      "Non-trainable params: 14,714,688\n",
      "_________________________________________________________________\n"
     ]
    }
   ],
   "source": [
    "checkpoint_filepath = 'all/'\n",
    "checkpoint = tf.keras.callbacks.ModelCheckpoint(checkpoint_filepath,\n",
    "                            monitor='val_accuracy',\n",
    "                            verbose=1,\n",
    "                            save_best_only=True,\n",
    "                            save_weights_only=True,\n",
    "                            mode='max')\n",
    "    \n",
    "\n",
    "\n",
    "\n",
    "vgg16 = tf.keras.applications.VGG16(weights='imagenet', include_top=False, input_shape = (224,224,3))\n",
    "vgg16.trainable = False\n",
    "model = tf.keras.models.Sequential([\n",
    "    vgg16,\n",
    "    tf.keras.layers.Flatten(),\n",
    "    tf.keras.layers.Dense(256,activation='relu',name='feature_dense'),\n",
    "    tf.keras.layers.Dropout(0.25),\n",
    "    tf.keras.layers.Dense(256,activation='relu'),\n",
    "    tf.keras.layers.Dropout(0.25),\n",
    "    tf.keras.layers.Dense(4,activation='softmax')\n",
    "])\n",
    "model.summary()\n",
    "opt = tf.keras.optimizers.Adam(learning_rate=LEARNING_RATE)\n",
    "model.compile(optimizer=opt,\n",
    "                loss=tf.keras.losses.CategoricalCrossentropy(from_logits=False),\n",
    "                metrics=['accuracy'])"
   ]
  },
  {
   "cell_type": "markdown",
   "metadata": {
    "nbpresent": {
     "id": "66140980-2aa4-457f-b1df-74c10c234cc2"
    }
   },
   "source": [
    "#### [5 points] Train Model"
   ]
  },
  {
   "cell_type": "code",
   "execution_count": 5,
   "metadata": {
    "nbpresent": {
     "id": "cdb90d24-6a23-4969-8138-f37e7050062d"
    }
   },
   "outputs": [
    {
     "name": "stderr",
     "output_type": "stream",
     "text": [
      "C:\\Users\\Soo Whan Park\\Anaconda3\\lib\\site-packages\\keras_preprocessing\\image\\image_data_generator.py:720: UserWarning: This ImageDataGenerator specifies `featurewise_center`, but it hasn't been fit on any training data. Fit it first by calling `.fit(numpy_data)`.\n",
      "  warnings.warn('This ImageDataGenerator specifies '\n",
      "C:\\Users\\Soo Whan Park\\Anaconda3\\lib\\site-packages\\keras_preprocessing\\image\\image_data_generator.py:739: UserWarning: This ImageDataGenerator specifies `zca_whitening`, but it hasn't been fit on any training data. Fit it first by calling `.fit(numpy_data)`.\n",
      "  warnings.warn('This ImageDataGenerator specifies '\n"
     ]
    },
    {
     "name": "stdout",
     "output_type": "stream",
     "text": [
      "Epoch 1/100\n",
      "21/21 [==============================] - ETA: 0s - loss: 1.5610 - accuracy: 0.2524\n",
      "Epoch 00001: val_accuracy improved from -inf to 0.32000, saving model to all\\\n",
      "21/21 [==============================] - 26s 1s/step - loss: 1.5610 - accuracy: 0.2524 - val_loss: 1.3423 - val_accuracy: 0.3200\n",
      "Epoch 2/100\n",
      "21/21 [==============================] - ETA: 0s - loss: 1.4129 - accuracy: 0.3107\n",
      "Epoch 00002: val_accuracy improved from 0.32000 to 0.40000, saving model to all\\\n",
      "21/21 [==============================] - 25s 1s/step - loss: 1.4129 - accuracy: 0.3107 - val_loss: 1.2928 - val_accuracy: 0.4000\n",
      "Epoch 3/100\n",
      "21/21 [==============================] - ETA: 0s - loss: 1.3267 - accuracy: 0.3641\n",
      "Epoch 00003: val_accuracy improved from 0.40000 to 0.44000, saving model to all\\\n",
      "21/21 [==============================] - 28s 1s/step - loss: 1.3267 - accuracy: 0.3641 - val_loss: 1.2041 - val_accuracy: 0.4400\n",
      "Epoch 4/100\n",
      "21/21 [==============================] - ETA: 0s - loss: 1.2615 - accuracy: 0.3738\n",
      "Epoch 00004: val_accuracy did not improve from 0.44000\n",
      "21/21 [==============================] - 27s 1s/step - loss: 1.2615 - accuracy: 0.3738 - val_loss: 1.2513 - val_accuracy: 0.4000\n",
      "Epoch 5/100\n",
      "21/21 [==============================] - ETA: 0s - loss: 1.1865 - accuracy: 0.4466\n",
      "Epoch 00005: val_accuracy improved from 0.44000 to 0.50000, saving model to all\\\n",
      "21/21 [==============================] - 29s 1s/step - loss: 1.1865 - accuracy: 0.4466 - val_loss: 1.0658 - val_accuracy: 0.5000\n",
      "Epoch 6/100\n",
      "21/21 [==============================] - ETA: 0s - loss: 1.1679 - accuracy: 0.4667\n",
      "Epoch 00006: val_accuracy improved from 0.50000 to 0.60000, saving model to all\\\n",
      "21/21 [==============================] - 29s 1s/step - loss: 1.1679 - accuracy: 0.4667 - val_loss: 1.0476 - val_accuracy: 0.6000\n",
      "Epoch 7/100\n",
      "21/21 [==============================] - ETA: 0s - loss: 1.1689 - accuracy: 0.4320\n",
      "Epoch 00007: val_accuracy did not improve from 0.60000\n",
      "21/21 [==============================] - 29s 1s/step - loss: 1.1689 - accuracy: 0.4320 - val_loss: 1.0567 - val_accuracy: 0.5400\n",
      "Epoch 8/100\n",
      "21/21 [==============================] - ETA: 0s - loss: 1.1414 - accuracy: 0.4238\n",
      "Epoch 00008: val_accuracy improved from 0.60000 to 0.62000, saving model to all\\\n",
      "21/21 [==============================] - 28s 1s/step - loss: 1.1414 - accuracy: 0.4238 - val_loss: 1.0268 - val_accuracy: 0.6200\n",
      "Epoch 9/100\n",
      "21/21 [==============================] - ETA: 0s - loss: 1.0817 - accuracy: 0.5291\n",
      "Epoch 00009: val_accuracy improved from 0.62000 to 0.64000, saving model to all\\\n",
      "21/21 [==============================] - 29s 1s/step - loss: 1.0817 - accuracy: 0.5291 - val_loss: 0.9271 - val_accuracy: 0.6400\n",
      "Epoch 10/100\n",
      "21/21 [==============================] - ETA: 0s - loss: 1.0596 - accuracy: 0.5291\n",
      "Epoch 00010: val_accuracy improved from 0.64000 to 0.80000, saving model to all\\\n",
      "21/21 [==============================] - 28s 1s/step - loss: 1.0596 - accuracy: 0.5291 - val_loss: 0.8788 - val_accuracy: 0.8000\n",
      "Epoch 11/100\n",
      "21/21 [==============================] - ETA: 0s - loss: 0.9378 - accuracy: 0.6311\n",
      "Epoch 00011: val_accuracy did not improve from 0.80000\n",
      "21/21 [==============================] - 28s 1s/step - loss: 0.9378 - accuracy: 0.6311 - val_loss: 0.9405 - val_accuracy: 0.5200\n",
      "Epoch 12/100\n",
      "21/21 [==============================] - ETA: 0s - loss: 1.0207 - accuracy: 0.5291\n",
      "Epoch 00012: val_accuracy did not improve from 0.80000\n",
      "21/21 [==============================] - 29s 1s/step - loss: 1.0207 - accuracy: 0.5291 - val_loss: 0.9421 - val_accuracy: 0.5800\n",
      "Epoch 13/100\n",
      "21/21 [==============================] - ETA: 0s - loss: 1.0297 - accuracy: 0.5146\n",
      "Epoch 00013: val_accuracy did not improve from 0.80000\n",
      "21/21 [==============================] - 30s 1s/step - loss: 1.0297 - accuracy: 0.5146 - val_loss: 0.8381 - val_accuracy: 0.6000\n",
      "Epoch 14/100\n",
      "21/21 [==============================] - ETA: 0s - loss: 0.9744 - accuracy: 0.5485\n",
      "Epoch 00014: val_accuracy did not improve from 0.80000\n",
      "21/21 [==============================] - 30s 1s/step - loss: 0.9744 - accuracy: 0.5485 - val_loss: 0.8701 - val_accuracy: 0.5600\n",
      "Epoch 15/100\n",
      "21/21 [==============================] - ETA: 0s - loss: 0.9612 - accuracy: 0.5097\n",
      "Epoch 00015: val_accuracy did not improve from 0.80000\n",
      "21/21 [==============================] - 29s 1s/step - loss: 0.9612 - accuracy: 0.5097 - val_loss: 0.8414 - val_accuracy: 0.6200\n",
      "Epoch 16/100\n",
      "21/21 [==============================] - ETA: 0s - loss: 0.9384 - accuracy: 0.5583\n",
      "Epoch 00016: val_accuracy did not improve from 0.80000\n",
      "21/21 [==============================] - 28s 1s/step - loss: 0.9384 - accuracy: 0.5583 - val_loss: 0.8192 - val_accuracy: 0.6000\n",
      "Epoch 17/100\n",
      "21/21 [==============================] - ETA: 0s - loss: 0.9272 - accuracy: 0.5680\n",
      "Epoch 00017: val_accuracy did not improve from 0.80000\n",
      "21/21 [==============================] - 29s 1s/step - loss: 0.9272 - accuracy: 0.5680 - val_loss: 0.9744 - val_accuracy: 0.5200\n",
      "Epoch 18/100\n",
      "21/21 [==============================] - ETA: 0s - loss: 0.8785 - accuracy: 0.5971\n",
      "Epoch 00018: val_accuracy did not improve from 0.80000\n",
      "21/21 [==============================] - 28s 1s/step - loss: 0.8785 - accuracy: 0.5971 - val_loss: 0.8105 - val_accuracy: 0.5800\n",
      "Epoch 19/100\n",
      "21/21 [==============================] - ETA: 0s - loss: 0.9278 - accuracy: 0.5971\n",
      "Epoch 00019: val_accuracy did not improve from 0.80000\n",
      "21/21 [==============================] - 28s 1s/step - loss: 0.9278 - accuracy: 0.5971 - val_loss: 0.7743 - val_accuracy: 0.5400\n",
      "Epoch 20/100\n",
      "21/21 [==============================] - ETA: 0s - loss: 0.8734 - accuracy: 0.6117\n",
      "Epoch 00020: val_accuracy did not improve from 0.80000\n",
      "21/21 [==============================] - 28s 1s/step - loss: 0.8734 - accuracy: 0.6117 - val_loss: 0.7842 - val_accuracy: 0.6200\n",
      "Epoch 21/100\n",
      "21/21 [==============================] - ETA: 0s - loss: 0.8695 - accuracy: 0.6165\n",
      "Epoch 00021: val_accuracy did not improve from 0.80000\n",
      "21/21 [==============================] - 28s 1s/step - loss: 0.8695 - accuracy: 0.6165 - val_loss: 0.7165 - val_accuracy: 0.6400\n",
      "Epoch 22/100\n",
      "21/21 [==============================] - ETA: 0s - loss: 0.8454 - accuracy: 0.6408\n",
      "Epoch 00022: val_accuracy did not improve from 0.80000\n",
      "21/21 [==============================] - 28s 1s/step - loss: 0.8454 - accuracy: 0.6408 - val_loss: 0.7821 - val_accuracy: 0.6600\n",
      "Epoch 23/100\n",
      "21/21 [==============================] - ETA: 0s - loss: 0.8855 - accuracy: 0.5680\n",
      "Epoch 00023: val_accuracy did not improve from 0.80000\n",
      "21/21 [==============================] - 27s 1s/step - loss: 0.8855 - accuracy: 0.5680 - val_loss: 0.6892 - val_accuracy: 0.7200\n",
      "Epoch 24/100\n",
      "21/21 [==============================] - ETA: 0s - loss: 0.8149 - accuracy: 0.6408\n",
      "Epoch 00024: val_accuracy did not improve from 0.80000\n",
      "21/21 [==============================] - 29s 1s/step - loss: 0.8149 - accuracy: 0.6408 - val_loss: 0.8027 - val_accuracy: 0.6000\n",
      "Epoch 25/100\n",
      "21/21 [==============================] - ETA: 0s - loss: 0.8556 - accuracy: 0.6068\n",
      "Epoch 00025: val_accuracy did not improve from 0.80000\n",
      "21/21 [==============================] - 28s 1s/step - loss: 0.8556 - accuracy: 0.6068 - val_loss: 0.6238 - val_accuracy: 0.6800\n",
      "Epoch 26/100\n",
      "21/21 [==============================] - ETA: 0s - loss: 0.7880 - accuracy: 0.6796\n",
      "Epoch 00026: val_accuracy did not improve from 0.80000\n",
      "21/21 [==============================] - 28s 1s/step - loss: 0.7880 - accuracy: 0.6796 - val_loss: 0.6203 - val_accuracy: 0.6800\n",
      "Epoch 27/100\n",
      "21/21 [==============================] - ETA: 0s - loss: 0.7985 - accuracy: 0.6553\n",
      "Epoch 00027: val_accuracy did not improve from 0.80000\n",
      "21/21 [==============================] - 28s 1s/step - loss: 0.7985 - accuracy: 0.6553 - val_loss: 0.9439 - val_accuracy: 0.5200\n",
      "Epoch 28/100\n",
      "21/21 [==============================] - ETA: 0s - loss: 0.8184 - accuracy: 0.6359\n",
      "Epoch 00028: val_accuracy did not improve from 0.80000\n",
      "21/21 [==============================] - 28s 1s/step - loss: 0.8184 - accuracy: 0.6359 - val_loss: 0.7332 - val_accuracy: 0.6400\n",
      "Epoch 29/100\n",
      "21/21 [==============================] - ETA: 0s - loss: 0.7637 - accuracy: 0.6524\n",
      "Epoch 00029: val_accuracy did not improve from 0.80000\n",
      "21/21 [==============================] - 28s 1s/step - loss: 0.7637 - accuracy: 0.6524 - val_loss: 0.6863 - val_accuracy: 0.6600\n"
     ]
    },
    {
     "name": "stdout",
     "output_type": "stream",
     "text": [
      "Epoch 30/100\n",
      "21/21 [==============================] - ETA: 0s - loss: 0.7924 - accuracy: 0.6553\n",
      "Epoch 00030: val_accuracy did not improve from 0.80000\n",
      "21/21 [==============================] - 28s 1s/step - loss: 0.7924 - accuracy: 0.6553 - val_loss: 0.7185 - val_accuracy: 0.6600\n",
      "Epoch 31/100\n",
      "21/21 [==============================] - ETA: 0s - loss: 0.7509 - accuracy: 0.6748\n",
      "Epoch 00031: val_accuracy did not improve from 0.80000\n",
      "21/21 [==============================] - 28s 1s/step - loss: 0.7509 - accuracy: 0.6748 - val_loss: 0.6886 - val_accuracy: 0.6800\n",
      "Epoch 32/100\n",
      "21/21 [==============================] - ETA: 0s - loss: 0.7037 - accuracy: 0.7039\n",
      "Epoch 00032: val_accuracy did not improve from 0.80000\n",
      "21/21 [==============================] - 28s 1s/step - loss: 0.7037 - accuracy: 0.7039 - val_loss: 0.6757 - val_accuracy: 0.6600\n",
      "Epoch 33/100\n",
      "21/21 [==============================] - ETA: 0s - loss: 0.7847 - accuracy: 0.6942\n",
      "Epoch 00033: val_accuracy did not improve from 0.80000\n",
      "21/21 [==============================] - 27s 1s/step - loss: 0.7847 - accuracy: 0.6942 - val_loss: 0.6921 - val_accuracy: 0.6800\n",
      "Epoch 34/100\n",
      "21/21 [==============================] - ETA: 0s - loss: 0.7406 - accuracy: 0.7039\n",
      "Epoch 00034: val_accuracy did not improve from 0.80000\n",
      "21/21 [==============================] - 28s 1s/step - loss: 0.7406 - accuracy: 0.7039 - val_loss: 0.6711 - val_accuracy: 0.7200\n",
      "Epoch 35/100\n",
      "21/21 [==============================] - ETA: 0s - loss: 0.7800 - accuracy: 0.6553\n",
      "Epoch 00035: val_accuracy did not improve from 0.80000\n",
      "21/21 [==============================] - 29s 1s/step - loss: 0.7800 - accuracy: 0.6553 - val_loss: 0.7794 - val_accuracy: 0.6000\n",
      "Epoch 36/100\n",
      "21/21 [==============================] - ETA: 0s - loss: 0.7625 - accuracy: 0.6748\n",
      "Epoch 00036: val_accuracy did not improve from 0.80000\n",
      "21/21 [==============================] - 28s 1s/step - loss: 0.7625 - accuracy: 0.6748 - val_loss: 0.7422 - val_accuracy: 0.5800\n",
      "Epoch 37/100\n",
      "21/21 [==============================] - ETA: 0s - loss: 0.7411 - accuracy: 0.6602\n",
      "Epoch 00037: val_accuracy did not improve from 0.80000\n",
      "21/21 [==============================] - 28s 1s/step - loss: 0.7411 - accuracy: 0.6602 - val_loss: 0.6559 - val_accuracy: 0.7200\n",
      "Epoch 38/100\n",
      "21/21 [==============================] - ETA: 0s - loss: 0.7677 - accuracy: 0.6942\n",
      "Epoch 00038: val_accuracy did not improve from 0.80000\n",
      "21/21 [==============================] - 29s 1s/step - loss: 0.7677 - accuracy: 0.6942 - val_loss: 0.7340 - val_accuracy: 0.7000\n",
      "Epoch 39/100\n",
      "21/21 [==============================] - ETA: 0s - loss: 0.7162 - accuracy: 0.6602\n",
      "Epoch 00039: val_accuracy did not improve from 0.80000\n",
      "21/21 [==============================] - 28s 1s/step - loss: 0.7162 - accuracy: 0.6602 - val_loss: 0.6762 - val_accuracy: 0.6400\n",
      "Epoch 40/100\n",
      "21/21 [==============================] - ETA: 0s - loss: 0.7668 - accuracy: 0.6456\n",
      "Epoch 00040: val_accuracy did not improve from 0.80000\n",
      "21/21 [==============================] - 28s 1s/step - loss: 0.7668 - accuracy: 0.6456 - val_loss: 0.7984 - val_accuracy: 0.5800\n",
      "Epoch 41/100\n",
      "21/21 [==============================] - ETA: 0s - loss: 0.7129 - accuracy: 0.7039\n",
      "Epoch 00041: val_accuracy did not improve from 0.80000\n",
      "21/21 [==============================] - 27s 1s/step - loss: 0.7129 - accuracy: 0.7039 - val_loss: 0.7852 - val_accuracy: 0.6400\n",
      "Epoch 42/100\n",
      "21/21 [==============================] - ETA: 0s - loss: 0.7710 - accuracy: 0.6650\n",
      "Epoch 00042: val_accuracy did not improve from 0.80000\n",
      "21/21 [==============================] - 28s 1s/step - loss: 0.7710 - accuracy: 0.6650 - val_loss: 0.6162 - val_accuracy: 0.6800\n",
      "Epoch 43/100\n",
      "21/21 [==============================] - ETA: 0s - loss: 0.8034 - accuracy: 0.6748\n",
      "Epoch 00043: val_accuracy did not improve from 0.80000\n",
      "21/21 [==============================] - 28s 1s/step - loss: 0.8034 - accuracy: 0.6748 - val_loss: 0.6623 - val_accuracy: 0.6800\n",
      "Epoch 44/100\n",
      "21/21 [==============================] - ETA: 0s - loss: 0.7510 - accuracy: 0.6942\n",
      "Epoch 00044: val_accuracy did not improve from 0.80000\n",
      "21/21 [==============================] - 28s 1s/step - loss: 0.7510 - accuracy: 0.6942 - val_loss: 0.6373 - val_accuracy: 0.6000\n",
      "Epoch 45/100\n",
      "21/21 [==============================] - ETA: 0s - loss: 0.7230 - accuracy: 0.7087\n",
      "Epoch 00045: val_accuracy did not improve from 0.80000\n",
      "21/21 [==============================] - 28s 1s/step - loss: 0.7230 - accuracy: 0.7087 - val_loss: 0.5918 - val_accuracy: 0.7000\n",
      "Epoch 46/100\n",
      "21/21 [==============================] - ETA: 0s - loss: 0.6903 - accuracy: 0.7184\n",
      "Epoch 00046: val_accuracy did not improve from 0.80000\n",
      "21/21 [==============================] - 29s 1s/step - loss: 0.6903 - accuracy: 0.7184 - val_loss: 0.6629 - val_accuracy: 0.6800\n",
      "Epoch 47/100\n",
      "21/21 [==============================] - ETA: 0s - loss: 0.7040 - accuracy: 0.6571\n",
      "Epoch 00047: val_accuracy did not improve from 0.80000\n",
      "21/21 [==============================] - 29s 1s/step - loss: 0.7040 - accuracy: 0.6571 - val_loss: 0.6810 - val_accuracy: 0.7000\n",
      "Epoch 48/100\n",
      "21/21 [==============================] - ETA: 0s - loss: 0.7245 - accuracy: 0.6762\n",
      "Epoch 00048: val_accuracy did not improve from 0.80000\n",
      "21/21 [==============================] - 29s 1s/step - loss: 0.7245 - accuracy: 0.6762 - val_loss: 0.5930 - val_accuracy: 0.7000\n",
      "Epoch 49/100\n",
      "21/21 [==============================] - ETA: 0s - loss: 0.7240 - accuracy: 0.6796\n",
      "Epoch 00049: val_accuracy did not improve from 0.80000\n",
      "21/21 [==============================] - 29s 1s/step - loss: 0.7240 - accuracy: 0.6796 - val_loss: 0.6088 - val_accuracy: 0.7600\n",
      "Epoch 50/100\n",
      "21/21 [==============================] - ETA: 0s - loss: 0.6933 - accuracy: 0.7184\n",
      "Epoch 00050: val_accuracy did not improve from 0.80000\n",
      "21/21 [==============================] - 28s 1s/step - loss: 0.6933 - accuracy: 0.7184 - val_loss: 0.6704 - val_accuracy: 0.7000\n",
      "Epoch 51/100\n",
      "21/21 [==============================] - ETA: 0s - loss: 0.6961 - accuracy: 0.6845\n",
      "Epoch 00051: val_accuracy did not improve from 0.80000\n",
      "21/21 [==============================] - 29s 1s/step - loss: 0.6961 - accuracy: 0.6845 - val_loss: 0.6590 - val_accuracy: 0.6800\n",
      "Epoch 52/100\n",
      "21/21 [==============================] - ETA: 0s - loss: 0.6986 - accuracy: 0.7184\n",
      "Epoch 00052: val_accuracy did not improve from 0.80000\n",
      "21/21 [==============================] - 29s 1s/step - loss: 0.6986 - accuracy: 0.7184 - val_loss: 0.8105 - val_accuracy: 0.6200\n",
      "Epoch 53/100\n",
      "21/21 [==============================] - ETA: 0s - loss: 0.7062 - accuracy: 0.6714\n",
      "Epoch 00053: val_accuracy did not improve from 0.80000\n",
      "21/21 [==============================] - 30s 1s/step - loss: 0.7062 - accuracy: 0.6714 - val_loss: 0.6033 - val_accuracy: 0.6600\n",
      "Epoch 54/100\n",
      "21/21 [==============================] - ETA: 0s - loss: 0.6507 - accuracy: 0.7087\n",
      "Epoch 00054: val_accuracy did not improve from 0.80000\n",
      "21/21 [==============================] - 29s 1s/step - loss: 0.6507 - accuracy: 0.7087 - val_loss: 0.6946 - val_accuracy: 0.6200\n",
      "Epoch 55/100\n",
      "21/21 [==============================] - ETA: 0s - loss: 0.7690 - accuracy: 0.6942\n",
      "Epoch 00055: val_accuracy did not improve from 0.80000\n",
      "21/21 [==============================] - 27s 1s/step - loss: 0.7690 - accuracy: 0.6942 - val_loss: 0.7209 - val_accuracy: 0.6800\n",
      "Epoch 56/100\n",
      "21/21 [==============================] - ETA: 0s - loss: 0.6962 - accuracy: 0.7136\n",
      "Epoch 00056: val_accuracy did not improve from 0.80000\n",
      "21/21 [==============================] - 27s 1s/step - loss: 0.6962 - accuracy: 0.7136 - val_loss: 0.5572 - val_accuracy: 0.6600\n",
      "Epoch 57/100\n",
      "21/21 [==============================] - ETA: 0s - loss: 0.7411 - accuracy: 0.6359\n",
      "Epoch 00057: val_accuracy did not improve from 0.80000\n",
      "21/21 [==============================] - 29s 1s/step - loss: 0.7411 - accuracy: 0.6359 - val_loss: 0.6706 - val_accuracy: 0.7000\n",
      "Epoch 58/100\n",
      "21/21 [==============================] - ETA: 0s - loss: 0.6997 - accuracy: 0.6845\n",
      "Epoch 00058: val_accuracy did not improve from 0.80000\n",
      "21/21 [==============================] - 29s 1s/step - loss: 0.6997 - accuracy: 0.6845 - val_loss: 0.8763 - val_accuracy: 0.5400\n",
      "Epoch 59/100\n"
     ]
    },
    {
     "name": "stdout",
     "output_type": "stream",
     "text": [
      "21/21 [==============================] - ETA: 0s - loss: 0.7271 - accuracy: 0.6893\n",
      "Epoch 00059: val_accuracy did not improve from 0.80000\n",
      "21/21 [==============================] - 28s 1s/step - loss: 0.7271 - accuracy: 0.6893 - val_loss: 0.6838 - val_accuracy: 0.6400\n",
      "Epoch 60/100\n",
      "21/21 [==============================] - ETA: 0s - loss: 0.7035 - accuracy: 0.7233\n",
      "Epoch 00060: val_accuracy did not improve from 0.80000\n",
      "21/21 [==============================] - 29s 1s/step - loss: 0.7035 - accuracy: 0.7233 - val_loss: 0.6658 - val_accuracy: 0.6200\n",
      "Epoch 61/100\n",
      "21/21 [==============================] - ETA: 0s - loss: 0.6679 - accuracy: 0.7039\n",
      "Epoch 00061: val_accuracy did not improve from 0.80000\n",
      "21/21 [==============================] - 29s 1s/step - loss: 0.6679 - accuracy: 0.7039 - val_loss: 0.6277 - val_accuracy: 0.5600\n",
      "Epoch 62/100\n",
      "21/21 [==============================] - ETA: 0s - loss: 0.7097 - accuracy: 0.6845\n",
      "Epoch 00062: val_accuracy did not improve from 0.80000\n",
      "21/21 [==============================] - 29s 1s/step - loss: 0.7097 - accuracy: 0.6845 - val_loss: 0.6286 - val_accuracy: 0.6800\n",
      "Epoch 63/100\n",
      "21/21 [==============================] - ETA: 0s - loss: 0.7117 - accuracy: 0.6990\n",
      "Epoch 00063: val_accuracy did not improve from 0.80000\n",
      "21/21 [==============================] - 28s 1s/step - loss: 0.7117 - accuracy: 0.6990 - val_loss: 0.5635 - val_accuracy: 0.6200\n",
      "Epoch 64/100\n",
      "21/21 [==============================] - ETA: 0s - loss: 0.6507 - accuracy: 0.6845\n",
      "Epoch 00064: val_accuracy did not improve from 0.80000\n",
      "21/21 [==============================] - 28s 1s/step - loss: 0.6507 - accuracy: 0.6845 - val_loss: 0.5971 - val_accuracy: 0.7200\n",
      "Epoch 65/100\n",
      "21/21 [==============================] - ETA: 0s - loss: 0.5601 - accuracy: 0.7621\n",
      "Epoch 00065: val_accuracy did not improve from 0.80000\n",
      "21/21 [==============================] - 29s 1s/step - loss: 0.5601 - accuracy: 0.7621 - val_loss: 0.6982 - val_accuracy: 0.6800\n",
      "Epoch 66/100\n",
      "21/21 [==============================] - ETA: 0s - loss: 0.6456 - accuracy: 0.7190\n",
      "Epoch 00066: val_accuracy did not improve from 0.80000\n",
      "21/21 [==============================] - 29s 1s/step - loss: 0.6456 - accuracy: 0.7190 - val_loss: 0.6028 - val_accuracy: 0.7000\n",
      "Epoch 67/100\n",
      "21/21 [==============================] - ETA: 0s - loss: 0.7163 - accuracy: 0.7330\n",
      "Epoch 00067: val_accuracy did not improve from 0.80000\n",
      "21/21 [==============================] - 28s 1s/step - loss: 0.7163 - accuracy: 0.7330 - val_loss: 0.6199 - val_accuracy: 0.6000\n",
      "Epoch 68/100\n",
      "21/21 [==============================] - ETA: 0s - loss: 0.6539 - accuracy: 0.7184\n",
      "Epoch 00068: val_accuracy did not improve from 0.80000\n",
      "21/21 [==============================] - 27s 1s/step - loss: 0.6539 - accuracy: 0.7184 - val_loss: 0.5718 - val_accuracy: 0.7200\n",
      "Epoch 69/100\n",
      "21/21 [==============================] - ETA: 0s - loss: 0.6655 - accuracy: 0.7087\n",
      "Epoch 00069: val_accuracy did not improve from 0.80000\n",
      "21/21 [==============================] - 28s 1s/step - loss: 0.6655 - accuracy: 0.7087 - val_loss: 0.6383 - val_accuracy: 0.6800\n",
      "Epoch 70/100\n",
      "21/21 [==============================] - ETA: 0s - loss: 0.6684 - accuracy: 0.6893\n",
      "Epoch 00070: val_accuracy did not improve from 0.80000\n",
      "21/21 [==============================] - 29s 1s/step - loss: 0.6684 - accuracy: 0.6893 - val_loss: 0.5492 - val_accuracy: 0.7400\n",
      "Epoch 71/100\n",
      "21/21 [==============================] - ETA: 0s - loss: 0.6432 - accuracy: 0.6893\n",
      "Epoch 00071: val_accuracy did not improve from 0.80000\n",
      "21/21 [==============================] - 28s 1s/step - loss: 0.6432 - accuracy: 0.6893 - val_loss: 0.6554 - val_accuracy: 0.6600\n",
      "Epoch 72/100\n",
      "21/21 [==============================] - ETA: 0s - loss: 0.6491 - accuracy: 0.6942\n",
      "Epoch 00072: val_accuracy did not improve from 0.80000\n",
      "21/21 [==============================] - 28s 1s/step - loss: 0.6491 - accuracy: 0.6942 - val_loss: 0.6520 - val_accuracy: 0.6200\n",
      "Epoch 73/100\n",
      "21/21 [==============================] - ETA: 0s - loss: 0.6787 - accuracy: 0.6748\n",
      "Epoch 00073: val_accuracy did not improve from 0.80000\n",
      "21/21 [==============================] - 28s 1s/step - loss: 0.6787 - accuracy: 0.6748 - val_loss: 0.6109 - val_accuracy: 0.7000\n",
      "Epoch 74/100\n",
      "21/21 [==============================] - ETA: 0s - loss: 0.6160 - accuracy: 0.7427\n",
      "Epoch 00074: val_accuracy did not improve from 0.80000\n",
      "21/21 [==============================] - 27s 1s/step - loss: 0.6160 - accuracy: 0.7427 - val_loss: 0.6126 - val_accuracy: 0.6200\n",
      "Epoch 75/100\n",
      "21/21 [==============================] - ETA: 0s - loss: 0.5828 - accuracy: 0.7330\n",
      "Epoch 00075: val_accuracy did not improve from 0.80000\n",
      "21/21 [==============================] - 26s 1s/step - loss: 0.5828 - accuracy: 0.7330 - val_loss: 0.6012 - val_accuracy: 0.7400\n",
      "Epoch 76/100\n",
      "21/21 [==============================] - ETA: 0s - loss: 0.6652 - accuracy: 0.7136\n",
      "Epoch 00076: val_accuracy did not improve from 0.80000\n",
      "21/21 [==============================] - 27s 1s/step - loss: 0.6652 - accuracy: 0.7136 - val_loss: 0.6436 - val_accuracy: 0.6800\n",
      "Epoch 77/100\n",
      "21/21 [==============================] - ETA: 0s - loss: 0.6196 - accuracy: 0.7573\n",
      "Epoch 00077: val_accuracy did not improve from 0.80000\n",
      "21/21 [==============================] - 27s 1s/step - loss: 0.6196 - accuracy: 0.7573 - val_loss: 0.6541 - val_accuracy: 0.6200\n",
      "Epoch 78/100\n",
      "21/21 [==============================] - ETA: 0s - loss: 0.6202 - accuracy: 0.7087\n",
      "Epoch 00078: val_accuracy did not improve from 0.80000\n",
      "21/21 [==============================] - 29s 1s/step - loss: 0.6202 - accuracy: 0.7087 - val_loss: 0.6414 - val_accuracy: 0.6600\n",
      "Epoch 79/100\n",
      "21/21 [==============================] - ETA: 0s - loss: 0.6498 - accuracy: 0.7379\n",
      "Epoch 00079: val_accuracy did not improve from 0.80000\n",
      "21/21 [==============================] - 27s 1s/step - loss: 0.6498 - accuracy: 0.7379 - val_loss: 0.5414 - val_accuracy: 0.7200\n",
      "Epoch 80/100\n",
      "21/21 [==============================] - ETA: 0s - loss: 0.5901 - accuracy: 0.7048\n",
      "Epoch 00080: val_accuracy did not improve from 0.80000\n",
      "21/21 [==============================] - 28s 1s/step - loss: 0.5901 - accuracy: 0.7048 - val_loss: 0.6436 - val_accuracy: 0.6800\n",
      "Epoch 81/100\n",
      "21/21 [==============================] - ETA: 0s - loss: 0.6417 - accuracy: 0.6990\n",
      "Epoch 00081: val_accuracy did not improve from 0.80000\n",
      "21/21 [==============================] - 28s 1s/step - loss: 0.6417 - accuracy: 0.6990 - val_loss: 0.5564 - val_accuracy: 0.6800\n",
      "Epoch 82/100\n",
      "21/21 [==============================] - ETA: 0s - loss: 0.5919 - accuracy: 0.7573\n",
      "Epoch 00082: val_accuracy did not improve from 0.80000\n",
      "21/21 [==============================] - 28s 1s/step - loss: 0.5919 - accuracy: 0.7573 - val_loss: 0.5799 - val_accuracy: 0.7000\n",
      "Epoch 83/100\n",
      "21/21 [==============================] - ETA: 0s - loss: 0.6166 - accuracy: 0.7379\n",
      "Epoch 00083: val_accuracy did not improve from 0.80000\n",
      "21/21 [==============================] - 27s 1s/step - loss: 0.6166 - accuracy: 0.7379 - val_loss: 0.6562 - val_accuracy: 0.7400\n",
      "Epoch 84/100\n",
      "21/21 [==============================] - ETA: 0s - loss: 0.5795 - accuracy: 0.7476\n",
      "Epoch 00084: val_accuracy did not improve from 0.80000\n",
      "21/21 [==============================] - 28s 1s/step - loss: 0.5795 - accuracy: 0.7476 - val_loss: 0.7173 - val_accuracy: 0.6400\n",
      "Epoch 85/100\n",
      "21/21 [==============================] - ETA: 0s - loss: 0.6420 - accuracy: 0.7039\n",
      "Epoch 00085: val_accuracy did not improve from 0.80000\n",
      "21/21 [==============================] - 27s 1s/step - loss: 0.6420 - accuracy: 0.7039 - val_loss: 0.6536 - val_accuracy: 0.7000\n",
      "Epoch 86/100\n",
      "21/21 [==============================] - ETA: 0s - loss: 0.6546 - accuracy: 0.7087\n",
      "Epoch 00086: val_accuracy did not improve from 0.80000\n",
      "21/21 [==============================] - 27s 1s/step - loss: 0.6546 - accuracy: 0.7087 - val_loss: 0.6659 - val_accuracy: 0.6600\n",
      "Epoch 87/100\n",
      "21/21 [==============================] - ETA: 0s - loss: 0.6559 - accuracy: 0.7282\n",
      "Epoch 00087: val_accuracy did not improve from 0.80000\n",
      "21/21 [==============================] - 27s 1s/step - loss: 0.6559 - accuracy: 0.7282 - val_loss: 0.5532 - val_accuracy: 0.7200\n",
      "Epoch 88/100\n"
     ]
    },
    {
     "name": "stdout",
     "output_type": "stream",
     "text": [
      "21/21 [==============================] - ETA: 0s - loss: 0.5799 - accuracy: 0.7330\n",
      "Epoch 00088: val_accuracy did not improve from 0.80000\n",
      "21/21 [==============================] - 28s 1s/step - loss: 0.5799 - accuracy: 0.7330 - val_loss: 0.5303 - val_accuracy: 0.7200\n",
      "Epoch 89/100\n",
      "21/21 [==============================] - ETA: 0s - loss: 0.6108 - accuracy: 0.7379\n",
      "Epoch 00089: val_accuracy did not improve from 0.80000\n",
      "21/21 [==============================] - 28s 1s/step - loss: 0.6108 - accuracy: 0.7379 - val_loss: 0.6738 - val_accuracy: 0.6600\n",
      "Epoch 90/100\n",
      "21/21 [==============================] - ETA: 0s - loss: 0.6271 - accuracy: 0.7524\n",
      "Epoch 00090: val_accuracy did not improve from 0.80000\n",
      "21/21 [==============================] - 28s 1s/step - loss: 0.6271 - accuracy: 0.7524 - val_loss: 0.6734 - val_accuracy: 0.6800\n",
      "Epoch 91/100\n",
      "21/21 [==============================] - ETA: 0s - loss: 0.6127 - accuracy: 0.7524\n",
      "Epoch 00091: val_accuracy did not improve from 0.80000\n",
      "21/21 [==============================] - 28s 1s/step - loss: 0.6127 - accuracy: 0.7524 - val_loss: 0.7191 - val_accuracy: 0.6400\n",
      "Epoch 92/100\n",
      "21/21 [==============================] - ETA: 0s - loss: 0.5511 - accuracy: 0.7621\n",
      "Epoch 00092: val_accuracy did not improve from 0.80000\n",
      "21/21 [==============================] - 28s 1s/step - loss: 0.5511 - accuracy: 0.7621 - val_loss: 0.6120 - val_accuracy: 0.6400\n",
      "Epoch 93/100\n",
      "21/21 [==============================] - ETA: 0s - loss: 0.5833 - accuracy: 0.7136\n",
      "Epoch 00093: val_accuracy did not improve from 0.80000\n",
      "21/21 [==============================] - 28s 1s/step - loss: 0.5833 - accuracy: 0.7136 - val_loss: 0.5568 - val_accuracy: 0.6800\n",
      "Epoch 94/100\n",
      "21/21 [==============================] - ETA: 0s - loss: 0.5706 - accuracy: 0.7379\n",
      "Epoch 00094: val_accuracy did not improve from 0.80000\n",
      "21/21 [==============================] - 27s 1s/step - loss: 0.5706 - accuracy: 0.7379 - val_loss: 0.5995 - val_accuracy: 0.6600\n",
      "Epoch 95/100\n",
      "21/21 [==============================] - ETA: 0s - loss: 0.6020 - accuracy: 0.7184\n",
      "Epoch 00095: val_accuracy did not improve from 0.80000\n",
      "21/21 [==============================] - 29s 1s/step - loss: 0.6020 - accuracy: 0.7184 - val_loss: 0.6475 - val_accuracy: 0.6600\n",
      "Epoch 96/100\n",
      "21/21 [==============================] - ETA: 0s - loss: 0.6847 - accuracy: 0.6748\n",
      "Epoch 00096: val_accuracy did not improve from 0.80000\n",
      "21/21 [==============================] - 27s 1s/step - loss: 0.6847 - accuracy: 0.6748 - val_loss: 0.5511 - val_accuracy: 0.7400\n",
      "Epoch 97/100\n",
      "21/21 [==============================] - ETA: 0s - loss: 0.5998 - accuracy: 0.7524\n",
      "Epoch 00097: val_accuracy did not improve from 0.80000\n",
      "21/21 [==============================] - 28s 1s/step - loss: 0.5998 - accuracy: 0.7524 - val_loss: 0.5268 - val_accuracy: 0.7000\n",
      "Epoch 98/100\n",
      "21/21 [==============================] - ETA: 0s - loss: 0.5735 - accuracy: 0.7524\n",
      "Epoch 00098: val_accuracy did not improve from 0.80000\n",
      "21/21 [==============================] - 28s 1s/step - loss: 0.5735 - accuracy: 0.7524 - val_loss: 0.6461 - val_accuracy: 0.6200\n",
      "Epoch 99/100\n",
      "21/21 [==============================] - ETA: 0s - loss: 0.5444 - accuracy: 0.7718\n",
      "Epoch 00099: val_accuracy did not improve from 0.80000\n",
      "21/21 [==============================] - 28s 1s/step - loss: 0.5444 - accuracy: 0.7718 - val_loss: 0.6103 - val_accuracy: 0.6800\n",
      "Epoch 100/100\n",
      "21/21 [==============================] - ETA: 0s - loss: 0.5487 - accuracy: 0.7476\n",
      "Epoch 00100: val_accuracy did not improve from 0.80000\n",
      "21/21 [==============================] - 28s 1s/step - loss: 0.5487 - accuracy: 0.7476 - val_loss: 0.5463 - val_accuracy: 0.7200\n"
     ]
    },
    {
     "data": {
      "text/plain": [
       "<tensorflow.python.training.tracking.util.CheckpointLoadStatus at 0x2af54d54438>"
      ]
     },
     "execution_count": 5,
     "metadata": {},
     "output_type": "execute_result"
    }
   ],
   "source": [
    "#FIT MODEL\n",
    "STEP_SIZE_TRAIN=train_batches.n//train_batches.batch_size\n",
    "STEP_SIZE_VALID=valid_batches.n//valid_batches.batch_size\n",
    "\n",
    "history = model.fit(train_batches, epochs=100, validation_data=valid_batches,batch_size=5, \n",
    "                    steps_per_epoch=STEP_SIZE_TRAIN, validation_steps = STEP_SIZE_VALID, callbacks=[checkpoint])\n",
    "model.load_weights(checkpoint_filepath)"
   ]
  },
  {
   "cell_type": "markdown",
   "metadata": {
    "nbpresent": {
     "id": "66140980-2aa4-457f-b1df-74c10c234cc2"
    }
   },
   "source": [
    "#### [5 points] Plot Accuracy and Loss During Training"
   ]
  },
  {
   "cell_type": "code",
   "execution_count": 6,
   "metadata": {
    "nbpresent": {
     "id": "ff342098-784a-4e20-ac34-b74ca8ebe839"
    }
   },
   "outputs": [
    {
     "data": {
      "image/png": "[encoded data removed]",
      "text/plain": [
       "<Figure size 432x288 with 1 Axes>"
      ]
     },
     "metadata": {
      "needs_background": "light"
     },
     "output_type": "display_data"
    },
    {
     "data": {
      "image/png": "[encoded data removed]",
      "text/plain": [
       "<Figure size 432x288 with 1 Axes>"
      ]
     },
     "metadata": {
      "needs_background": "light"
     },
     "output_type": "display_data"
    }
   ],
   "source": [
    "import matplotlib.pyplot as plt\n",
    "\n",
    "plt.title('Accuracy over 100 Epochs')\n",
    "plt.plot(history.history['accuracy'], label='Train_acc')\n",
    "plt.plot(history.history['val_accuracy'], label = 'Test_acc')\n",
    "plt.legend(loc='upper left')\n",
    "plt.grid(True)\n",
    "plt.show()\n",
    "\n",
    "plt.title('Loss over 100 Epochs')\n",
    "plt.plot(history.history['loss'], label='Train_loss')\n",
    "plt.plot(history.history['val_loss'], label = 'Test_loss')\n",
    "plt.legend(loc='upper right')\n",
    "plt.grid(True)\n",
    "plt.show()"
   ]
  },
  {
   "cell_type": "markdown",
   "metadata": {
    "nbpresent": {
     "id": "66140980-2aa4-457f-b1df-74c10c234cc2"
    }
   },
   "source": [
    "#### Testing Model"
   ]
  },
  {
   "cell_type": "code",
   "execution_count": 8,
   "metadata": {},
   "outputs": [
    {
     "name": "stdout",
     "output_type": "stream",
     "text": [
      "Found 36 images belonging to 4 classes.\n",
      "36/36 [==============================] - 4s 108ms/step - loss: 1.1044 - accuracy: 0.5833\n",
      "Test loss: 1.1044107675552368\n",
      "Test accuracy: 0.5833333134651184\n"
     ]
    }
   ],
   "source": [
    "vgg16.trainable = True\n",
    "test_datagen = ImageDataGenerator(rescale=1. / 255)\n",
    "\n",
    "eval_generator = test_datagen.flow_from_directory(TEST_DIR,target_size=IMAGE_SIZE,\n",
    "                                                  batch_size=1,shuffle=False,seed=42,class_mode=\"categorical\")\n",
    "eval_generator.reset()\n",
    "x = model.evaluate_generator(eval_generator,steps = np.ceil(len(eval_generator)),\n",
    "                           use_multiprocessing = False,verbose = 1,workers=1)\n",
    "print('Test loss:' , x[0])\n",
    "print('Test accuracy:',x[1])"
   ]
  },
  {
   "cell_type": "code",
   "execution_count": 44,
   "metadata": {},
   "outputs": [
    {
     "name": "stdout",
     "output_type": "stream",
     "text": [
      "Found 270 images belonging to 4 classes.\n"
     ]
    },
    {
     "data": {
      "image/png": "[encoded data removed]",
      "text/plain": [
       "<Figure size 432x288 with 1 Axes>"
      ]
     },
     "metadata": {
      "needs_background": "light"
     },
     "output_type": "display_data"
    }
   ],
   "source": [
    "from sklearn.manifold import TSNE\n",
    "\n",
    "intermediate_layer_model = tf.keras.models.Model(inputs=model.input,\n",
    "                                        outputs=model.get_layer('feature_dense').output)\n",
    "\n",
    "tsne_eval_generator = test_datagen.flow_from_directory(DATASET_PATH,target_size=IMAGE_SIZE,\n",
    "                                                  batch_size=1,shuffle=False,seed=42,class_mode=\"categorical\")\n",
    "\n",
    "\n",
    "#get labels from data generator\n",
    "labels_array = []\n",
    "num_labels=[]\n",
    "a = tsne_eval_generator.class_indices.keys()\n",
    "for i in range( tsne_eval_generator.__len__() ):\n",
    "    labels_array.extend(tsne_eval_generator.__getitem__( i )[1] )   #obtain the arrays of index to array\n",
    "    for j in range(len(labels_array[i])):       #obtain the index of item that is equal to 1, and append to the list \n",
    "        if labels_array[i][j] == 1.0:\n",
    "            num_labels.append(j)\n",
    "\n",
    "#feature extraction    \n",
    "tsne_eval_generator.reset()\n",
    "features = intermediate_layer_model.predict(tsne_eval_generator)\n",
    "\n",
    "#compress the dimensionality    \n",
    "tsne = TSNE(n_components=2)\n",
    "tsne_result = tsne.fit_transform(features)\n",
    "x=[i[0] for i in tsne_result]\n",
    "y=[i[1] for i in tsne_result]\n",
    "\n",
    "#plotting values\n",
    "zero_x=[]\n",
    "one_x=[]\n",
    "two_x=[]\n",
    "three_x=[]\n",
    "\n",
    "zero_y=[]\n",
    "one_y=[]\n",
    "two_y=[]\n",
    "three_y=[]\n",
    "\n",
    "for i in range(len(labels_array)):\n",
    "    if num_labels[i] == 0:\n",
    "        zero_x.append(x[i])\n",
    "        zero_y.append(y[i])\n",
    "    elif num_labels[i] == 1:\n",
    "        one_x.append(x[i])\n",
    "        one_y.append(y[i])\n",
    "    elif num_labels[i] == 2:\n",
    "        two_x.append(x[i])\n",
    "        two_y.append(y[i])\n",
    "    elif num_labels[i] == 3:\n",
    "        three_x.append(x[i])\n",
    "        three_y.append(y[i])\n",
    "        \n",
    "        \n",
    "#plotting\n",
    "plt.scatter(zero_x,zero_y, label='COVID-19', s=15)\n",
    "plt.scatter(one_x,one_y, label='Normal', s=15)\n",
    "plt.scatter(two_x,two_y, label='Pneumonia_bac', s=15)\n",
    "plt.scatter(three_x,three_y, label='Pneumonia_vir', s=15)\n",
    "plt.legend(loc='upper right')\n",
    "plt.show()"
   ]
  },
  {
   "cell_type": "markdown",
   "metadata": {},
   "source": [
    "## Model 2 "
   ]
  },
  {
   "cell_type": "code",
   "execution_count": 39,
   "metadata": {},
   "outputs": [
    {
     "name": "stdout",
     "output_type": "stream",
     "text": [
      "Model: \"sequential_11\"\n",
      "_________________________________________________________________\n",
      "Layer (type)                 Output Shape              Param #   \n",
      "=================================================================\n",
      "mobilenet_1.00_224 (Function (None, 7, 7, 1024)        3228864   \n",
      "_________________________________________________________________\n",
      "flatten_11 (Flatten)         (None, 50176)             0         \n",
      "_________________________________________________________________\n",
      "feature_dense (Dense)        (None, 256)               12845312  \n",
      "_________________________________________________________________\n",
      "dropout_9 (Dropout)          (None, 256)               0         \n",
      "_________________________________________________________________\n",
      "dense_14 (Dense)             (None, 4)                 1028      \n",
      "=================================================================\n",
      "Total params: 16,075,204\n",
      "Trainable params: 16,053,316\n",
      "Non-trainable params: 21,888\n",
      "_________________________________________________________________\n"
     ]
    }
   ],
   "source": [
    "#checkpoint_filepath3 = 'all/'\n",
    "#checkpoint3 = tf.keras.callbacks.ModelCheckpoint(checkpoint_filepath2,\n",
    "#                            monitor='val_accuracy',\n",
    "#                            verbose=1,\n",
    "#                            save_best_only=True,\n",
    "#                            save_weights_only=True,\n",
    "#                            mode='max')\n",
    "    \n",
    "\n",
    "mobile = tf.keras.applications.MobileNet(weights='imagenet', include_top=False, input_shape = (224,224,3))\n",
    "mobile_model3 = tf.keras.models.Sequential([\n",
    "    mobile,\n",
    "    tf.keras.layers.Flatten(),\n",
    "    tf.keras.layers.Dense(256,activation='relu',name='feature_dense'),\n",
    "    tf.keras.layers.Dropout(0.5),\n",
    "    tf.keras.layers.Dense(4,activation='softmax')\n",
    "])\n",
    "mobile_model3.summary()\n",
    "opt = tf.keras.optimizers.Adam(learning_rate=0.0001)\n",
    "mobile_model3.compile(optimizer=opt,\n",
    "                loss=tf.keras.losses.CategoricalCrossentropy(from_logits=False),\n",
    "                metrics=['accuracy'])"
   ]
  },
  {
   "cell_type": "code",
   "execution_count": 40,
   "metadata": {},
   "outputs": [
    {
     "name": "stdout",
     "output_type": "stream",
     "text": [
      "Epoch 1/100\n",
      "21/21 [==============================] - 29s 1s/step - loss: 3.5027 - accuracy: 0.3495 - val_loss: 2.7347 - val_accuracy: 0.3600\n",
      "Epoch 2/100\n",
      "21/21 [==============================] - 28s 1s/step - loss: 2.2274 - accuracy: 0.4806 - val_loss: 3.4575 - val_accuracy: 0.2600\n",
      "Epoch 3/100\n",
      "21/21 [==============================] - 28s 1s/step - loss: 1.3797 - accuracy: 0.5922 - val_loss: 2.8978 - val_accuracy: 0.3200\n",
      "Epoch 4/100\n",
      "21/21 [==============================] - 29s 1s/step - loss: 1.2921 - accuracy: 0.6019 - val_loss: 1.4403 - val_accuracy: 0.5200\n",
      "Epoch 5/100\n",
      "21/21 [==============================] - 28s 1s/step - loss: 0.9724 - accuracy: 0.6262 - val_loss: 1.2639 - val_accuracy: 0.4200\n",
      "Epoch 6/100\n",
      "21/21 [==============================] - 28s 1s/step - loss: 0.7415 - accuracy: 0.6845 - val_loss: 2.1276 - val_accuracy: 0.3600\n",
      "Epoch 7/100\n",
      "21/21 [==============================] - 28s 1s/step - loss: 0.7294 - accuracy: 0.6796 - val_loss: 1.7721 - val_accuracy: 0.3600\n",
      "Epoch 8/100\n",
      "21/21 [==============================] - 28s 1s/step - loss: 0.8557 - accuracy: 0.6214 - val_loss: 1.1706 - val_accuracy: 0.5400\n",
      "Epoch 9/100\n",
      "21/21 [==============================] - 28s 1s/step - loss: 0.5750 - accuracy: 0.7670 - val_loss: 1.0979 - val_accuracy: 0.5400\n",
      "Epoch 10/100\n",
      "21/21 [==============================] - 28s 1s/step - loss: 0.6671 - accuracy: 0.6845 - val_loss: 1.3128 - val_accuracy: 0.4800\n",
      "Epoch 11/100\n",
      "21/21 [==============================] - 28s 1s/step - loss: 0.8358 - accuracy: 0.6796 - val_loss: 1.1378 - val_accuracy: 0.5600\n",
      "Epoch 12/100\n",
      "21/21 [==============================] - 29s 1s/step - loss: 0.6128 - accuracy: 0.7184 - val_loss: 1.0614 - val_accuracy: 0.6000\n",
      "Epoch 13/100\n",
      "21/21 [==============================] - 28s 1s/step - loss: 0.6243 - accuracy: 0.7767 - val_loss: 0.9480 - val_accuracy: 0.6200\n",
      "Epoch 14/100\n",
      "21/21 [==============================] - 28s 1s/step - loss: 0.6706 - accuracy: 0.6893 - val_loss: 0.8258 - val_accuracy: 0.6600\n",
      "Epoch 15/100\n",
      "21/21 [==============================] - 28s 1s/step - loss: 0.6256 - accuracy: 0.7136 - val_loss: 1.0388 - val_accuracy: 0.6000\n",
      "Epoch 16/100\n",
      "21/21 [==============================] - 28s 1s/step - loss: 0.6617 - accuracy: 0.7282 - val_loss: 1.1539 - val_accuracy: 0.5400\n",
      "Epoch 17/100\n",
      "21/21 [==============================] - 28s 1s/step - loss: 0.5565 - accuracy: 0.7864 - val_loss: 0.8925 - val_accuracy: 0.5200\n",
      "Epoch 18/100\n",
      "21/21 [==============================] - 28s 1s/step - loss: 0.6911 - accuracy: 0.7039 - val_loss: 0.8083 - val_accuracy: 0.6600\n",
      "Epoch 19/100\n",
      "21/21 [==============================] - 28s 1s/step - loss: 0.5859 - accuracy: 0.7184 - val_loss: 0.6412 - val_accuracy: 0.7800\n",
      "Epoch 20/100\n",
      "21/21 [==============================] - 28s 1s/step - loss: 0.5779 - accuracy: 0.7524 - val_loss: 0.7280 - val_accuracy: 0.6400\n",
      "Epoch 21/100\n",
      "21/21 [==============================] - 28s 1s/step - loss: 0.5390 - accuracy: 0.7476 - val_loss: 0.7856 - val_accuracy: 0.6600\n",
      "Epoch 22/100\n",
      "21/21 [==============================] - 28s 1s/step - loss: 0.6680 - accuracy: 0.7330 - val_loss: 0.6101 - val_accuracy: 0.6800\n",
      "Epoch 23/100\n",
      "21/21 [==============================] - 28s 1s/step - loss: 0.5766 - accuracy: 0.7524 - val_loss: 0.7164 - val_accuracy: 0.6400\n",
      "Epoch 24/100\n",
      "21/21 [==============================] - 30s 1s/step - loss: 0.4512 - accuracy: 0.7913 - val_loss: 0.6031 - val_accuracy: 0.7400\n",
      "Epoch 25/100\n",
      "21/21 [==============================] - 29s 1s/step - loss: 0.4858 - accuracy: 0.7718 - val_loss: 0.6651 - val_accuracy: 0.6600\n",
      "Epoch 26/100\n",
      "21/21 [==============================] - 28s 1s/step - loss: 0.6210 - accuracy: 0.7571 - val_loss: 0.5306 - val_accuracy: 0.7000\n",
      "Epoch 27/100\n",
      "21/21 [==============================] - 28s 1s/step - loss: 0.4510 - accuracy: 0.8204 - val_loss: 0.6004 - val_accuracy: 0.7400\n",
      "Epoch 28/100\n",
      "21/21 [==============================] - 29s 1s/step - loss: 0.5493 - accuracy: 0.7330 - val_loss: 0.5127 - val_accuracy: 0.7400\n",
      "Epoch 29/100\n",
      "21/21 [==============================] - 29s 1s/step - loss: 0.4106 - accuracy: 0.8398 - val_loss: 0.4958 - val_accuracy: 0.6800\n",
      "Epoch 30/100\n",
      "21/21 [==============================] - 28s 1s/step - loss: 0.4622 - accuracy: 0.7718 - val_loss: 0.4988 - val_accuracy: 0.7600\n",
      "Epoch 31/100\n",
      "21/21 [==============================] - 31s 1s/step - loss: 0.5246 - accuracy: 0.7767 - val_loss: 0.6918 - val_accuracy: 0.6200\n",
      "Epoch 32/100\n",
      "21/21 [==============================] - 29s 1s/step - loss: 0.4460 - accuracy: 0.7718 - val_loss: 0.5044 - val_accuracy: 0.7600\n",
      "Epoch 33/100\n",
      "21/21 [==============================] - 30s 1s/step - loss: 0.4250 - accuracy: 0.8155 - val_loss: 0.6997 - val_accuracy: 0.7000\n",
      "Epoch 34/100\n",
      "21/21 [==============================] - 30s 1s/step - loss: 0.4699 - accuracy: 0.7718 - val_loss: 0.6181 - val_accuracy: 0.7200\n",
      "Epoch 35/100\n",
      "21/21 [==============================] - 28s 1s/step - loss: 0.5288 - accuracy: 0.7913 - val_loss: 0.5822 - val_accuracy: 0.7000\n",
      "Epoch 36/100\n",
      "21/21 [==============================] - 29s 1s/step - loss: 0.4521 - accuracy: 0.8058 - val_loss: 0.4948 - val_accuracy: 0.7600\n",
      "Epoch 37/100\n",
      "21/21 [==============================] - 28s 1s/step - loss: 0.5671 - accuracy: 0.7864 - val_loss: 0.4221 - val_accuracy: 0.8200\n",
      "Epoch 38/100\n",
      "21/21 [==============================] - 28s 1s/step - loss: 0.4287 - accuracy: 0.8107 - val_loss: 0.4123 - val_accuracy: 0.8000\n",
      "Epoch 39/100\n",
      "21/21 [==============================] - 28s 1s/step - loss: 0.3715 - accuracy: 0.8350 - val_loss: 0.4158 - val_accuracy: 0.8400\n",
      "Epoch 40/100\n",
      "21/21 [==============================] - 28s 1s/step - loss: 0.4577 - accuracy: 0.8447 - val_loss: 0.5190 - val_accuracy: 0.7800\n",
      "Epoch 41/100\n",
      "21/21 [==============================] - 29s 1s/step - loss: 0.4973 - accuracy: 0.7864 - val_loss: 0.5872 - val_accuracy: 0.7800\n",
      "Epoch 42/100\n",
      "21/21 [==============================] - 28s 1s/step - loss: 0.4641 - accuracy: 0.8107 - val_loss: 0.5152 - val_accuracy: 0.7000\n",
      "Epoch 43/100\n",
      "21/21 [==============================] - 28s 1s/step - loss: 0.5436 - accuracy: 0.7961 - val_loss: 0.5704 - val_accuracy: 0.7600\n",
      "Epoch 44/100\n",
      "21/21 [==============================] - 29s 1s/step - loss: 0.6032 - accuracy: 0.7718 - val_loss: 0.4749 - val_accuracy: 0.7400\n",
      "Epoch 45/100\n",
      "21/21 [==============================] - 28s 1s/step - loss: 0.3457 - accuracy: 0.8495 - val_loss: 0.7104 - val_accuracy: 0.7400\n",
      "Epoch 46/100\n",
      "21/21 [==============================] - 28s 1s/step - loss: 0.5253 - accuracy: 0.8204 - val_loss: 0.5790 - val_accuracy: 0.7600\n",
      "Epoch 47/100\n",
      "21/21 [==============================] - 28s 1s/step - loss: 0.4342 - accuracy: 0.8252 - val_loss: 0.5382 - val_accuracy: 0.7400\n",
      "Epoch 48/100\n",
      "21/21 [==============================] - 28s 1s/step - loss: 0.3369 - accuracy: 0.8495 - val_loss: 0.3315 - val_accuracy: 0.7800\n",
      "Epoch 49/100\n",
      "21/21 [==============================] - 28s 1s/step - loss: 0.4071 - accuracy: 0.8301 - val_loss: 0.3608 - val_accuracy: 0.8600\n",
      "Epoch 50/100\n",
      "21/21 [==============================] - 28s 1s/step - loss: 0.4547 - accuracy: 0.8107 - val_loss: 0.3491 - val_accuracy: 0.9000\n",
      "Epoch 51/100\n",
      "21/21 [==============================] - 29s 1s/step - loss: 0.4866 - accuracy: 0.8010 - val_loss: 0.3809 - val_accuracy: 0.8400\n",
      "Epoch 52/100\n",
      "21/21 [==============================] - 28s 1s/step - loss: 0.4209 - accuracy: 0.7816 - val_loss: 0.6062 - val_accuracy: 0.7800\n",
      "Epoch 53/100\n",
      "21/21 [==============================] - 28s 1s/step - loss: 0.5285 - accuracy: 0.8095 - val_loss: 0.3478 - val_accuracy: 0.8600\n",
      "Epoch 54/100\n",
      "21/21 [==============================] - 28s 1s/step - loss: 0.4023 - accuracy: 0.8301 - val_loss: 0.4062 - val_accuracy: 0.8000\n",
      "Epoch 55/100\n",
      "21/21 [==============================] - 28s 1s/step - loss: 0.4335 - accuracy: 0.8058 - val_loss: 0.3674 - val_accuracy: 0.8000\n",
      "Epoch 56/100\n",
      "21/21 [==============================] - 28s 1s/step - loss: 0.4113 - accuracy: 0.8058 - val_loss: 0.4474 - val_accuracy: 0.7400\n",
      "Epoch 57/100\n",
      "21/21 [==============================] - 28s 1s/step - loss: 0.3781 - accuracy: 0.8544 - val_loss: 0.4248 - val_accuracy: 0.7600\n",
      "Epoch 58/100\n",
      "21/21 [==============================] - 29s 1s/step - loss: 0.3884 - accuracy: 0.8641 - val_loss: 0.6168 - val_accuracy: 0.7200\n"
     ]
    },
    {
     "name": "stdout",
     "output_type": "stream",
     "text": [
      "Epoch 59/100\n",
      "21/21 [==============================] - 28s 1s/step - loss: 0.3122 - accuracy: 0.8398 - val_loss: 0.4289 - val_accuracy: 0.8400\n",
      "Epoch 60/100\n",
      "21/21 [==============================] - 28s 1s/step - loss: 0.4149 - accuracy: 0.8204 - val_loss: 0.3172 - val_accuracy: 0.8600\n",
      "Epoch 61/100\n",
      "21/21 [==============================] - 28s 1s/step - loss: 0.3987 - accuracy: 0.8301 - val_loss: 0.3908 - val_accuracy: 0.7600\n",
      "Epoch 62/100\n",
      "21/21 [==============================] - 28s 1s/step - loss: 0.3733 - accuracy: 0.8204 - val_loss: 0.3698 - val_accuracy: 0.8400\n",
      "Epoch 63/100\n",
      "21/21 [==============================] - 28s 1s/step - loss: 0.4872 - accuracy: 0.7961 - val_loss: 0.3237 - val_accuracy: 0.7600\n",
      "Epoch 64/100\n",
      "21/21 [==============================] - 28s 1s/step - loss: 0.4062 - accuracy: 0.8786 - val_loss: 0.4876 - val_accuracy: 0.7400\n",
      "Epoch 65/100\n",
      "21/21 [==============================] - 28s 1s/step - loss: 0.4341 - accuracy: 0.8204 - val_loss: 0.4551 - val_accuracy: 0.8000\n",
      "Epoch 66/100\n",
      "21/21 [==============================] - 28s 1s/step - loss: 0.3853 - accuracy: 0.8252 - val_loss: 0.5690 - val_accuracy: 0.7800\n",
      "Epoch 67/100\n",
      "21/21 [==============================] - 28s 1s/step - loss: 0.3429 - accuracy: 0.8495 - val_loss: 0.5196 - val_accuracy: 0.7800\n",
      "Epoch 68/100\n",
      "21/21 [==============================] - 28s 1s/step - loss: 0.4455 - accuracy: 0.8010 - val_loss: 0.4109 - val_accuracy: 0.7200\n",
      "Epoch 69/100\n",
      "21/21 [==============================] - 28s 1s/step - loss: 0.3007 - accuracy: 0.8495 - val_loss: 0.5473 - val_accuracy: 0.7600\n",
      "Epoch 70/100\n",
      "21/21 [==============================] - 28s 1s/step - loss: 0.3157 - accuracy: 0.8447 - val_loss: 0.5800 - val_accuracy: 0.7800\n",
      "Epoch 71/100\n",
      "21/21 [==============================] - 28s 1s/step - loss: 0.2894 - accuracy: 0.8689 - val_loss: 0.4477 - val_accuracy: 0.7800\n",
      "Epoch 72/100\n",
      "21/21 [==============================] - 28s 1s/step - loss: 0.3384 - accuracy: 0.8592 - val_loss: 0.5780 - val_accuracy: 0.7600\n",
      "Epoch 73/100\n",
      "21/21 [==============================] - 28s 1s/step - loss: 0.2964 - accuracy: 0.8786 - val_loss: 0.6500 - val_accuracy: 0.7000\n",
      "Epoch 74/100\n",
      "21/21 [==============================] - 28s 1s/step - loss: 0.4447 - accuracy: 0.8204 - val_loss: 0.7236 - val_accuracy: 0.6600\n",
      "Epoch 75/100\n",
      "21/21 [==============================] - 28s 1s/step - loss: 0.4559 - accuracy: 0.8107 - val_loss: 0.8574 - val_accuracy: 0.6800\n",
      "Epoch 76/100\n",
      "21/21 [==============================] - 28s 1s/step - loss: 0.3578 - accuracy: 0.8689 - val_loss: 0.9317 - val_accuracy: 0.7200\n",
      "Epoch 77/100\n",
      "21/21 [==============================] - 29s 1s/step - loss: 0.3563 - accuracy: 0.8495 - val_loss: 0.6022 - val_accuracy: 0.7200\n",
      "Epoch 78/100\n",
      "21/21 [==============================] - 28s 1s/step - loss: 0.2975 - accuracy: 0.8689 - val_loss: 0.6304 - val_accuracy: 0.7400\n",
      "Epoch 79/100\n",
      "21/21 [==============================] - 28s 1s/step - loss: 0.2963 - accuracy: 0.8786 - val_loss: 0.6847 - val_accuracy: 0.6800\n",
      "Epoch 80/100\n",
      "21/21 [==============================] - 28s 1s/step - loss: 0.3891 - accuracy: 0.8495 - val_loss: 0.4229 - val_accuracy: 0.8400\n",
      "Epoch 81/100\n",
      "21/21 [==============================] - 28s 1s/step - loss: 0.3489 - accuracy: 0.8738 - val_loss: 0.4971 - val_accuracy: 0.7200\n",
      "Epoch 82/100\n",
      "21/21 [==============================] - 28s 1s/step - loss: 0.3174 - accuracy: 0.8641 - val_loss: 0.4170 - val_accuracy: 0.7600\n",
      "Epoch 83/100\n",
      "21/21 [==============================] - 28s 1s/step - loss: 0.4369 - accuracy: 0.8689 - val_loss: 0.5841 - val_accuracy: 0.7400\n",
      "Epoch 84/100\n",
      "21/21 [==============================] - 28s 1s/step - loss: 0.3358 - accuracy: 0.8592 - val_loss: 0.6673 - val_accuracy: 0.6800\n",
      "Epoch 85/100\n",
      "21/21 [==============================] - 28s 1s/step - loss: 0.3235 - accuracy: 0.8738 - val_loss: 0.8805 - val_accuracy: 0.6800\n",
      "Epoch 86/100\n",
      "21/21 [==============================] - 28s 1s/step - loss: 0.3738 - accuracy: 0.8883 - val_loss: 0.4979 - val_accuracy: 0.7800\n",
      "Epoch 87/100\n",
      "21/21 [==============================] - 28s 1s/step - loss: 0.3105 - accuracy: 0.8495 - val_loss: 0.5524 - val_accuracy: 0.7400\n",
      "Epoch 88/100\n",
      "21/21 [==============================] - 28s 1s/step - loss: 0.2543 - accuracy: 0.8883 - val_loss: 0.4440 - val_accuracy: 0.7600\n",
      "Epoch 89/100\n",
      "21/21 [==============================] - 28s 1s/step - loss: 0.3262 - accuracy: 0.8786 - val_loss: 0.4961 - val_accuracy: 0.7800\n",
      "Epoch 90/100\n",
      "21/21 [==============================] - 28s 1s/step - loss: 0.2418 - accuracy: 0.9029 - val_loss: 0.3986 - val_accuracy: 0.8200\n",
      "Epoch 91/100\n",
      "21/21 [==============================] - 28s 1s/step - loss: 0.3858 - accuracy: 0.8544 - val_loss: 0.4778 - val_accuracy: 0.8200\n",
      "Epoch 92/100\n",
      "21/21 [==============================] - 28s 1s/step - loss: 0.2435 - accuracy: 0.9029 - val_loss: 0.4307 - val_accuracy: 0.8400\n",
      "Epoch 93/100\n",
      "21/21 [==============================] - 28s 1s/step - loss: 0.3196 - accuracy: 0.8641 - val_loss: 0.6259 - val_accuracy: 0.7600\n",
      "Epoch 94/100\n",
      "21/21 [==============================] - 28s 1s/step - loss: 0.2595 - accuracy: 0.9078 - val_loss: 0.5268 - val_accuracy: 0.7800\n",
      "Epoch 95/100\n",
      "21/21 [==============================] - 28s 1s/step - loss: 0.2563 - accuracy: 0.8883 - val_loss: 0.4145 - val_accuracy: 0.8600\n",
      "Epoch 96/100\n",
      "21/21 [==============================] - 28s 1s/step - loss: 0.3340 - accuracy: 0.8835 - val_loss: 0.4871 - val_accuracy: 0.8000\n",
      "Epoch 97/100\n",
      "21/21 [==============================] - 28s 1s/step - loss: 0.2987 - accuracy: 0.9175 - val_loss: 0.7645 - val_accuracy: 0.6800\n",
      "Epoch 98/100\n",
      "21/21 [==============================] - 29s 1s/step - loss: 0.2409 - accuracy: 0.8835 - val_loss: 0.8493 - val_accuracy: 0.7200\n",
      "Epoch 99/100\n",
      "21/21 [==============================] - 28s 1s/step - loss: 0.2687 - accuracy: 0.9029 - val_loss: 0.7261 - val_accuracy: 0.7400\n",
      "Epoch 100/100\n",
      "21/21 [==============================] - 28s 1s/step - loss: 0.3083 - accuracy: 0.8689 - val_loss: 0.6419 - val_accuracy: 0.7400\n"
     ]
    }
   ],
   "source": [
    "history = mobile_model3.fit(train_batches, epochs=100, validation_data=valid_batches, batch_size=BATCH_SIZE, \n",
    "                    steps_per_epoch=STEP_SIZE_TRAIN, validation_steps = STEP_SIZE_VALID)#, callbacks=[checkpoint3])\n",
    "#mobile_model3.load_weights(checkpoint_filepath3)"
   ]
  },
  {
   "cell_type": "code",
   "execution_count": 41,
   "metadata": {},
   "outputs": [
    {
     "data": {
      "image/png": "[encoded data removed]",
      "text/plain": [
       "<Figure size 432x288 with 1 Axes>"
      ]
     },
     "metadata": {
      "needs_background": "light"
     },
     "output_type": "display_data"
    },
    {
     "data": {
      "image/png": "[encoded data removed]",
      "text/plain": [
       "<Figure size 432x288 with 1 Axes>"
      ]
     },
     "metadata": {
      "needs_background": "light"
     },
     "output_type": "display_data"
    }
   ],
   "source": [
    "plt.title('Accuracy over 100 Epochs')\n",
    "plt.plot(history.history['accuracy'], label='Train_acc')\n",
    "plt.plot(history.history['val_accuracy'], label = 'Test_acc')\n",
    "plt.legend(loc='upper left')\n",
    "plt.grid(True)\n",
    "plt.show()\n",
    "\n",
    "plt.title('Loss over 100 Epochs')\n",
    "plt.plot(history.history['loss'], label='Train_loss')\n",
    "plt.plot(history.history['val_loss'], label = 'Test_loss')\n",
    "plt.legend(loc='upper right')\n",
    "plt.grid(True)\n",
    "plt.show()"
   ]
  },
  {
   "cell_type": "code",
   "execution_count": 42,
   "metadata": {},
   "outputs": [
    {
     "name": "stdout",
     "output_type": "stream",
     "text": [
      "Found 36 images belonging to 4 classes.\n",
      "36/36 [==============================] - 1s 40ms/step - loss: 1.6443 - accuracy: 0.6667\n",
      "Test loss: 1.6442677974700928\n",
      "Test accuracy: 0.6666666865348816\n"
     ]
    }
   ],
   "source": [
    "#vgg16.trainable = True\n",
    "test_datagen = ImageDataGenerator(rescale=1. / 255)\n",
    "\n",
    "eval_generator = test_datagen.flow_from_directory(TEST_DIR,target_size=IMAGE_SIZE,\n",
    "                                                  batch_size=1,shuffle=True,seed=42,class_mode=\"categorical\")\n",
    "eval_generator.reset()\n",
    "x = mobile_model3.evaluate_generator(eval_generator,steps = np.ceil(len(eval_generator)),\n",
    "                           use_multiprocessing = False,verbose = 1,workers=1)\n",
    "print('Test loss:' , x[0])\n",
    "print('Test accuracy:',x[1])"
   ]
  },
  {
   "cell_type": "markdown",
   "metadata": {
    "nbpresent": {
     "id": "66140980-2aa4-457f-b1df-74c10c234cc2"
    }
   },
   "source": [
    "## [10 points] TSNE Plot\n",
    "t-Distributed Stochastic Neighbor Embedding (t-SNE) is a widely used technique for dimensionality reduction that is particularly well suited for the visualization of high-dimensional datasets. After training is complete, extract features from a specific deep layer of your choice, use t-SNE to reduce the dimensionality of your extracted features to 2 dimensions and plot the resulting 2D features."
   ]
  },
  {
   "cell_type": "code",
   "execution_count": 15,
   "metadata": {},
   "outputs": [
    {
     "name": "stdout",
     "output_type": "stream",
     "text": [
      "Found 270 images belonging to 4 classes.\n",
      "{'covid': 0, 'normal': 1, 'pneumonia_bac': 2, 'pneumonia_vir': 3}\n",
      "Extracting features for 270 images.\n",
      "270/270 [==============================] - 71s 265ms/step\n",
      "Training TSNE model.\n"
     ]
    },
    {
     "data": {
      "image/png": "[encoded data removed]",
      "text/plain": [
       "<Figure size 432x288 with 1 Axes>"
      ]
     },
     "metadata": {
      "needs_background": "light"
     },
     "output_type": "display_data"
    }
   ],
   "source": [
    "from sklearn.manifold import TSNE\n",
    "\n",
    "intermediate_layer_model = models.Model(inputs=model.input,\n",
    "                                        outputs=model.get_layer('feature_dense').output)\n",
    "\n",
    "tsne_eval_generator = test_datagen.flow_from_directory(DATASET_PATH,target_size=IMAGE_SIZE,\n",
    "                                                  batch_size=1,shuffle=False,seed=42,class_mode=\"categorical\")\n",
    "\n",
    "\n",
    "#get labels from data generator\n",
    "labels_array = []\n",
    "num_labels=[]\n",
    "a = tsne_eval_generator.class_indices.keys()\n",
    "for i in range( tsne_eval_generator.__len__() ):\n",
    "    labels_array.extend(tsne_eval_generator.__getitem__( i )[1] )   #obtain the arrays of index to array\n",
    "    for j in range(len(labels_array[i])):       #obtain the index of item that is equal to 1, and append to the list \n",
    "        if labels_array[i][j] == 1.0:\n",
    "            num_labels.append(j)\n",
    "\n",
    "#feature extraction    \n",
    "tsne_eval_generator.reset()\n",
    "features = intermediate_layer_model.predict(tsne_eval_generator)\n",
    "\n",
    "#compress the dimensionality    \n",
    "tsne = TSNE(n_components=2)\n",
    "tsne_result = tsne.fit_transform(features)\n",
    "x=[i[0] for i in tsne_result]\n",
    "y=[i[1] for i in tsne_result]\n",
    "\n",
    "#plotting values\n",
    "zero_x=[]\n",
    "one_x=[]\n",
    "two_x=[]\n",
    "three_x=[]\n",
    "\n",
    "zero_y=[]\n",
    "one_y=[]\n",
    "two_y=[]\n",
    "three_y=[]\n",
    "\n",
    "for i in range(len(labels_array)):\n",
    "    if num_labels[i] == 0:\n",
    "        zero_x.append(x[i])\n",
    "        zero_y.append(y[i])\n",
    "    elif num_labels[i] == 1:\n",
    "        one_x.append(x[i])\n",
    "        one_y.append(y[i])\n",
    "    elif num_labels[i] == 2:\n",
    "        two_x.append(x[i])\n",
    "        two_y.append(y[i])\n",
    "    elif num_labels[i] == 3:\n",
    "        three_x.append(x[i])\n",
    "        three_y.append(y[i])\n",
    "        \n",
    "        \n",
    "#plotting\n",
    "plt.scatter(zero_x,zero_y, label='COVID-19', s=15)\n",
    "plt.scatter(one_x,one_y, label='Normal', s=15)\n",
    "plt.scatter(two_x,two_y, label='Pneumonia_bac', s=15)\n",
    "plt.scatter(three_x,three_y, label='Pneumonia_vir', s=15)\n",
    "plt.legend(loc='upper right')\n",
    "plt.show()"
   ]
  },
  {
   "cell_type": "markdown",
   "metadata": {},
   "source": [
    "<!-- ## Task 2: COVID-19 vs Normal vs Tertiary Pneumonia (Bacterial and Viral) -->"
   ]
  },
  {
   "cell_type": "markdown",
   "metadata": {
    "nbpresent": {
     "id": "66140980-2aa4-457f-b1df-74c10c234cc2"
    }
   },
   "source": [
    "<!-- #### Renew Training Batch and Validation Batch -->"
   ]
  },
  {
   "cell_type": "markdown",
   "metadata": {
    "nbpresent": {
     "id": "66140980-2aa4-457f-b1df-74c10c234cc2"
    }
   },
   "source": [
    "<!-- #### Renew Model -->"
   ]
  }
 ],
 "metadata": {
  "kernelspec": {
   "display_name": "Python 3",
   "language": "python",
   "name": "python3"
  },
  "language_info": {
   "codemirror_mode": {
    "name": "ipython",
    "version": 3
   },
   "file_extension": ".py",
   "mimetype": "text/x-python",
   "name": "python",
   "nbconvert_exporter": "python",
   "pygments_lexer": "ipython3",
   "version": "3.7.3"
  },
  "latex_envs": {
   "LaTeX_envs_menu_present": true,
   "autoclose": false,
   "autocomplete": true,
   "bibliofile": "biblio.bib",
   "cite_by": "apalike",
   "current_citInitial": 1,
   "eqLabelWithNumbers": true,
   "eqNumInitial": 1,
   "hotkeys": {
    "equation": "Ctrl-E",
    "itemize": "Ctrl-I"
   },
   "labels_anchors": false,
   "latex_user_defs": false,
   "report_style_numbering": false,
   "user_envs_cfg": false
  },
  "toc": {
   "base_numbering": 1,
   "nav_menu": {},
   "number_sections": true,
   "sideBar": true,
   "skip_h1_title": false,
   "title_cell": "Table of Contents",
   "title_sidebar": "Contents",
   "toc_cell": false,
   "toc_position": {},
   "toc_section_display": true,
   "toc_window_display": false
  },
  "varInspector": {
   "cols": {
    "lenName": 16,
    "lenType": 16,
    "lenVar": 40
   },
   "kernels_config": {
    "python": {
     "delete_cmd_postfix": "",
     "delete_cmd_prefix": "del ",
     "library": "var_list.py",
     "varRefreshCmd": "print(var_dic_list())"
    },
    "r": {
     "delete_cmd_postfix": ") ",
     "delete_cmd_prefix": "rm(",
     "library": "var_list.r",
     "varRefreshCmd": "cat(var_dic_list()) "
    }
   },
   "types_to_exclude": [
    "module",
    "function",
    "builtin_function_or_method",
    "instance",
    "_Feature"
   ],
   "window_display": false
  }
 },
 "nbformat": 4,
 "nbformat_minor": 4
}
