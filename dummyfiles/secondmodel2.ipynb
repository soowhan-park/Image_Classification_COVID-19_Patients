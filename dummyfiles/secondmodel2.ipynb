{
 "cells": [
  {
   "cell_type": "code",
   "execution_count": 1,
   "metadata": {
    "colab": {
     "base_uri": "https://localhost:8080/"
    },
    "id": "IPprn5p4SIUK",
    "outputId": "56e6c705-c9ac-41c9-91b4-30538d3a3b66"
   },
   "outputs": [
    {
     "name": "stdout",
     "output_type": "stream",
     "text": [
      "Mounted at /content/drive\n"
     ]
    }
   ],
   "source": [
    "from google.colab import drive\n",
    "\n",
    "drive.mount('/content/drive')"
   ]
  },
  {
   "cell_type": "code",
   "execution_count": 2,
   "metadata": {
    "colab": {
     "base_uri": "https://localhost:8080/"
    },
    "id": "EwItcPBym6xc",
    "outputId": "0a2592a5-bb51-41f8-b15f-848243e04f33"
   },
   "outputs": [
    {
     "name": "stdout",
     "output_type": "stream",
     "text": [
      "Found GPU at: /device:GPU:0\n"
     ]
    }
   ],
   "source": [
    "%tensorflow_version 2.x\n",
    "import tensorflow as tf\n",
    "device_name = tf.test.gpu_device_name()\n",
    "if device_name != '/device:GPU:0':\n",
    "  raise SystemError('GPU device not found')\n",
    "print('Found GPU at: {}'.format(device_name))"
   ]
  },
  {
   "cell_type": "code",
   "execution_count": 3,
   "metadata": {
    "colab": {
     "base_uri": "https://localhost:8080/",
     "height": 35
    },
    "id": "_14kSYeVSaD2",
    "outputId": "89ca244d-b2f3-4dd5-fe4a-2d19c408717e"
   },
   "outputs": [
    {
     "data": {
      "application/vnd.google.colaboratory.intrinsic+json": {
       "type": "string"
      },
      "text/plain": [
       "'2.4.1'"
      ]
     },
     "execution_count": 3,
     "metadata": {
      "tags": []
     },
     "output_type": "execute_result"
    }
   ],
   "source": [
    "%tensorflow_version 2.x\n",
    "import os\n",
    "import numpy as np\n",
    "import matplotlib.pyplot as plt\n",
    "from tensorflow.keras.preprocessing.image import ImageDataGenerator\n",
    "\n",
    "os.environ['OMP_NUM_THREADS'] = '1'\n",
    "os.environ['CUDA_VISIBLE_DEVICES'] = '-1'\n",
    "tf.__version__\n",
    "\n"
   ]
  },
  {
   "cell_type": "code",
   "execution_count": 10,
   "metadata": {
    "id": "NR0AbuhqYtDp"
   },
   "outputs": [],
   "source": [
    "DATA_LIST = os.listdir('/content/drive/MyDrive/all/train')\n",
    "DATASET_PATH  = '/content/drive/MyDrive/all/train'\n",
    "TEST_DIR =  '/content/drive/MyDrive/all/test'\n",
    "IMAGE_SIZE    = (224, 224)\n",
    "NUM_CLASSES   = len(DATA_LIST)\n",
    "BATCH_SIZE    = 10  # try reducing batch size or freeze more layers if your GPU runs out of memory\n",
    "NUM_EPOCHS    = 100\n",
    "LEARNING_RATE = 0.0001 # start off with high rate first 0.001 and experiment with reducing it gradually "
   ]
  },
  {
   "cell_type": "code",
   "execution_count": 11,
   "metadata": {
    "colab": {
     "base_uri": "https://localhost:8080/"
    },
    "id": "8E5E5WomaSsM",
    "outputId": "930b5cea-2b5c-4d03-bbc7-d7312a211cf0"
   },
   "outputs": [
    {
     "name": "stderr",
     "output_type": "stream",
     "text": [
      "/usr/local/lib/python3.7/dist-packages/keras_preprocessing/image/image_data_generator.py:342: UserWarning: This ImageDataGenerator specifies `zca_whitening` which overrides setting of`featurewise_std_normalization`.\n",
      "  warnings.warn('This ImageDataGenerator specifies '\n"
     ]
    },
    {
     "name": "stdout",
     "output_type": "stream",
     "text": [
      "Found 216 images belonging to 4 classes.\n",
      "Found 54 images belonging to 4 classes.\n"
     ]
    }
   ],
   "source": [
    "train_datagen = ImageDataGenerator(rescale=1./255,rotation_range=50,featurewise_center = True,\n",
    "                                   featurewise_std_normalization = True,width_shift_range=0.2,\n",
    "                                   height_shift_range=0.2,shear_range=0.25,zoom_range=0.1,\n",
    "                                   zca_whitening = True,channel_shift_range = 20,\n",
    "                                   horizontal_flip = True,vertical_flip = True,\n",
    "                                   validation_split = 0.2,fill_mode='constant')\n",
    "\n",
    "\n",
    "train_batches = train_datagen.flow_from_directory(DATASET_PATH,target_size=IMAGE_SIZE,\n",
    "                                                  shuffle=True,batch_size=BATCH_SIZE,\n",
    "                                                  subset = \"training\",seed=42,\n",
    "                                                  class_mode=\"categorical\")\n",
    "\n",
    "valid_batches = train_datagen.flow_from_directory(DATASET_PATH,target_size=IMAGE_SIZE,\n",
    "                                                  shuffle=True,batch_size=BATCH_SIZE,\n",
    "                                                  subset = \"validation\",\n",
    "                                                  seed=42,class_mode=\"categorical\")"
   ]
  },
  {
   "cell_type": "code",
   "execution_count": 12,
   "metadata": {
    "colab": {
     "base_uri": "https://localhost:8080/"
    },
    "id": "ZXuVSD9daW9I",
    "outputId": "54c1cd53-193e-4046-83cb-7dd63c62b0b8"
   },
   "outputs": [
    {
     "name": "stdout",
     "output_type": "stream",
     "text": [
      "Model: \"sequential_1\"\n",
      "_________________________________________________________________\n",
      "Layer (type)                 Output Shape              Param #   \n",
      "=================================================================\n",
      "mobilenet_1.00_224 (Function (None, 7, 7, 1024)        3228864   \n",
      "_________________________________________________________________\n",
      "flatten_1 (Flatten)          (None, 50176)             0         \n",
      "_________________________________________________________________\n",
      "feature_dense (Dense)        (None, 256)               12845312  \n",
      "_________________________________________________________________\n",
      "dropout_1 (Dropout)          (None, 256)               0         \n",
      "_________________________________________________________________\n",
      "dense_1 (Dense)              (None, 4)                 1028      \n",
      "=================================================================\n",
      "Total params: 16,075,204\n",
      "Trainable params: 16,053,316\n",
      "Non-trainable params: 21,888\n",
      "_________________________________________________________________\n"
     ]
    }
   ],
   "source": [
    "#vgg16 = tf.keras.applications.VGG16(weights='imagenet', include_top=False, input_shape = (224,224,3))\n",
    "#vgg19 = tf.keras.applications.VGG19(weights='imagenet', include_top=False, input_shape = (224,224,3))\n",
    "mobile = tf.keras.applications.MobileNet(weights='imagenet', include_top=False, input_shape = (224,224,3))\n",
    "model2 = tf.keras.models.Sequential([\n",
    "    mobile,\n",
    "    tf.keras.layers.Flatten(),\n",
    "    tf.keras.layers.Dense(256,activation='relu',name='feature_dense'),\n",
    "    tf.keras.layers.Dropout(0.5),\n",
    "    tf.keras.layers.Dense(4,activation='softmax')\n",
    "])\n",
    "model2.summary()"
   ]
  },
  {
   "cell_type": "code",
   "execution_count": 13,
   "metadata": {
    "colab": {
     "base_uri": "https://localhost:8080/"
    },
    "id": "skofcQrVaY2v",
    "outputId": "c40ae344-4c78-408c-ed38-3d5eba2c9a7b"
   },
   "outputs": [
    {
     "name": "stdout",
     "output_type": "stream",
     "text": [
      "22\n",
      "6\n"
     ]
    },
    {
     "name": "stderr",
     "output_type": "stream",
     "text": [
      "/usr/local/lib/python3.7/dist-packages/keras_preprocessing/image/image_data_generator.py:720: UserWarning: This ImageDataGenerator specifies `featurewise_center`, but it hasn't been fit on any training data. Fit it first by calling `.fit(numpy_data)`.\n",
      "  warnings.warn('This ImageDataGenerator specifies '\n",
      "/usr/local/lib/python3.7/dist-packages/keras_preprocessing/image/image_data_generator.py:739: UserWarning: This ImageDataGenerator specifies `zca_whitening`, but it hasn't been fit on any training data. Fit it first by calling `.fit(numpy_data)`.\n",
      "  warnings.warn('This ImageDataGenerator specifies '\n"
     ]
    },
    {
     "name": "stdout",
     "output_type": "stream",
     "text": [
      "Epoch 1/100\n",
      "21/21 [==============================] - 10s 373ms/step - loss: 4.1650 - accuracy: 0.3012 - val_loss: 1.7537 - val_accuracy: 0.3600\n",
      "Epoch 2/100\n",
      "21/21 [==============================] - 7s 327ms/step - loss: 2.1629 - accuracy: 0.5565 - val_loss: 1.7128 - val_accuracy: 0.3600\n",
      "Epoch 3/100\n",
      "21/21 [==============================] - 7s 337ms/step - loss: 1.3950 - accuracy: 0.4840 - val_loss: 2.1290 - val_accuracy: 0.3000\n",
      "Epoch 4/100\n",
      "21/21 [==============================] - 7s 344ms/step - loss: 0.9867 - accuracy: 0.6173 - val_loss: 1.1998 - val_accuracy: 0.5000\n",
      "Epoch 5/100\n",
      "21/21 [==============================] - 7s 339ms/step - loss: 0.8455 - accuracy: 0.6714 - val_loss: 1.8020 - val_accuracy: 0.3800\n",
      "Epoch 6/100\n",
      "21/21 [==============================] - 7s 337ms/step - loss: 0.9719 - accuracy: 0.6522 - val_loss: 1.1944 - val_accuracy: 0.5200\n",
      "Epoch 7/100\n",
      "21/21 [==============================] - 7s 335ms/step - loss: 0.9364 - accuracy: 0.6117 - val_loss: 1.1764 - val_accuracy: 0.5400\n",
      "Epoch 8/100\n",
      "21/21 [==============================] - 7s 337ms/step - loss: 0.8099 - accuracy: 0.6486 - val_loss: 1.5277 - val_accuracy: 0.4200\n",
      "Epoch 9/100\n",
      "21/21 [==============================] - 7s 332ms/step - loss: 0.7273 - accuracy: 0.6974 - val_loss: 1.3338 - val_accuracy: 0.5200\n",
      "Epoch 10/100\n",
      "21/21 [==============================] - 7s 337ms/step - loss: 0.6963 - accuracy: 0.7219 - val_loss: 1.3602 - val_accuracy: 0.4200\n",
      "Epoch 11/100\n",
      "21/21 [==============================] - 7s 332ms/step - loss: 0.7969 - accuracy: 0.6468 - val_loss: 1.4569 - val_accuracy: 0.5000\n",
      "Epoch 12/100\n",
      "21/21 [==============================] - 7s 331ms/step - loss: 0.7056 - accuracy: 0.6969 - val_loss: 0.9741 - val_accuracy: 0.5200\n",
      "Epoch 13/100\n",
      "21/21 [==============================] - 7s 336ms/step - loss: 0.6866 - accuracy: 0.7075 - val_loss: 1.0687 - val_accuracy: 0.5200\n",
      "Epoch 14/100\n",
      "21/21 [==============================] - 7s 338ms/step - loss: 0.7184 - accuracy: 0.6868 - val_loss: 1.0473 - val_accuracy: 0.4800\n",
      "Epoch 15/100\n",
      "21/21 [==============================] - 7s 337ms/step - loss: 0.5438 - accuracy: 0.7867 - val_loss: 1.3262 - val_accuracy: 0.4600\n",
      "Epoch 16/100\n",
      "21/21 [==============================] - 7s 332ms/step - loss: 0.5515 - accuracy: 0.7556 - val_loss: 0.7306 - val_accuracy: 0.6800\n",
      "Epoch 17/100\n",
      "21/21 [==============================] - 7s 341ms/step - loss: 0.6269 - accuracy: 0.7124 - val_loss: 0.5408 - val_accuracy: 0.7600\n",
      "Epoch 18/100\n",
      "21/21 [==============================] - 7s 347ms/step - loss: 0.5829 - accuracy: 0.7567 - val_loss: 0.8080 - val_accuracy: 0.6200\n",
      "Epoch 19/100\n",
      "21/21 [==============================] - 7s 332ms/step - loss: 0.5405 - accuracy: 0.7651 - val_loss: 0.4075 - val_accuracy: 0.8400\n",
      "Epoch 20/100\n",
      "21/21 [==============================] - 7s 333ms/step - loss: 0.5628 - accuracy: 0.6873 - val_loss: 0.6093 - val_accuracy: 0.7000\n",
      "Epoch 21/100\n",
      "21/21 [==============================] - 7s 339ms/step - loss: 0.7637 - accuracy: 0.6409 - val_loss: 0.6634 - val_accuracy: 0.7600\n",
      "Epoch 22/100\n",
      "21/21 [==============================] - 7s 340ms/step - loss: 0.6648 - accuracy: 0.7259 - val_loss: 0.6129 - val_accuracy: 0.6800\n",
      "Epoch 23/100\n",
      "21/21 [==============================] - 7s 340ms/step - loss: 0.6610 - accuracy: 0.7085 - val_loss: 0.5282 - val_accuracy: 0.7200\n",
      "Epoch 24/100\n",
      "21/21 [==============================] - 7s 338ms/step - loss: 0.5675 - accuracy: 0.7371 - val_loss: 0.4642 - val_accuracy: 0.7800\n",
      "Epoch 25/100\n",
      "21/21 [==============================] - 7s 338ms/step - loss: 0.6264 - accuracy: 0.7550 - val_loss: 0.5975 - val_accuracy: 0.7400\n",
      "Epoch 26/100\n",
      "21/21 [==============================] - 7s 331ms/step - loss: 0.6412 - accuracy: 0.7238 - val_loss: 0.4768 - val_accuracy: 0.7600\n",
      "Epoch 27/100\n",
      "21/21 [==============================] - 7s 336ms/step - loss: 0.5261 - accuracy: 0.7800 - val_loss: 0.4833 - val_accuracy: 0.7600\n",
      "Epoch 28/100\n",
      "21/21 [==============================] - 7s 328ms/step - loss: 0.5218 - accuracy: 0.7607 - val_loss: 0.7963 - val_accuracy: 0.6800\n",
      "Epoch 29/100\n",
      "21/21 [==============================] - 7s 337ms/step - loss: 0.5670 - accuracy: 0.7539 - val_loss: 0.5495 - val_accuracy: 0.7000\n",
      "Epoch 30/100\n",
      "21/21 [==============================] - 7s 338ms/step - loss: 0.5653 - accuracy: 0.7876 - val_loss: 0.5446 - val_accuracy: 0.7400\n",
      "Epoch 31/100\n",
      "21/21 [==============================] - 7s 337ms/step - loss: 0.4238 - accuracy: 0.8160 - val_loss: 0.5133 - val_accuracy: 0.7800\n",
      "Epoch 32/100\n",
      "21/21 [==============================] - 7s 325ms/step - loss: 0.4915 - accuracy: 0.7714 - val_loss: 0.5556 - val_accuracy: 0.7400\n",
      "Epoch 33/100\n",
      "21/21 [==============================] - 7s 327ms/step - loss: 0.5607 - accuracy: 0.7907 - val_loss: 0.5618 - val_accuracy: 0.7600\n",
      "Epoch 34/100\n",
      "21/21 [==============================] - 7s 336ms/step - loss: 0.6108 - accuracy: 0.7274 - val_loss: 0.6787 - val_accuracy: 0.6000\n",
      "Epoch 35/100\n",
      "21/21 [==============================] - 7s 337ms/step - loss: 0.4434 - accuracy: 0.8147 - val_loss: 0.5420 - val_accuracy: 0.6800\n",
      "Epoch 36/100\n",
      "21/21 [==============================] - 7s 337ms/step - loss: 0.4277 - accuracy: 0.8121 - val_loss: 0.4893 - val_accuracy: 0.7800\n",
      "Epoch 37/100\n",
      "21/21 [==============================] - 7s 334ms/step - loss: 0.4333 - accuracy: 0.7972 - val_loss: 0.5527 - val_accuracy: 0.7600\n",
      "Epoch 38/100\n",
      "21/21 [==============================] - 7s 336ms/step - loss: 0.5484 - accuracy: 0.8022 - val_loss: 0.6756 - val_accuracy: 0.7200\n",
      "Epoch 39/100\n",
      "21/21 [==============================] - 7s 332ms/step - loss: 0.3760 - accuracy: 0.8703 - val_loss: 0.4920 - val_accuracy: 0.7400\n",
      "Epoch 40/100\n",
      "21/21 [==============================] - 7s 333ms/step - loss: 0.4237 - accuracy: 0.8617 - val_loss: 0.4462 - val_accuracy: 0.8000\n",
      "Epoch 41/100\n",
      "21/21 [==============================] - 7s 337ms/step - loss: 0.4163 - accuracy: 0.8031 - val_loss: 0.3455 - val_accuracy: 0.8200\n",
      "Epoch 42/100\n",
      "21/21 [==============================] - 7s 338ms/step - loss: 0.5246 - accuracy: 0.7933 - val_loss: 0.5574 - val_accuracy: 0.7800\n",
      "Epoch 43/100\n",
      "21/21 [==============================] - 7s 331ms/step - loss: 0.3992 - accuracy: 0.8443 - val_loss: 0.6041 - val_accuracy: 0.7800\n",
      "Epoch 44/100\n",
      "21/21 [==============================] - 7s 339ms/step - loss: 0.3718 - accuracy: 0.8305 - val_loss: 0.4551 - val_accuracy: 0.8000\n",
      "Epoch 45/100\n",
      "21/21 [==============================] - 7s 337ms/step - loss: 0.3643 - accuracy: 0.8126 - val_loss: 0.4189 - val_accuracy: 0.7800\n",
      "Epoch 46/100\n",
      "21/21 [==============================] - 7s 335ms/step - loss: 0.4843 - accuracy: 0.7662 - val_loss: 0.4406 - val_accuracy: 0.7400\n",
      "Epoch 47/100\n",
      "21/21 [==============================] - 7s 340ms/step - loss: 0.3736 - accuracy: 0.8430 - val_loss: 0.3427 - val_accuracy: 0.8200\n",
      "Epoch 48/100\n",
      "21/21 [==============================] - 7s 338ms/step - loss: 0.5047 - accuracy: 0.8417 - val_loss: 0.5182 - val_accuracy: 0.7600\n",
      "Epoch 49/100\n",
      "21/21 [==============================] - 7s 338ms/step - loss: 0.4760 - accuracy: 0.7988 - val_loss: 0.5185 - val_accuracy: 0.7600\n",
      "Epoch 50/100\n",
      "21/21 [==============================] - 7s 335ms/step - loss: 0.4881 - accuracy: 0.8077 - val_loss: 0.3171 - val_accuracy: 0.8400\n",
      "Epoch 51/100\n",
      "21/21 [==============================] - 7s 343ms/step - loss: 0.3556 - accuracy: 0.8563 - val_loss: 0.5997 - val_accuracy: 0.7000\n",
      "Epoch 52/100\n",
      "21/21 [==============================] - 7s 334ms/step - loss: 0.3345 - accuracy: 0.8632 - val_loss: 0.6036 - val_accuracy: 0.8000\n",
      "Epoch 53/100\n",
      "21/21 [==============================] - 7s 329ms/step - loss: 0.2980 - accuracy: 0.8829 - val_loss: 0.5445 - val_accuracy: 0.7200\n",
      "Epoch 54/100\n",
      "21/21 [==============================] - 7s 337ms/step - loss: 0.3780 - accuracy: 0.8603 - val_loss: 0.3582 - val_accuracy: 0.8800\n",
      "Epoch 55/100\n",
      "21/21 [==============================] - 7s 335ms/step - loss: 0.4139 - accuracy: 0.8303 - val_loss: 0.5367 - val_accuracy: 0.7600\n",
      "Epoch 56/100\n",
      "21/21 [==============================] - 7s 342ms/step - loss: 0.4245 - accuracy: 0.8112 - val_loss: 0.3929 - val_accuracy: 0.7600\n",
      "Epoch 57/100\n",
      "21/21 [==============================] - 7s 341ms/step - loss: 0.3672 - accuracy: 0.8400 - val_loss: 0.5731 - val_accuracy: 0.7200\n",
      "Epoch 58/100\n",
      "21/21 [==============================] - 7s 335ms/step - loss: 0.3878 - accuracy: 0.8204 - val_loss: 0.5347 - val_accuracy: 0.7600\n",
      "Epoch 59/100\n",
      "21/21 [==============================] - 7s 336ms/step - loss: 0.3815 - accuracy: 0.8349 - val_loss: 0.5964 - val_accuracy: 0.7400\n",
      "Epoch 60/100\n",
      "21/21 [==============================] - 7s 337ms/step - loss: 0.2420 - accuracy: 0.9148 - val_loss: 0.8764 - val_accuracy: 0.6800\n",
      "Epoch 61/100\n",
      "21/21 [==============================] - 7s 326ms/step - loss: 0.4808 - accuracy: 0.8328 - val_loss: 0.8502 - val_accuracy: 0.6600\n",
      "Epoch 62/100\n",
      "21/21 [==============================] - 7s 339ms/step - loss: 0.6642 - accuracy: 0.7769 - val_loss: 0.5410 - val_accuracy: 0.7600\n",
      "Epoch 63/100\n",
      "21/21 [==============================] - 7s 340ms/step - loss: 0.3052 - accuracy: 0.8594 - val_loss: 0.5627 - val_accuracy: 0.7400\n",
      "Epoch 64/100\n",
      "21/21 [==============================] - 7s 330ms/step - loss: 0.4025 - accuracy: 0.8347 - val_loss: 0.4509 - val_accuracy: 0.7800\n",
      "Epoch 65/100\n",
      "21/21 [==============================] - 7s 338ms/step - loss: 0.4759 - accuracy: 0.8215 - val_loss: 0.4736 - val_accuracy: 0.8000\n",
      "Epoch 66/100\n",
      "21/21 [==============================] - 7s 336ms/step - loss: 0.3620 - accuracy: 0.8492 - val_loss: 0.5133 - val_accuracy: 0.7400\n",
      "Epoch 67/100\n",
      "21/21 [==============================] - 7s 336ms/step - loss: 0.3298 - accuracy: 0.8994 - val_loss: 0.4940 - val_accuracy: 0.8200\n",
      "Epoch 68/100\n",
      "21/21 [==============================] - 7s 333ms/step - loss: 0.4081 - accuracy: 0.8173 - val_loss: 0.7940 - val_accuracy: 0.7000\n",
      "Epoch 69/100\n",
      "21/21 [==============================] - 7s 342ms/step - loss: 0.3480 - accuracy: 0.8716 - val_loss: 0.3492 - val_accuracy: 0.8800\n",
      "Epoch 70/100\n",
      "21/21 [==============================] - 7s 338ms/step - loss: 0.2878 - accuracy: 0.9103 - val_loss: 0.4510 - val_accuracy: 0.8200\n",
      "Epoch 71/100\n",
      "21/21 [==============================] - 7s 340ms/step - loss: 0.3411 - accuracy: 0.8675 - val_loss: 0.4501 - val_accuracy: 0.8200\n",
      "Epoch 72/100\n",
      "21/21 [==============================] - 7s 337ms/step - loss: 0.3850 - accuracy: 0.8221 - val_loss: 0.7005 - val_accuracy: 0.7000\n",
      "Epoch 73/100\n",
      "21/21 [==============================] - 7s 345ms/step - loss: 0.4186 - accuracy: 0.8275 - val_loss: 0.4808 - val_accuracy: 0.8400\n",
      "Epoch 74/100\n",
      "21/21 [==============================] - 7s 335ms/step - loss: 0.4134 - accuracy: 0.8150 - val_loss: 0.6079 - val_accuracy: 0.7200\n",
      "Epoch 75/100\n",
      "21/21 [==============================] - 7s 337ms/step - loss: 0.3896 - accuracy: 0.8854 - val_loss: 0.5050 - val_accuracy: 0.8200\n",
      "Epoch 76/100\n",
      "21/21 [==============================] - 7s 334ms/step - loss: 0.2523 - accuracy: 0.8938 - val_loss: 0.5263 - val_accuracy: 0.8200\n",
      "Epoch 77/100\n",
      "21/21 [==============================] - 7s 335ms/step - loss: 0.2671 - accuracy: 0.8890 - val_loss: 0.3211 - val_accuracy: 0.7800\n",
      "Epoch 78/100\n",
      "21/21 [==============================] - 7s 332ms/step - loss: 0.3147 - accuracy: 0.8706 - val_loss: 0.4008 - val_accuracy: 0.7800\n",
      "Epoch 79/100\n",
      "21/21 [==============================] - 7s 340ms/step - loss: 0.2791 - accuracy: 0.9019 - val_loss: 0.4071 - val_accuracy: 0.8200\n",
      "Epoch 80/100\n",
      "21/21 [==============================] - 7s 343ms/step - loss: 0.2700 - accuracy: 0.8886 - val_loss: 0.6188 - val_accuracy: 0.7600\n",
      "Epoch 81/100\n",
      "21/21 [==============================] - 7s 342ms/step - loss: 0.3391 - accuracy: 0.8988 - val_loss: 0.6265 - val_accuracy: 0.7000\n",
      "Epoch 82/100\n",
      "21/21 [==============================] - 7s 338ms/step - loss: 0.3211 - accuracy: 0.9177 - val_loss: 0.4915 - val_accuracy: 0.7400\n",
      "Epoch 83/100\n",
      "21/21 [==============================] - 7s 333ms/step - loss: 0.3154 - accuracy: 0.8698 - val_loss: 0.3497 - val_accuracy: 0.8000\n",
      "Epoch 84/100\n",
      "21/21 [==============================] - 7s 338ms/step - loss: 0.1785 - accuracy: 0.9200 - val_loss: 0.6352 - val_accuracy: 0.6800\n",
      "Epoch 85/100\n",
      "21/21 [==============================] - 7s 337ms/step - loss: 0.2882 - accuracy: 0.8810 - val_loss: 0.4365 - val_accuracy: 0.7600\n",
      "Epoch 86/100\n",
      "21/21 [==============================] - 7s 338ms/step - loss: 0.2271 - accuracy: 0.9310 - val_loss: 0.3602 - val_accuracy: 0.7800\n",
      "Epoch 87/100\n",
      "21/21 [==============================] - 7s 332ms/step - loss: 0.3009 - accuracy: 0.8986 - val_loss: 0.3552 - val_accuracy: 0.8400\n",
      "Epoch 88/100\n",
      "21/21 [==============================] - 7s 335ms/step - loss: 0.3436 - accuracy: 0.8745 - val_loss: 0.5909 - val_accuracy: 0.7200\n",
      "Epoch 89/100\n",
      "21/21 [==============================] - 7s 337ms/step - loss: 0.2624 - accuracy: 0.8719 - val_loss: 0.5581 - val_accuracy: 0.7400\n",
      "Epoch 90/100\n",
      "21/21 [==============================] - 7s 334ms/step - loss: 0.3329 - accuracy: 0.8607 - val_loss: 0.3135 - val_accuracy: 0.8600\n",
      "Epoch 91/100\n",
      "21/21 [==============================] - 7s 341ms/step - loss: 0.2900 - accuracy: 0.8806 - val_loss: 0.3811 - val_accuracy: 0.8600\n",
      "Epoch 92/100\n",
      "21/21 [==============================] - 7s 333ms/step - loss: 0.3027 - accuracy: 0.8821 - val_loss: 0.4533 - val_accuracy: 0.7600\n",
      "Epoch 93/100\n",
      "21/21 [==============================] - 7s 339ms/step - loss: 0.2999 - accuracy: 0.8618 - val_loss: 0.4968 - val_accuracy: 0.8000\n",
      "Epoch 94/100\n",
      "21/21 [==============================] - 7s 340ms/step - loss: 0.3344 - accuracy: 0.8600 - val_loss: 0.4358 - val_accuracy: 0.7600\n",
      "Epoch 95/100\n",
      "21/21 [==============================] - 7s 337ms/step - loss: 0.2270 - accuracy: 0.9304 - val_loss: 0.4031 - val_accuracy: 0.7600\n",
      "Epoch 96/100\n",
      "21/21 [==============================] - 7s 336ms/step - loss: 0.1965 - accuracy: 0.9320 - val_loss: 0.4152 - val_accuracy: 0.8200\n",
      "Epoch 97/100\n",
      "21/21 [==============================] - 7s 340ms/step - loss: 0.1443 - accuracy: 0.9194 - val_loss: 0.5126 - val_accuracy: 0.8600\n",
      "Epoch 98/100\n",
      "21/21 [==============================] - 7s 335ms/step - loss: 0.1647 - accuracy: 0.9390 - val_loss: 0.5352 - val_accuracy: 0.8000\n",
      "Epoch 99/100\n",
      "21/21 [==============================] - 7s 336ms/step - loss: 0.2348 - accuracy: 0.9140 - val_loss: 0.7942 - val_accuracy: 0.7600\n",
      "Epoch 100/100\n",
      "21/21 [==============================] - 7s 339ms/step - loss: 0.2478 - accuracy: 0.9109 - val_loss: 0.6051 - val_accuracy: 0.7400\n"
     ]
    }
   ],
   "source": [
    "#FIT MODEL\n",
    "print(len(train_batches))\n",
    "print(len(valid_batches))\n",
    "\n",
    "STEP_SIZE_TRAIN=train_batches.n//train_batches.batch_size\n",
    "STEP_SIZE_VALID=valid_batches.n//valid_batches.batch_size\n",
    "\n",
    "opt = tf.keras.optimizers.Adam(learning_rate=0.0001)\n",
    "model2.compile(optimizer=opt,\n",
    "                loss=tf.keras.losses.CategoricalCrossentropy(from_logits=False),\n",
    "                metrics=['accuracy'])\n",
    "history = model2.fit(train_batches, epochs=100, validation_data=valid_batches,batch_size=BATCH_SIZE, \n",
    "                    steps_per_epoch=STEP_SIZE_TRAIN, validation_steps = STEP_SIZE_VALID)"
   ]
  },
  {
   "cell_type": "code",
   "execution_count": 14,
   "metadata": {
    "colab": {
     "base_uri": "https://localhost:8080/",
     "height": 545
    },
    "id": "wSclPjNadXMB",
    "outputId": "de378d10-f9c8-44f2-be5c-0ea3ac07bc9b"
   },
   "outputs": [
    {
     "data": {
      "image/png": "[encoded data removed]",
      "text/plain": [
       "<Figure size 432x288 with 1 Axes>"
      ]
     },
     "metadata": {
      "needs_background": "light",
      "tags": []
     },
     "output_type": "display_data"
    },
    {
     "data": {
      "image/png": "[encoded data removed]",
      "text/plain": [
       "<Figure size 432x288 with 1 Axes>"
      ]
     },
     "metadata": {
      "needs_background": "light",
      "tags": []
     },
     "output_type": "display_data"
    }
   ],
   "source": [
    "import matplotlib.pyplot as plt\n",
    "\n",
    "plt.title('Accuracy over 100 Epochs')\n",
    "plt.plot(history.history['accuracy'], label='Train_acc')\n",
    "plt.plot(history.history['val_accuracy'], label = 'Test_acc')\n",
    "plt.legend(loc='upper left')\n",
    "plt.grid(True)\n",
    "plt.show()\n",
    "\n",
    "plt.title('Loss over 100 Epochs')\n",
    "plt.plot(history.history['loss'], label='Train_loss')\n",
    "plt.plot(history.history['val_loss'], label = 'Test_loss')\n",
    "plt.legend(loc='upper right')\n",
    "plt.grid(True)\n",
    "plt.show()"
   ]
  },
  {
   "cell_type": "code",
   "execution_count": 15,
   "metadata": {
    "colab": {
     "base_uri": "https://localhost:8080/"
    },
    "id": "gD3A8qQpdamd",
    "outputId": "ad279da7-3f70-4432-cc79-23a93fce5580"
   },
   "outputs": [
    {
     "name": "stdout",
     "output_type": "stream",
     "text": [
      "Found 36 images belonging to 4 classes.\n",
      "36\n",
      " 8/36 [=====>........................] - ETA: 0s - loss: 0.9939 - accuracy: 0.6250"
     ]
    },
    {
     "name": "stderr",
     "output_type": "stream",
     "text": [
      "/usr/local/lib/python3.7/dist-packages/tensorflow/python/keras/engine/training.py:1877: UserWarning: `Model.evaluate_generator` is deprecated and will be removed in a future version. Please use `Model.evaluate`, which supports generators.\n",
      "  warnings.warn('`Model.evaluate_generator` is deprecated and '\n"
     ]
    },
    {
     "name": "stdout",
     "output_type": "stream",
     "text": [
      "36/36 [==============================] - 1s 22ms/step - loss: 0.7584 - accuracy: 0.7222\n",
      "Test loss: 0.75844407081604\n",
      "Test accuracy: 0.7222222089767456\n"
     ]
    }
   ],
   "source": [
    "#vgg16.trainable = True\n",
    "test_datagen = ImageDataGenerator(rescale=1. / 255)\n",
    "\n",
    "eval_generator = test_datagen.flow_from_directory(TEST_DIR,target_size=IMAGE_SIZE,\n",
    "                                                  batch_size=1,shuffle=True,seed=42,class_mode=\"categorical\")\n",
    "eval_generator.reset()\n",
    "print(len(eval_generator))\n",
    "x = model2.evaluate_generator(eval_generator,steps = np.ceil(len(eval_generator)),\n",
    "                           use_multiprocessing = False,verbose = 1,workers=1)\n",
    "print('Test loss:' , x[0])\n",
    "print('Test accuracy:',x[1])"
   ]
  },
  {
   "cell_type": "code",
   "execution_count": 17,
   "metadata": {
    "colab": {
     "base_uri": "https://localhost:8080/",
     "height": 282
    },
    "id": "DGKCj8rm_t9P",
    "outputId": "f4b10401-a8a1-4229-957e-0664a2022fff"
   },
   "outputs": [
    {
     "name": "stdout",
     "output_type": "stream",
     "text": [
      "Found 270 images belonging to 4 classes.\n"
     ]
    },
    {
     "data": {
      "image/png": "[encoded data removed]",
      "text/plain": [
       "<Figure size 432x288 with 1 Axes>"
      ]
     },
     "metadata": {
      "needs_background": "light",
      "tags": []
     },
     "output_type": "display_data"
    }
   ],
   "source": [
    "from sklearn.manifold import TSNE\n",
    "\n",
    "intermediate_layer_model = tf.keras.models.Model(inputs=model2.input,\n",
    "                                        outputs=model2.get_layer('feature_dense').output)\n",
    "\n",
    "tsne_eval_generator = test_datagen.flow_from_directory(DATASET_PATH,target_size=IMAGE_SIZE,\n",
    "                                                  batch_size=1,shuffle=True,seed=42,class_mode=\"categorical\")\n",
    "\n",
    "\n",
    "#get labels from data generator\n",
    "labels_array = []\n",
    "num_labels=[]\n",
    "a = tsne_eval_generator.class_indices.keys()\n",
    "for i in range( tsne_eval_generator.__len__() ):\n",
    "    labels_array.extend(tsne_eval_generator.__getitem__( i )[1] )   #obtain the arrays of index to array\n",
    "    for j in range(len(labels_array[i])):       #obtain the index of item that is equal to 1, and append to the list \n",
    "        if labels_array[i][j] == 1.0:\n",
    "            num_labels.append(j)\n",
    "\n",
    "#feature extraction    \n",
    "tsne_eval_generator.reset()\n",
    "features = intermediate_layer_model.predict(tsne_eval_generator)\n",
    "\n",
    "#compress the dimensionality    \n",
    "tsne = TSNE(n_components=2)\n",
    "tsne_result = tsne.fit_transform(features)\n",
    "x=[i[0] for i in tsne_result]\n",
    "y=[i[1] for i in tsne_result]\n",
    "\n",
    "#plotting values\n",
    "zero_x=[]\n",
    "one_x=[]\n",
    "two_x=[]\n",
    "three_x=[]\n",
    "\n",
    "zero_y=[]\n",
    "one_y=[]\n",
    "two_y=[]\n",
    "three_y=[]\n",
    "\n",
    "for i in range(len(labels_array)):\n",
    "    if num_labels[i] == 0:\n",
    "        zero_x.append(x[i])\n",
    "        zero_y.append(y[i])\n",
    "    elif num_labels[i] == 1:\n",
    "        one_x.append(x[i])\n",
    "        one_y.append(y[i])\n",
    "    elif num_labels[i] == 2:\n",
    "        two_x.append(x[i])\n",
    "        two_y.append(y[i])\n",
    "    elif num_labels[i] == 3:\n",
    "        three_x.append(x[i])\n",
    "        three_y.append(y[i])\n",
    "        \n",
    "        \n",
    "#plotting\n",
    "plt.scatter(zero_x,zero_y, label='COVID-19', s=15)\n",
    "plt.scatter(one_x,one_y, label='Normal', s=15)\n",
    "plt.scatter(two_x,two_y, label='Pneumonia_bac', s=15)\n",
    "plt.scatter(three_x,three_y, label='Pneumonia_vir', s=15)\n",
    "plt.legend(loc='upper left')\n",
    "plt.show()"
   ]
  },
  {
   "cell_type": "markdown",
   "metadata": {
    "id": "2NN1_CFDpMCT"
   },
   "source": [
    "## SECOND MODEL\n",
    "_____________________________________________________________________"
   ]
  },
  {
   "cell_type": "code",
   "execution_count": null,
   "metadata": {
    "colab": {
     "base_uri": "https://localhost:8080/"
    },
    "id": "yWhDo_K2omYK",
    "outputId": "37dc7659-5816-487e-f151-ec15b4faa964"
   },
   "outputs": [
    {
     "name": "stderr",
     "output_type": "stream",
     "text": [
      "/usr/local/lib/python3.7/dist-packages/keras_preprocessing/image/image_data_generator.py:342: UserWarning: This ImageDataGenerator specifies `zca_whitening` which overrides setting of`featurewise_std_normalization`.\n",
      "  warnings.warn('This ImageDataGenerator specifies '\n"
     ]
    },
    {
     "name": "stdout",
     "output_type": "stream",
     "text": [
      "Found 216 images belonging to 4 classes.\n",
      "Found 54 images belonging to 4 classes.\n",
      "Downloading data from https://storage.googleapis.com/tensorflow/keras-applications/resnet/resnet50_weights_tf_dim_ordering_tf_kernels_notop.h5\n",
      "94773248/94765736 [==============================] - 1s 0us/step\n",
      "Model: \"sequential_2\"\n",
      "_________________________________________________________________\n",
      "Layer (type)                 Output Shape              Param #   \n",
      "=================================================================\n",
      "resnet50 (Functional)        (None, 7, 7, 2048)        23587712  \n",
      "_________________________________________________________________\n",
      "flatten_2 (Flatten)          (None, 100352)            0         \n",
      "_________________________________________________________________\n",
      "feature_dense (Dense)        (None, 256)               25690368  \n",
      "_________________________________________________________________\n",
      "dropout_2 (Dropout)          (None, 256)               0         \n",
      "_________________________________________________________________\n",
      "dense_2 (Dense)              (None, 4)                 1028      \n",
      "=================================================================\n",
      "Total params: 49,279,108\n",
      "Trainable params: 25,691,396\n",
      "Non-trainable params: 23,587,712\n",
      "_________________________________________________________________\n"
     ]
    }
   ],
   "source": [
    "DATA_LIST = os.listdir('/content/drive/MyDrive/all/train')\n",
    "DATASET_PATH  = '/content/drive/MyDrive/all/train'\n",
    "TEST_DIR =  '/content/drive/MyDrive/all/test'\n",
    "IMAGE_SIZE    = (224, 224)\n",
    "NUM_CLASSES   = len(DATA_LIST)\n",
    "BATCH_SIZE    = 10  # try reducing batch size or freeze more layers if your GPU runs out of memory\n",
    "NUM_EPOCHS    = 100\n",
    "LEARNING_RATE = 0.0001 # start off with high rate first 0.001 and experiment with reducing it gradually \n",
    "\n",
    "train_datagen = ImageDataGenerator(rescale=1./255,rotation_range=50,featurewise_center = True,\n",
    "                                   featurewise_std_normalization = True,width_shift_range=0.2,\n",
    "                                   height_shift_range=0.2,shear_range=0.25,zoom_range=0.1,\n",
    "                                   zca_whitening = True,channel_shift_range = 20,\n",
    "                                   horizontal_flip = True,vertical_flip = True,\n",
    "                                   validation_split = 0.2,fill_mode='constant')\n",
    "\n",
    "\n",
    "train_batches = train_datagen.flow_from_directory(DATASET_PATH,target_size=IMAGE_SIZE,\n",
    "                                                  shuffle=False,batch_size=BATCH_SIZE,\n",
    "                                                  subset = \"training\",seed=42,\n",
    "                                                  class_mode=\"categorical\")\n",
    "\n",
    "valid_batches = train_datagen.flow_from_directory(DATASET_PATH,target_size=IMAGE_SIZE,\n",
    "                                                  shuffle=False,batch_size=BATCH_SIZE,\n",
    "                                                  subset = \"validation\",\n",
    "                                                  seed=42,class_mode=\"categorical\")\n",
    "\n",
    "vgg16 = tf.keras.applications.VGG16(weights='imagenet', include_top=False, input_shape = (224,224,3))\n",
    "resnet = tf.keras.applications.ResNet50(weights='imagenet', include_top=False, input_shape = (224,224,3))\n",
    "#vgg19 = tf.keras.applications.VGG19(weights='imagenet', include_top=False, input_shape = (224,224,3))\n",
    "\n",
    "model = tf.keras.models.Sequential([\n",
    "    resnet,\n",
    "    tf.keras.layers.Flatten(),\n",
    "    tf.keras.layers.Dense(256,activation='relu',name='feature_dense'),\n",
    "    tf.keras.layers.Dropout(0.5),\n",
    "    tf.keras.layers.Dense(4,activation='softmax')\n",
    "])\n",
    "resnet.trainable = False\n",
    "model.summary()"
   ]
  },
  {
   "cell_type": "code",
   "execution_count": null,
   "metadata": {
    "colab": {
     "base_uri": "https://localhost:8080/"
    },
    "id": "6G7BQ7_Yo36n",
    "outputId": "1944afbd-0090-4401-dae3-bee088f21e35"
   },
   "outputs": [
    {
     "name": "stdout",
     "output_type": "stream",
     "text": [
      "22\n",
      "6\n"
     ]
    },
    {
     "name": "stderr",
     "output_type": "stream",
     "text": [
      "/usr/local/lib/python3.7/dist-packages/keras_preprocessing/image/image_data_generator.py:720: UserWarning: This ImageDataGenerator specifies `featurewise_center`, but it hasn't been fit on any training data. Fit it first by calling `.fit(numpy_data)`.\n",
      "  warnings.warn('This ImageDataGenerator specifies '\n",
      "/usr/local/lib/python3.7/dist-packages/keras_preprocessing/image/image_data_generator.py:739: UserWarning: This ImageDataGenerator specifies `zca_whitening`, but it hasn't been fit on any training data. Fit it first by calling `.fit(numpy_data)`.\n",
      "  warnings.warn('This ImageDataGenerator specifies '\n"
     ]
    },
    {
     "name": "stdout",
     "output_type": "stream",
     "text": [
      "Epoch 1/100\n",
      "21/21 [==============================] - 11s 388ms/step - loss: 4.9182 - accuracy: 0.2570 - val_loss: 4.7717 - val_accuracy: 0.2000\n",
      "Epoch 2/100\n",
      "21/21 [==============================] - 7s 338ms/step - loss: 3.5806 - accuracy: 0.3073 - val_loss: 1.7655 - val_accuracy: 0.2400\n",
      "Epoch 3/100\n",
      "21/21 [==============================] - 7s 329ms/step - loss: 1.8203 - accuracy: 0.1904 - val_loss: 1.4088 - val_accuracy: 0.2800\n",
      "Epoch 4/100\n",
      "21/21 [==============================] - 7s 334ms/step - loss: 1.4273 - accuracy: 0.2443 - val_loss: 1.3861 - val_accuracy: 0.2800\n",
      "Epoch 5/100\n",
      "21/21 [==============================] - 7s 334ms/step - loss: 1.3864 - accuracy: 0.1199 - val_loss: 1.3863 - val_accuracy: 0.2400\n",
      "Epoch 6/100\n",
      "21/21 [==============================] - 7s 332ms/step - loss: 1.3864 - accuracy: 0.0922 - val_loss: 1.3862 - val_accuracy: 0.2800\n",
      "Epoch 7/100\n",
      "21/21 [==============================] - 7s 334ms/step - loss: 1.3862 - accuracy: 0.3363 - val_loss: 1.3863 - val_accuracy: 0.2800\n",
      "Epoch 8/100\n",
      "21/21 [==============================] - 7s 330ms/step - loss: 1.3993 - accuracy: 0.3066 - val_loss: 1.3898 - val_accuracy: 0.2800\n",
      "Epoch 9/100\n",
      "21/21 [==============================] - 7s 340ms/step - loss: 1.4244 - accuracy: 0.2567 - val_loss: 1.3863 - val_accuracy: 0.2800\n",
      "Epoch 10/100\n",
      "21/21 [==============================] - 7s 329ms/step - loss: 1.3863 - accuracy: 0.2693 - val_loss: 1.3863 - val_accuracy: 0.2800\n",
      "Epoch 11/100\n",
      "21/21 [==============================] - 7s 325ms/step - loss: 1.3863 - accuracy: 0.1839 - val_loss: 1.3863 - val_accuracy: 0.2800\n",
      "Epoch 12/100\n",
      "21/21 [==============================] - 7s 337ms/step - loss: 1.3862 - accuracy: 0.4635 - val_loss: 1.3863 - val_accuracy: 0.2800\n",
      "Epoch 13/100\n",
      "21/21 [==============================] - 7s 317ms/step - loss: 1.3865 - accuracy: 0.1071 - val_loss: 1.3863 - val_accuracy: 0.2000\n",
      "Epoch 14/100\n",
      "21/21 [==============================] - 7s 326ms/step - loss: 1.4287 - accuracy: 0.1787 - val_loss: 1.3863 - val_accuracy: 0.2000\n",
      "Epoch 15/100\n",
      "21/21 [==============================] - 7s 313ms/step - loss: 1.3863 - accuracy: 0.2432 - val_loss: 1.3863 - val_accuracy: 0.2000\n",
      "Epoch 16/100\n",
      "21/21 [==============================] - 7s 331ms/step - loss: 1.3877 - accuracy: 0.2292 - val_loss: 1.3863 - val_accuracy: 0.2000\n",
      "Epoch 17/100\n",
      "21/21 [==============================] - 7s 330ms/step - loss: 1.3863 - accuracy: 0.1466 - val_loss: 1.3863 - val_accuracy: 0.2000\n",
      "Epoch 18/100\n",
      "21/21 [==============================] - 7s 326ms/step - loss: 1.3862 - accuracy: 0.2287 - val_loss: 1.3863 - val_accuracy: 0.2000\n",
      "Epoch 19/100\n",
      "21/21 [==============================] - 7s 335ms/step - loss: 1.3862 - accuracy: 0.0802 - val_loss: 1.3863 - val_accuracy: 0.2000\n",
      "Epoch 20/100\n",
      "21/21 [==============================] - 7s 328ms/step - loss: 1.3864 - accuracy: 0.2436 - val_loss: 1.3864 - val_accuracy: 0.2000\n",
      "Epoch 21/100\n",
      "21/21 [==============================] - 7s 330ms/step - loss: 1.3866 - accuracy: 0.2689 - val_loss: 1.3863 - val_accuracy: 0.2000\n",
      "Epoch 22/100\n",
      "21/21 [==============================] - 7s 328ms/step - loss: 1.3860 - accuracy: 0.4893 - val_loss: 1.3864 - val_accuracy: 0.2000\n",
      "Epoch 23/100\n",
      "21/21 [==============================] - 7s 320ms/step - loss: 1.3864 - accuracy: 0.2784 - val_loss: 1.3863 - val_accuracy: 0.2000\n",
      "Epoch 24/100\n",
      "21/21 [==============================] - 7s 335ms/step - loss: 1.3863 - accuracy: 0.2210 - val_loss: 1.3863 - val_accuracy: 0.2000\n",
      "Epoch 25/100\n",
      "21/21 [==============================] - 7s 328ms/step - loss: 1.3860 - accuracy: 0.3212 - val_loss: 1.3864 - val_accuracy: 0.2000\n",
      "Epoch 26/100\n",
      "21/21 [==============================] - 7s 342ms/step - loss: 1.3858 - accuracy: 0.4104 - val_loss: 1.3864 - val_accuracy: 0.2000\n",
      "Epoch 27/100\n",
      "21/21 [==============================] - 7s 338ms/step - loss: 1.3856 - accuracy: 0.3478 - val_loss: 1.3864 - val_accuracy: 0.2000\n",
      "Epoch 28/100\n",
      "21/21 [==============================] - 7s 343ms/step - loss: 1.3860 - accuracy: 0.3377 - val_loss: 1.3864 - val_accuracy: 0.2000\n",
      "Epoch 29/100\n",
      "21/21 [==============================] - 7s 345ms/step - loss: 1.3860 - accuracy: 0.3361 - val_loss: 1.3864 - val_accuracy: 0.2000\n",
      "Epoch 30/100\n",
      "21/21 [==============================] - 7s 360ms/step - loss: 1.3857 - accuracy: 0.3518 - val_loss: 1.3863 - val_accuracy: 0.2000\n",
      "Epoch 31/100\n",
      "21/21 [==============================] - 7s 338ms/step - loss: 1.3859 - accuracy: 0.2435 - val_loss: 1.3864 - val_accuracy: 0.2000\n",
      "Epoch 32/100\n",
      "21/21 [==============================] - 7s 358ms/step - loss: 1.3856 - accuracy: 0.3469 - val_loss: 1.3864 - val_accuracy: 0.2000\n",
      "Epoch 33/100\n",
      "21/21 [==============================] - 7s 358ms/step - loss: 1.3856 - accuracy: 0.4120 - val_loss: 1.3864 - val_accuracy: 0.2000\n",
      "Epoch 34/100\n",
      "21/21 [==============================] - 7s 328ms/step - loss: 1.3865 - accuracy: 0.2240 - val_loss: 1.3864 - val_accuracy: 0.2000\n",
      "Epoch 35/100\n",
      "21/21 [==============================] - 7s 349ms/step - loss: 1.3862 - accuracy: 0.2967 - val_loss: 1.3864 - val_accuracy: 0.2000\n",
      "Epoch 36/100\n",
      "21/21 [==============================] - 7s 334ms/step - loss: 1.3875 - accuracy: 0.1729 - val_loss: 1.3864 - val_accuracy: 0.2000\n",
      "Epoch 37/100\n",
      "21/21 [==============================] - 7s 339ms/step - loss: 1.3852 - accuracy: 0.4509 - val_loss: 1.3864 - val_accuracy: 0.2000\n",
      "Epoch 38/100\n",
      "21/21 [==============================] - 7s 339ms/step - loss: 1.3876 - accuracy: 0.4035 - val_loss: 1.3864 - val_accuracy: 0.2000\n",
      "Epoch 39/100\n",
      "21/21 [==============================] - 7s 338ms/step - loss: 1.3867 - accuracy: 0.3332 - val_loss: 1.3864 - val_accuracy: 0.2000\n",
      "Epoch 40/100\n",
      "21/21 [==============================] - 7s 329ms/step - loss: 1.3866 - accuracy: 0.1911 - val_loss: 1.3864 - val_accuracy: 0.2000\n",
      "Epoch 41/100\n",
      "21/21 [==============================] - 7s 331ms/step - loss: 1.3869 - accuracy: 0.2236 - val_loss: 1.3865 - val_accuracy: 0.2000\n",
      "Epoch 42/100\n",
      "21/21 [==============================] - 7s 333ms/step - loss: 1.3853 - accuracy: 0.2644 - val_loss: 1.3864 - val_accuracy: 0.2000\n",
      "Epoch 43/100\n",
      "21/21 [==============================] - 7s 340ms/step - loss: 1.3862 - accuracy: 0.2297 - val_loss: 1.3864 - val_accuracy: 0.2000\n",
      "Epoch 44/100\n",
      "21/21 [==============================] - 7s 341ms/step - loss: 1.3852 - accuracy: 0.3810 - val_loss: 1.3864 - val_accuracy: 0.2000\n",
      "Epoch 45/100\n",
      "21/21 [==============================] - 7s 349ms/step - loss: 1.3857 - accuracy: 0.1665 - val_loss: 1.3864 - val_accuracy: 0.2000\n",
      "Epoch 46/100\n",
      "21/21 [==============================] - 7s 349ms/step - loss: 1.3869 - accuracy: 0.1957 - val_loss: 1.3864 - val_accuracy: 0.2000\n",
      "Epoch 47/100\n",
      "21/21 [==============================] - 7s 344ms/step - loss: 1.3863 - accuracy: 0.1368 - val_loss: 1.3864 - val_accuracy: 0.2000\n",
      "Epoch 48/100\n",
      "21/21 [==============================] - 7s 343ms/step - loss: 1.3853 - accuracy: 0.4278 - val_loss: 1.3864 - val_accuracy: 0.2000\n",
      "Epoch 49/100\n",
      "21/21 [==============================] - 7s 347ms/step - loss: 1.3852 - accuracy: 0.3311 - val_loss: 1.3864 - val_accuracy: 0.2000\n",
      "Epoch 50/100\n",
      "21/21 [==============================] - 7s 332ms/step - loss: 1.3869 - accuracy: 0.2281 - val_loss: 1.3865 - val_accuracy: 0.2000\n",
      "Epoch 51/100\n",
      "21/21 [==============================] - 7s 333ms/step - loss: 1.3868 - accuracy: 0.2140 - val_loss: 1.3865 - val_accuracy: 0.2000\n",
      "Epoch 52/100\n",
      "21/21 [==============================] - 7s 339ms/step - loss: 1.3861 - accuracy: 0.1505 - val_loss: 1.3865 - val_accuracy: 0.2000\n",
      "Epoch 53/100\n",
      "21/21 [==============================] - 7s 342ms/step - loss: 1.3915 - accuracy: 0.3497 - val_loss: 1.5499 - val_accuracy: 0.2800\n",
      "Epoch 54/100\n",
      "21/21 [==============================] - 7s 335ms/step - loss: 1.5016 - accuracy: 0.2943 - val_loss: 1.3864 - val_accuracy: 0.2000\n",
      "Epoch 55/100\n",
      "21/21 [==============================] - 7s 344ms/step - loss: 1.3848 - accuracy: 0.3439 - val_loss: 1.3865 - val_accuracy: 0.2000\n",
      "Epoch 56/100\n",
      "21/21 [==============================] - 7s 323ms/step - loss: 1.3881 - accuracy: 0.0956 - val_loss: 1.3864 - val_accuracy: 0.2000\n",
      "Epoch 57/100\n",
      "21/21 [==============================] - 7s 343ms/step - loss: 1.3856 - accuracy: 0.3415 - val_loss: 1.3865 - val_accuracy: 0.2000\n",
      "Epoch 58/100\n",
      "21/21 [==============================] - 7s 348ms/step - loss: 1.3854 - accuracy: 0.2312 - val_loss: 1.3865 - val_accuracy: 0.2000\n",
      "Epoch 59/100\n",
      "21/21 [==============================] - 7s 343ms/step - loss: 1.3859 - accuracy: 0.3244 - val_loss: 1.3865 - val_accuracy: 0.2000\n",
      "Epoch 60/100\n",
      "21/21 [==============================] - 7s 339ms/step - loss: 1.3868 - accuracy: 0.1991 - val_loss: 1.3864 - val_accuracy: 0.2000\n",
      "Epoch 61/100\n",
      "21/21 [==============================] - 7s 337ms/step - loss: 1.3858 - accuracy: 0.2546 - val_loss: 1.3865 - val_accuracy: 0.2000\n",
      "Epoch 62/100\n",
      "21/21 [==============================] - 7s 337ms/step - loss: 1.3849 - accuracy: 0.2826 - val_loss: 1.3865 - val_accuracy: 0.2000\n",
      "Epoch 63/100\n",
      "21/21 [==============================] - 7s 337ms/step - loss: 1.3866 - accuracy: 0.2015 - val_loss: 1.3865 - val_accuracy: 0.2000\n",
      "Epoch 64/100\n",
      "21/21 [==============================] - 7s 336ms/step - loss: 1.3956 - accuracy: 0.2416 - val_loss: 1.3865 - val_accuracy: 0.2000\n",
      "Epoch 65/100\n",
      "21/21 [==============================] - 7s 345ms/step - loss: 1.3851 - accuracy: 0.2262 - val_loss: 1.3863 - val_accuracy: 0.2000\n",
      "Epoch 66/100\n",
      "21/21 [==============================] - 7s 340ms/step - loss: 1.3899 - accuracy: 0.2287 - val_loss: 1.3865 - val_accuracy: 0.2000\n",
      "Epoch 67/100\n",
      "21/21 [==============================] - 7s 328ms/step - loss: 1.3851 - accuracy: 0.1911 - val_loss: 1.3865 - val_accuracy: 0.2000\n",
      "Epoch 68/100\n",
      "21/21 [==============================] - 7s 338ms/step - loss: 1.3840 - accuracy: 0.3534 - val_loss: 1.3865 - val_accuracy: 0.2000\n",
      "Epoch 69/100\n",
      "21/21 [==============================] - 7s 334ms/step - loss: 1.3847 - accuracy: 0.2596 - val_loss: 1.3865 - val_accuracy: 0.2000\n",
      "Epoch 70/100\n",
      "21/21 [==============================] - 7s 313ms/step - loss: 1.3876 - accuracy: 0.3109 - val_loss: 1.3865 - val_accuracy: 0.2000\n",
      "Epoch 71/100\n",
      "21/21 [==============================] - 7s 344ms/step - loss: 1.3848 - accuracy: 0.3220 - val_loss: 1.3865 - val_accuracy: 0.2000\n",
      "Epoch 72/100\n",
      "21/21 [==============================] - 7s 337ms/step - loss: 1.3873 - accuracy: 0.1757 - val_loss: 1.3865 - val_accuracy: 0.2000\n",
      "Epoch 73/100\n",
      "21/21 [==============================] - 7s 337ms/step - loss: 1.3864 - accuracy: 0.1348 - val_loss: 1.3865 - val_accuracy: 0.2000\n",
      "Epoch 74/100\n",
      "21/21 [==============================] - 7s 333ms/step - loss: 1.3865 - accuracy: 0.1524 - val_loss: 1.3865 - val_accuracy: 0.2000\n",
      "Epoch 75/100\n",
      "21/21 [==============================] - 7s 337ms/step - loss: 1.3837 - accuracy: 0.3597 - val_loss: 1.3865 - val_accuracy: 0.2000\n",
      "Epoch 76/100\n",
      "21/21 [==============================] - 7s 339ms/step - loss: 1.3847 - accuracy: 0.3846 - val_loss: 1.3865 - val_accuracy: 0.2000\n",
      "Epoch 77/100\n",
      "21/21 [==============================] - 7s 329ms/step - loss: 1.3844 - accuracy: 0.3557 - val_loss: 1.3865 - val_accuracy: 0.2000\n",
      "Epoch 78/100\n",
      "21/21 [==============================] - 7s 334ms/step - loss: 1.3860 - accuracy: 0.2316 - val_loss: 1.3865 - val_accuracy: 0.2000\n",
      "Epoch 79/100\n",
      "21/21 [==============================] - 7s 341ms/step - loss: 1.3838 - accuracy: 0.3575 - val_loss: 1.3865 - val_accuracy: 0.2000\n",
      "Epoch 80/100\n",
      "21/21 [==============================] - 7s 337ms/step - loss: 1.3861 - accuracy: 0.2205 - val_loss: 1.3865 - val_accuracy: 0.2000\n",
      "Epoch 81/100\n",
      "21/21 [==============================] - 7s 339ms/step - loss: 1.3860 - accuracy: 0.2412 - val_loss: 1.3865 - val_accuracy: 0.2000\n",
      "Epoch 82/100\n",
      "21/21 [==============================] - 7s 336ms/step - loss: 1.3832 - accuracy: 0.4118 - val_loss: 1.3865 - val_accuracy: 0.2000\n",
      "Epoch 83/100\n",
      "21/21 [==============================] - 7s 339ms/step - loss: 1.3847 - accuracy: 0.2305 - val_loss: 1.3865 - val_accuracy: 0.2000\n",
      "Epoch 84/100\n",
      "21/21 [==============================] - 7s 334ms/step - loss: 1.3858 - accuracy: 0.2247 - val_loss: 1.3865 - val_accuracy: 0.2000\n",
      "Epoch 85/100\n",
      "21/21 [==============================] - 7s 331ms/step - loss: 1.3889 - accuracy: 0.2582 - val_loss: 1.3866 - val_accuracy: 0.2000\n",
      "Epoch 86/100\n",
      "21/21 [==============================] - 7s 339ms/step - loss: 1.3835 - accuracy: 0.3761 - val_loss: 1.3866 - val_accuracy: 0.2000\n",
      "Epoch 87/100\n",
      "21/21 [==============================] - 7s 335ms/step - loss: 1.3853 - accuracy: 0.4072 - val_loss: 1.3866 - val_accuracy: 0.2000\n",
      "Epoch 88/100\n",
      "21/21 [==============================] - 7s 342ms/step - loss: 1.3837 - accuracy: 0.3140 - val_loss: 1.3866 - val_accuracy: 0.2000\n",
      "Epoch 89/100\n",
      "21/21 [==============================] - 7s 337ms/step - loss: 1.3852 - accuracy: 0.2144 - val_loss: 1.3866 - val_accuracy: 0.2000\n",
      "Epoch 90/100\n",
      "21/21 [==============================] - 7s 327ms/step - loss: 1.3891 - accuracy: 0.1282 - val_loss: 1.3866 - val_accuracy: 0.2000\n",
      "Epoch 91/100\n",
      "21/21 [==============================] - 7s 335ms/step - loss: 1.3882 - accuracy: 0.1922 - val_loss: 1.3866 - val_accuracy: 0.2000\n",
      "Epoch 92/100\n",
      "21/21 [==============================] - 7s 336ms/step - loss: 1.3853 - accuracy: 0.3423 - val_loss: 1.3866 - val_accuracy: 0.2000\n",
      "Epoch 93/100\n",
      "21/21 [==============================] - 7s 341ms/step - loss: 1.3873 - accuracy: 0.1936 - val_loss: 1.3866 - val_accuracy: 0.2000\n",
      "Epoch 94/100\n",
      "21/21 [==============================] - 7s 335ms/step - loss: 1.3867 - accuracy: 0.2469 - val_loss: 1.3866 - val_accuracy: 0.2000\n",
      "Epoch 95/100\n",
      "21/21 [==============================] - 7s 339ms/step - loss: 1.3864 - accuracy: 0.2011 - val_loss: 1.3866 - val_accuracy: 0.2000\n",
      "Epoch 96/100\n",
      "21/21 [==============================] - 7s 343ms/step - loss: 1.3869 - accuracy: 0.3039 - val_loss: 1.3866 - val_accuracy: 0.2000\n",
      "Epoch 97/100\n",
      "21/21 [==============================] - 7s 342ms/step - loss: 1.3856 - accuracy: 0.1274 - val_loss: 1.3866 - val_accuracy: 0.2000\n",
      "Epoch 98/100\n",
      "21/21 [==============================] - 7s 322ms/step - loss: 1.3901 - accuracy: 0.1846 - val_loss: 1.3866 - val_accuracy: 0.2000\n",
      "Epoch 99/100\n",
      "21/21 [==============================] - 7s 343ms/step - loss: 1.3855 - accuracy: 0.3263 - val_loss: 1.3866 - val_accuracy: 0.2000\n",
      "Epoch 100/100\n",
      "21/21 [==============================] - 7s 339ms/step - loss: 1.3833 - accuracy: 0.3022 - val_loss: 1.3866 - val_accuracy: 0.2000\n"
     ]
    }
   ],
   "source": [
    "#FIT MODEL\n",
    "print(len(train_batches))\n",
    "print(len(valid_batches))\n",
    "\n",
    "STEP_SIZE_TRAIN=train_batches.n//train_batches.batch_size\n",
    "STEP_SIZE_VALID=valid_batches.n//valid_batches.batch_size\n",
    "\n",
    "opt = tf.keras.optimizers.Adam(learning_rate=LEARNING_RATE)\n",
    "model.compile(optimizer=opt,\n",
    "                loss=tf.keras.losses.CategoricalCrossentropy(from_logits=True),\n",
    "                metrics=['accuracy'])\n",
    "history = model.fit(train_batches, epochs=100, validation_data=valid_batches,batch_size=5, \n",
    "                    steps_per_epoch=STEP_SIZE_TRAIN, validation_steps = STEP_SIZE_VALID)"
   ]
  },
  {
   "cell_type": "code",
   "execution_count": null,
   "metadata": {
    "colab": {
     "base_uri": "https://localhost:8080/",
     "height": 545
    },
    "id": "o5sOT1LepDX4",
    "outputId": "d55373a2-5a4d-4a5d-ae9d-5cdbc522d99e"
   },
   "outputs": [
    {
     "data": {
      "image/png": "[encoded data removed]",
      "text/plain": [
       "<Figure size 432x288 with 1 Axes>"
      ]
     },
     "metadata": {
      "needs_background": "light",
      "tags": []
     },
     "output_type": "display_data"
    },
    {
     "data": {
      "image/png": "[encoded data removed]",
      "text/plain": [
       "<Figure size 432x288 with 1 Axes>"
      ]
     },
     "metadata": {
      "needs_background": "light",
      "tags": []
     },
     "output_type": "display_data"
    }
   ],
   "source": [
    "import matplotlib.pyplot as plt\n",
    "\n",
    "plt.title('Accuracy over 100 Epochs')\n",
    "plt.plot(history.history['accuracy'], label='Train_acc')\n",
    "plt.plot(history.history['val_accuracy'], label = 'Test_acc')\n",
    "plt.legend(loc='upper left')\n",
    "plt.grid(True)\n",
    "plt.show()\n",
    "\n",
    "plt.title('Loss over 100 Epochs')\n",
    "plt.plot(history.history['loss'], label='Train_loss')\n",
    "plt.plot(history.history['val_loss'], label = 'Test_loss')\n",
    "plt.legend(loc='upper right')\n",
    "plt.grid(True)\n",
    "plt.show()"
   ]
  },
  {
   "cell_type": "code",
   "execution_count": null,
   "metadata": {
    "colab": {
     "base_uri": "https://localhost:8080/"
    },
    "id": "tlSSkeHopEBe",
    "outputId": "38107804-0b73-4a9e-bbdb-9131b625ae2d"
   },
   "outputs": [
    {
     "name": "stdout",
     "output_type": "stream",
     "text": [
      "Found 36 images belonging to 4 classes.\n",
      "36\n",
      " 2/36 [>.............................] - ETA: 2s - loss: 0.3269 - accuracy: 1.0000"
     ]
    },
    {
     "name": "stderr",
     "output_type": "stream",
     "text": [
      "/usr/local/lib/python3.7/dist-packages/tensorflow/python/keras/engine/training.py:1877: UserWarning: `Model.evaluate_generator` is deprecated and will be removed in a future version. Please use `Model.evaluate`, which supports generators.\n",
      "  warnings.warn('`Model.evaluate_generator` is deprecated and '\n"
     ]
    },
    {
     "name": "stdout",
     "output_type": "stream",
     "text": [
      "36/36 [==============================] - 1s 26ms/step - loss: 0.8772 - accuracy: 0.6111\n",
      "Test loss: 0.8772103786468506\n",
      "Test accuracy: 0.6111111044883728\n"
     ]
    }
   ],
   "source": [
    "vgg16.trainable = True\n",
    "test_datagen = ImageDataGenerator(rescale=1. / 255)\n",
    "\n",
    "eval_generator = test_datagen.flow_from_directory(TEST_DIR,target_size=IMAGE_SIZE,\n",
    "                                                  batch_size=1,shuffle=False,seed=42,class_mode=\"categorical\")\n",
    "eval_generator.reset()\n",
    "print(len(eval_generator))\n",
    "x = model.evaluate_generator(eval_generator,steps = np.ceil(len(eval_generator)),\n",
    "                           use_multiprocessing = False,verbose = 1,workers=1)\n",
    "print('Test loss:' , x[0])\n",
    "print('Test accuracy:',x[1])"
   ]
  }
 ],
 "metadata": {
  "accelerator": "GPU",
  "colab": {
   "collapsed_sections": [],
   "name": "colab.ipynb",
   "provenance": []
  },
  "kernelspec": {
   "display_name": "Python 3",
   "language": "python",
   "name": "python3"
  },
  "language_info": {
   "codemirror_mode": {
    "name": "ipython",
    "version": 3
   },
   "file_extension": ".py",
   "mimetype": "text/x-python",
   "name": "python",
   "nbconvert_exporter": "python",
   "pygments_lexer": "ipython3",
   "version": "3.7.3"
  }
 },
 "nbformat": 4,
 "nbformat_minor": 1
}
